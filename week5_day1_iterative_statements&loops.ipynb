{
 "cells": [
  {
   "cell_type": "markdown",
   "id": "b89d3844-2a43-4f02-927b-13e1bdf3c253",
   "metadata": {},
   "source": [
    "# ITERATIVE STATEMENTS"
   ]
  },
  {
   "cell_type": "code",
   "execution_count": 10,
   "id": "d89ca640-2dc7-42ac-9453-dd1d4b38db08",
   "metadata": {},
   "outputs": [
    {
     "name": "stdout",
     "output_type": "stream",
     "text": [
      "1\n",
      "python\n",
      "2\n",
      "python\n",
      "3\n",
      "python\n",
      "4\n",
      "python\n",
      "code exeuted\n"
     ]
    }
   ],
   "source": [
    "#while loop\n",
    "#while(condition):\n",
    "#   body of while\n",
    "#outside body of while\n",
    "i=1\n",
    "while i<5:\n",
    "    print(i)\n",
    "    print(\"python\")\n",
    "    i+=1\n",
    "print(\"code exeuted\")"
   ]
  },
  {
   "cell_type": "code",
   "execution_count": 12,
   "id": "d57cd751-5c40-4f00-9266-c5d1dfa1c73f",
   "metadata": {},
   "outputs": [
    {
     "name": "stdin",
     "output_type": "stream",
     "text": [
      "Enter a number: 12\n"
     ]
    },
    {
     "name": "stdout",
     "output_type": "stream",
     "text": [
      "12 * 1 = 12\n",
      "12 * 2 = 24\n",
      "12 * 3 = 36\n",
      "12 * 4 = 48\n",
      "12 * 5 = 60\n",
      "12 * 6 = 72\n",
      "12 * 7 = 84\n",
      "12 * 8 = 96\n",
      "12 * 9 = 108\n",
      "12 * 10 = 120\n",
      "code executed\n"
     ]
    }
   ],
   "source": [
    "#table \n",
    "number = int(input(\"Enter a number:\"))\n",
    "i=1\n",
    "while i<=10:\n",
    "    print(number,\"*\",i,\"=\",number*i)\n",
    "    i+=1\n",
    "print(\"code executed\")"
   ]
  },
  {
   "cell_type": "code",
   "execution_count": 18,
   "id": "77289430-fb46-483c-874d-5a65d3aab547",
   "metadata": {},
   "outputs": [
    {
     "name": "stdout",
     "output_type": "stream",
     "text": [
      "1\n",
      "2\n",
      "3\n",
      "4\n",
      "5\n"
     ]
    }
   ],
   "source": [
    "#break(using if in while)\n",
    "i=1\n",
    "while i<=10:\n",
    "    print(i)\n",
    "    if i==5:\n",
    "        break\n",
    "    i+=1"
   ]
  },
  {
   "cell_type": "code",
   "execution_count": 28,
   "id": "ae41d0f6-1a2a-42cb-a86e-bc2f10ee56f3",
   "metadata": {},
   "outputs": [
    {
     "name": "stdout",
     "output_type": "stream",
     "text": [
      "1\n",
      "2\n",
      "3\n",
      "4\n",
      "5\n",
      "6\n"
     ]
    }
   ],
   "source": [
    "#stopping in condition\n",
    "i=1\n",
    "while (i<10 and i!=7):\n",
    "    print(i)\n",
    "    i+=1"
   ]
  },
  {
   "cell_type": "code",
   "execution_count": 34,
   "id": "e0aafc05-1e56-4ab6-b81d-af650df554c0",
   "metadata": {},
   "outputs": [
    {
     "name": "stdout",
     "output_type": "stream",
     "text": [
      "1\n",
      "2\n",
      "3\n",
      "4\n",
      "5\n",
      "6\n",
      "8\n",
      "9\n",
      "10\n"
     ]
    }
   ],
   "source": [
    "#skipping a value in while\n",
    "i=1\n",
    "while i<=10:\n",
    "    if i!=7:\n",
    "        print(i)\n",
    "    i+=1"
   ]
  },
  {
   "cell_type": "code",
   "execution_count": 52,
   "id": "a815da87-ada7-4969-a543-de4a5c8fc444",
   "metadata": {},
   "outputs": [
    {
     "name": "stdout",
     "output_type": "stream",
     "text": [
      "10\n",
      "20\n",
      "30\n",
      "40\n",
      "60\n",
      "70\n",
      "80\n"
     ]
    }
   ],
   "source": [
    "#continue\n",
    "num = 0\n",
    "while num<=100:\n",
    "    num=num+10\n",
    "    if num==50:\n",
    "        continue\n",
    "    if num==90:\n",
    "        break\n",
    "    print(num)"
   ]
  },
  {
   "cell_type": "code",
   "execution_count": 7,
   "id": "fcc178d1-5b43-4346-a9d5-9f253565a3e5",
   "metadata": {},
   "outputs": [
    {
     "name": "stdin",
     "output_type": "stream",
     "text": [
      "Please enter your 4 digit pin: 1234\n"
     ]
    },
    {
     "name": "stdout",
     "output_type": "stream",
     "text": [
      "Select one option\n"
     ]
    },
    {
     "name": "stdin",
     "output_type": "stream",
     "text": [
      "\n",
      "    1 Cash Withdrawal\n",
      "    2 Balance Inquiry\n",
      "     1\n",
      "Please enter the amount you want to withdraw: 6000\n"
     ]
    },
    {
     "name": "stdout",
     "output_type": "stream",
     "text": [
      "Withdrawal Successful. Yout remaining balance is: Rs. 4000\n"
     ]
    }
   ],
   "source": [
    "#atm\n",
    "pin = 1234\n",
    "balance = 10000\n",
    "entered_pin = int(input(\"Please enter your 4 digit pin:\"))\n",
    "\n",
    "if entered_pin==pin:\n",
    "    print(\"Select one option\")\n",
    "    option = input('''\n",
    "    1 Cash Withdrawal\n",
    "    2 Balance Inquiry\n",
    "    ''')\n",
    "    if option=='1':\n",
    "        withdrawal = int(input(\"Please enter the amount you want to withdraw:\"))\n",
    "        if withdrawal<=balance:\n",
    "            if withdrawal%10==0:\n",
    "                balance-=withdrawal\n",
    "                print(\"Withdrawal Successful. Yout remaining balance is: Rs.\",balance)\n",
    "            else:\n",
    "                print(\"Your amount must be multiple of 10\")\n",
    "        else:\n",
    "            print(\"Insufficient Balance\")\n",
    "    elif option=='2':\n",
    "        print(\"Your account balance is: Rs.\",balance)\n",
    "    else:\n",
    "        print(\"Invalid option\")\n",
    "else:\n",
    "    print(\"Incorrect pin\")"
   ]
  },
  {
   "cell_type": "code",
   "execution_count": null,
   "id": "253d4e99-f05d-4185-9ddd-416e66efe641",
   "metadata": {},
   "outputs": [],
   "source": []
  }
 ],
 "metadata": {
  "kernelspec": {
   "display_name": "Python 3 (ipykernel)",
   "language": "python",
   "name": "python3"
  },
  "language_info": {
   "codemirror_mode": {
    "name": "ipython",
    "version": 3
   },
   "file_extension": ".py",
   "mimetype": "text/x-python",
   "name": "python",
   "nbconvert_exporter": "python",
   "pygments_lexer": "ipython3",
   "version": "3.12.4"
  }
 },
 "nbformat": 4,
 "nbformat_minor": 5
}
