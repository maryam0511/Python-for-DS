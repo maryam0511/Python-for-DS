{
 "cells": [
  {
   "cell_type": "code",
   "execution_count": 5,
   "id": "5dc45644-f2a5-41b2-a937-902064dc55f4",
   "metadata": {},
   "outputs": [
    {
     "name": "stdout",
     "output_type": "stream",
     "text": [
      "Original List: [2, 3, 4, 5]\n"
     ]
    },
    {
     "data": {
      "text/plain": [
       "[8, 27, 64, 125]"
      ]
     },
     "execution_count": 5,
     "metadata": {},
     "output_type": "execute_result"
    }
   ],
   "source": [
    "#squares\n",
    "def square(num_list):\n",
    "    emp_list = []\n",
    "    for num in num_list:\n",
    "        emp_list.append(num**3)\n",
    "    return emp_list\n",
    "num_list = [2,3,4,5]\n",
    "print(\"Original List:\",num_list)\n",
    "square(num_list)\n",
    "    \n",
    "    "
   ]
  },
  {
   "cell_type": "code",
   "execution_count": 15,
   "id": "e85b2270-8d53-4bd6-964d-31ac85f34e80",
   "metadata": {},
   "outputs": [
    {
     "name": "stdout",
     "output_type": "stream",
     "text": [
      "Original List [1, 2, 3, 4, 5]\n"
     ]
    },
    {
     "data": {
      "text/plain": [
       "15"
      ]
     },
     "execution_count": 15,
     "metadata": {},
     "output_type": "execute_result"
    }
   ],
   "source": [
    "#sum\n",
    "\n",
    "def sum(num_list):\n",
    "    sum=0\n",
    "    for i in num_list:\n",
    "        sum=sum+i\n",
    "    return sum\n",
    "num_list=[1,2,3,4,5]\n",
    "print(\"Original List\",num_list)\n",
    "sum(num_list)"
   ]
  },
  {
   "cell_type": "code",
   "execution_count": 21,
   "id": "0f93e667-71d4-4ae0-85b0-31fce0cc6eed",
   "metadata": {},
   "outputs": [
    {
     "data": {
      "text/plain": [
       "120"
      ]
     },
     "execution_count": 21,
     "metadata": {},
     "output_type": "execute_result"
    }
   ],
   "source": [
    "def product(num_list):\n",
    "    product=1\n",
    "    for i in num_list:\n",
    "        product*=i\n",
    "    return product\n",
    "num_list=(1,2,3,4,5)\n",
    "product(num_list)"
   ]
  },
  {
   "cell_type": "code",
   "execution_count": 27,
   "id": "f2f36e2c-9b40-4882-b695-8234853ab3a0",
   "metadata": {},
   "outputs": [
    {
     "name": "stdout",
     "output_type": "stream",
     "text": [
      "Inavlid Syntax\n"
     ]
    }
   ],
   "source": [
    "\n",
    "def valid_even(num):\n",
    "    if type(num)==int:\n",
    "        if num%2==0:\n",
    "            print(\"Even\")\n",
    "        else:\n",
    "            print(\"Odd\")\n",
    "    else:\n",
    "        print(\"Inavlid Syntax\")\n",
    "    return\n",
    "valid_even('m')"
   ]
  },
  {
   "cell_type": "code",
   "execution_count": 29,
   "id": "7966ac18-4659-476c-87a0-2b4c6148b288",
   "metadata": {},
   "outputs": [
    {
     "name": "stdout",
     "output_type": "stream",
     "text": [
      "Odd\n",
      "Even\n",
      "Odd\n",
      "Even\n",
      "Odd\n",
      "Even\n",
      "Odd\n",
      "Even\n",
      "Odd\n",
      "Even\n"
     ]
    }
   ],
   "source": [
    "for i in range(1,11):\n",
    "    valid_even(i)"
   ]
  },
  {
   "cell_type": "markdown",
   "id": "782b163e-574f-4430-855f-287052404489",
   "metadata": {},
   "source": [
    "## TYPES OF ARGUMENTS"
   ]
  },
  {
   "cell_type": "code",
   "execution_count": 13,
   "id": "360223d5-7ed5-4530-b9b4-32f8e15194b6",
   "metadata": {},
   "outputs": [],
   "source": [
    "#Default Aruguments\n",
    "#Positional Arguments\n",
    "#Keyword Arguments"
   ]
  },
  {
   "cell_type": "code",
   "execution_count": 23,
   "id": "a84c5084-74eb-4257-9ee1-a6bf67e3fba3",
   "metadata": {},
   "outputs": [
    {
     "data": {
      "text/plain": [
       "9"
      ]
     },
     "execution_count": 23,
     "metadata": {},
     "output_type": "execute_result"
    }
   ],
   "source": [
    "#Default\n",
    "def power(a=1,b=1):\n",
    "    return a**b\n",
    "pow(3,2)"
   ]
  },
  {
   "cell_type": "code",
   "execution_count": 25,
   "id": "0f627f79-608d-42d5-ac96-e8d001b81634",
   "metadata": {},
   "outputs": [
    {
     "ename": "TypeError",
     "evalue": "pow() missing required argument 'base' (pos 1)",
     "output_type": "error",
     "traceback": [
      "\u001b[1;31m---------------------------------------------------------------------------\u001b[0m",
      "\u001b[1;31mTypeError\u001b[0m                                 Traceback (most recent call last)",
      "Cell \u001b[1;32mIn[25], line 1\u001b[0m\n\u001b[1;32m----> 1\u001b[0m \u001b[38;5;28mpow\u001b[39m( )\n",
      "\u001b[1;31mTypeError\u001b[0m: pow() missing required argument 'base' (pos 1)"
     ]
    }
   ],
   "source": [
    "pow( )"
   ]
  },
  {
   "cell_type": "code",
   "execution_count": 27,
   "id": "f9ffe47f-32cd-4a8a-8911-1686901b1bf7",
   "metadata": {},
   "outputs": [
    {
     "data": {
      "text/plain": [
       "8"
      ]
     },
     "execution_count": 27,
     "metadata": {},
     "output_type": "execute_result"
    }
   ],
   "source": [
    "#Positional\n",
    "power(b=3,a=2)"
   ]
  },
  {
   "cell_type": "code",
   "execution_count": 31,
   "id": "bb7d5fb8-4ba0-40cd-bac4-a0c841ead57c",
   "metadata": {},
   "outputs": [],
   "source": [
    "#Keyword\n",
    "def power(c=3.8,b=1):\n",
    "    return c**b"
   ]
  },
  {
   "cell_type": "code",
   "execution_count": 31,
   "id": "96626e54-b05a-4f64-abc5-6685b95f6582",
   "metadata": {},
   "outputs": [],
   "source": [
    "# *args *keywargs\n"
   ]
  },
  {
   "cell_type": "code",
   "execution_count": 33,
   "id": "1bb46f65-4dd3-4e23-8a5e-7d2921ae05ab",
   "metadata": {},
   "outputs": [],
   "source": [
    "def product(*args):\n",
    "    product=1\n",
    "    for i in args:\n",
    "        product*=i\n",
    "    print(args)\n",
    "    return product\n"
   ]
  },
  {
   "cell_type": "code",
   "execution_count": 35,
   "id": "16d5afab-6752-485e-80d5-9228d484d7f9",
   "metadata": {},
   "outputs": [
    {
     "name": "stdout",
     "output_type": "stream",
     "text": [
      "(1, 2, 3, 4, 5, 6, 7, 8)\n"
     ]
    },
    {
     "data": {
      "text/plain": [
       "40320"
      ]
     },
     "execution_count": 35,
     "metadata": {},
     "output_type": "execute_result"
    }
   ],
   "source": [
    "product(1,2,3,4,5,6,7,8)"
   ]
  },
  {
   "cell_type": "code",
   "execution_count": 3,
   "id": "e4e8b49e-b0dc-4c50-ba35-f9f250dcf32a",
   "metadata": {},
   "outputs": [
    {
     "name": "stdin",
     "output_type": "stream",
     "text": [
      "Enter your name: maryam\n",
      "Enter your age: 24\n",
      "Enter your gender: f\n",
      "Enter your occupation: s\n"
     ]
    },
    {
     "name": "stdout",
     "output_type": "stream",
     "text": [
      "('maryam', '24', 'f', 's')\n"
     ]
    }
   ],
   "source": [
    "def profile(*args):\n",
    "   # print(\"------------------\")\n",
    "    #print(\"Name:\",name)\n",
    "    #print(\"Age:\",age)\n",
    "    #print(\"Gender:\",gender)\n",
    "    #print(\"Occupation:\",occupation)\n",
    "    #print(\"--------------------\")\n",
    "    #return\n",
    "    print(args)\n",
    "name = input(\"Enter your name:\")\n",
    "age = input(\"Enter your age:\")\n",
    "gender = input(\"Enter your gender:\")\n",
    "occupation = input(\"Enter your occupation:\")\n",
    "profile(name,age,gender,occupation)"
   ]
  },
  {
   "cell_type": "code",
   "execution_count": 9,
   "id": "1be7b39a-c06a-45b6-9601-024074a5a63a",
   "metadata": {},
   "outputs": [
    {
     "name": "stdin",
     "output_type": "stream",
     "text": [
      "Enter your name: maryam\n",
      "Enter your age: 24\n",
      "Enter your gender: female\n",
      "Enter your occupation: student\n"
     ]
    },
    {
     "name": "stdout",
     "output_type": "stream",
     "text": [
      "name ----> maryam\n",
      "age ----> 24\n",
      "gender ----> female\n",
      "occupation ----> student\n"
     ]
    }
   ],
   "source": [
    "def profile(**kwargs):\n",
    "    for key,value in kwargs.items():\n",
    "        print(key,'---->',value)\n",
    "name = input(\"Enter your name:\")\n",
    "age = input(\"Enter your age:\")\n",
    "gender = input(\"Enter your gender:\")\n",
    "occupation = input(\"Enter your occupation:\")\n",
    "profile(name=name,age=age,gender=gender,occupation=occupation)"
   ]
  },
  {
   "cell_type": "code",
   "execution_count": 17,
   "id": "abdc9504-9bff-4907-9067-e52f1f9204a2",
   "metadata": {},
   "outputs": [],
   "source": [
    "def countries_capitals(**kwargs):\n",
    "    for key,value in kwargs.items():\n",
    "        print(key,'--->',value)\n",
    "#countries_capitals(Pakistan='Islamabad',India='Delhi',Bangladesh='Dhaka')"
   ]
  },
  {
   "cell_type": "code",
   "execution_count": 19,
   "id": "aef824fa-67c7-474d-ad94-f6ba15541a98",
   "metadata": {},
   "outputs": [
    {
     "name": "stdout",
     "output_type": "stream",
     "text": [
      "Pakistan ---> Islamabad\n",
      "India ---> Delhi\n",
      "Bangladesh ---> Dhaka\n"
     ]
    }
   ],
   "source": [
    "countries_capitals(Pakistan='Islamabad',India='Delhi',Bangladesh='Dhaka')"
   ]
  },
  {
   "cell_type": "code",
   "execution_count": 9,
   "id": "4fc35a23-df0a-4583-af08-27326a7109a7",
   "metadata": {},
   "outputs": [
    {
     "name": "stdin",
     "output_type": "stream",
     "text": [
      "Enter your name: maryam\n",
      "Enter your age: 24\n",
      "Enter your gender: female\n",
      "Enter your occupation: student\n"
     ]
    },
    {
     "name": "stdout",
     "output_type": "stream",
     "text": [
      "name ----> maryam\n",
      "age ----> 24\n",
      "gender ----> female\n",
      "occupation ----> student\n"
     ]
    }
   ],
   "source": [
    "def profile(**maryam):\n",
    "    for key,value in maryam.items():\n",
    "        print(key,'---->',value)\n",
    "name = input(\"Enter your name:\")\n",
    "age = input(\"Enter your age:\")\n",
    "gender = input(\"Enter your gender:\")\n",
    "occupation = input(\"Enter your occupation:\")\n",
    "profile(name=name,age=age,gender=gender,occupation=occupation)"
   ]
  },
  {
   "cell_type": "code",
   "execution_count": 23,
   "id": "b4a21761-de44-4454-b063-75ddad83e62c",
   "metadata": {},
   "outputs": [
    {
     "name": "stdout",
     "output_type": "stream",
     "text": [
      "University ----> Karachi University\n"
     ]
    }
   ],
   "source": [
    "profile(University=\"Karachi University\")"
   ]
  },
  {
   "cell_type": "code",
   "execution_count": null,
   "id": "3e6c8947-3c87-4198-9f7a-62c353778a6b",
   "metadata": {},
   "outputs": [],
   "source": []
  }
 ],
 "metadata": {
  "kernelspec": {
   "display_name": "Python 3 (ipykernel)",
   "language": "python",
   "name": "python3"
  },
  "language_info": {
   "codemirror_mode": {
    "name": "ipython",
    "version": 3
   },
   "file_extension": ".py",
   "mimetype": "text/x-python",
   "name": "python",
   "nbconvert_exporter": "python",
   "pygments_lexer": "ipython3",
   "version": "3.12.4"
  }
 },
 "nbformat": 4,
 "nbformat_minor": 5
}
