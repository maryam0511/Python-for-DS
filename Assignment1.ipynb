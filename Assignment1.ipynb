{
 "cells": [
  {
   "cell_type": "markdown",
   "id": "51d270de-7499-4a97-8e6b-adaf06460016",
   "metadata": {},
   "source": [
    "# ASSIGNMENT 01"
   ]
  },
  {
   "cell_type": "markdown",
   "id": "f7f465d1-6763-4e94-892b-407d5be71bfe",
   "metadata": {},
   "source": [
    "## QUESTION 1"
   ]
  },
  {
   "cell_type": "code",
   "execution_count": 9,
   "id": "36e90a0f-6cac-4c52-8b96-813a554a0ebc",
   "metadata": {},
   "outputs": [
    {
     "name": "stdin",
     "output_type": "stream",
     "text": [
      "enter your first name: maryam\n",
      "enter your last name: wajahat\n"
     ]
    },
    {
     "name": "stdout",
     "output_type": "stream",
     "text": [
      "length of last name is greater than length of first name\n",
      "length of first name is: 6\n"
     ]
    }
   ],
   "source": [
    "#assigning variables\n",
    "first_name = input(\"enter your first name:\")\n",
    "last_name = input(\"enter your last name:\")\n",
    "\n",
    "#omparing lengths\n",
    "if len(first_name) > len(last_name):\n",
    "    print(\"length of first name is greater than length of last name\")\n",
    "elif len(first_name) < len(last_name):                   \n",
    "    print(\"length of last name is greater than length of first name\")\n",
    "else:\n",
    "    print(\"length of first and last name is the same\")\n",
    "\n",
    "#finding length\n",
    "length_first_name = len(first_name)\n",
    "print(\"length of first name is:\", length_first_name)"
   ]
  },
  {
   "cell_type": "markdown",
   "id": "27556039-466d-4645-bb43-2f06c0ee8c3b",
   "metadata": {},
   "source": [
    "## QUESTION 2"
   ]
  },
  {
   "cell_type": "code",
   "execution_count": 25,
   "id": "8da6de15-8f6c-4a9c-8f8f-9396ff285f95",
   "metadata": {},
   "outputs": [
    {
     "name": "stdout",
     "output_type": "stream",
     "text": [
      "num_one = 5\n",
      "num_two = 4\n",
      "the sum of 5 and 4 is: 9\n",
      "the difference of both numbers is: 1\n",
      "the product of both numbers is: 20\n",
      "the divison of both numbers is: 1.25\n",
      "the remainder of modulus division is: 1\n",
      "variable exponential is: 625\n",
      "floor division is: 1\n"
     ]
    }
   ],
   "source": [
    "num_one = 5\n",
    "num_two = 4\n",
    "print(\"num_one =\", num_one)\n",
    "print(\"num_two =\", num_two)\n",
    "\n",
    "#adding both numbers\n",
    "total = num_one + num_two\n",
    "print(\"the sum of 5 and 4 is:\", total)\n",
    "\n",
    "#subtracting num_two from num_one\n",
    "diff = num_one - num_two\n",
    "print(\"the difference of both numbers is:\", diff)\n",
    "\n",
    "#multiplying both numbers\n",
    "product = num_one * num_two\n",
    "print(\"the product of both numbers is:\", product)\n",
    "\n",
    "#dividing both numbers\n",
    "division = num_one / num_two\n",
    "print(\"the divison of both numbers is:\", division)\n",
    "\n",
    "#finding remainder\n",
    "remainder = num_one % num_two\n",
    "print(\"the remainder of modulus division is:\", remainder)\n",
    "\n",
    "#vaiable exponential\n",
    "variable_exp = num_one ** num_two\n",
    "print(\"variable exponential is:\", variable_exp)\n",
    "\n",
    "#floor division\n",
    "floor_division = num_one // num_two\n",
    "print(\"floor division is:\", floor_division)"
   ]
  },
  {
   "cell_type": "markdown",
   "id": "75cc546d-d8dd-4f1c-a37d-6f7f10524361",
   "metadata": {},
   "source": [
    "## QUESTION 3"
   ]
  },
  {
   "cell_type": "code",
   "execution_count": 37,
   "id": "7aeab6fb-26d5-4207-887c-812168160b37",
   "metadata": {},
   "outputs": [
    {
     "name": "stdin",
     "output_type": "stream",
     "text": [
      "enter radius of circle: 30\n"
     ]
    },
    {
     "name": "stdout",
     "output_type": "stream",
     "text": [
      "radius of cirle is 30 meters\n",
      "area of circle is: 2827.7999999999997\n",
      "cirumference of circle is: 188.51999999999998\n"
     ]
    }
   ],
   "source": [
    "#taking radius as user input\n",
    "radius = int(input(\"enter radius of circle:\")) \n",
    "print(\"radius of cirle is\", radius, \"meters\")\n",
    "pi = 3.142\n",
    "\n",
    "#area of circle \n",
    "area_of_circle = pi * radius ** 2\n",
    "print(\"area of circle is:\", area_of_circle)\n",
    "\n",
    "#ccircumference of circle\n",
    "circum_of_circle = 2 * pi * radius\n",
    "print(\"cirumference of circle is:\", circum_of_circle)"
   ]
  },
  {
   "cell_type": "markdown",
   "id": "22062187-9c05-41ba-96b1-53096d736199",
   "metadata": {},
   "source": [
    "## QUESTION 4"
   ]
  },
  {
   "cell_type": "code",
   "execution_count": 52,
   "id": "73a76546-e7bd-456d-a337-7b0c7164b0c9",
   "metadata": {},
   "outputs": [
    {
     "name": "stdout",
     "output_type": "stream",
     "text": [
      "price of ice bag:$ 1.25\n",
      "profit percentage: 0.2\n",
      "total bags sold: 500\n",
      "profit per bag:$ 0.25\n",
      "total profit:$ 125.0\n"
     ]
    }
   ],
   "source": [
    "bag_of_ice = 1.25\n",
    "print(\"price of ice bag:$\", bag_of_ice)\n",
    "profit_percentage = 20 / 100\n",
    "print(\"profit percentage:\", profit_percentage)\n",
    "bags_sold = 500\n",
    "print(\"total bags sold:\", bags_sold)\n",
    "\n",
    "#total profit\n",
    "profit_per_bag = profit_percentage * bag_of_ice \n",
    "print(\"profit per bag:$\", profit_per_bag)\n",
    "total_profit = profit_per_bag * bags_sold\n",
    "print(\"total profit:$\", total_profit)"
   ]
  },
  {
   "cell_type": "markdown",
   "id": "328539e0-4258-4578-ae98-423df56c5115",
   "metadata": {},
   "source": [
    "## QUESTION 5"
   ]
  },
  {
   "cell_type": "code",
   "execution_count": 57,
   "id": "58f62075-1310-4cc4-8f4e-2a68621e6565",
   "metadata": {},
   "outputs": [
    {
     "name": "stdout",
     "output_type": "stream",
     "text": [
      "cost per flight: $ 5000\n",
      "total numbers of passengers is: 29\n",
      "ticket price: $ 200\n",
      "total revenue generated is: $ 5800\n",
      "total profit is: $ 800\n"
     ]
    }
   ],
   "source": [
    "cost_per_flight = 5000\n",
    "print(\"cost per flight: $\", cost_per_flight)\n",
    "total_passengers = 29\n",
    "print(\"total numbers of passengers is:\", total_passengers)\n",
    "ticket_price = 200\n",
    "print(\"ticket price: $\", ticket_price)\n",
    "\n",
    "#profit\n",
    "revenue = total_passengers * ticket_price\n",
    "print(\"total revenue generated is: $\", revenue)\n",
    "profit = revenue - cost_per_flight\n",
    "print(\"total profit is: $\", profit)"
   ]
  },
  {
   "cell_type": "code",
   "execution_count": null,
   "id": "78361664-b511-495c-9c6d-adb800b174d9",
   "metadata": {},
   "outputs": [],
   "source": []
  }
 ],
 "metadata": {
  "kernelspec": {
   "display_name": "Python 3 (ipykernel)",
   "language": "python",
   "name": "python3"
  },
  "language_info": {
   "codemirror_mode": {
    "name": "ipython",
    "version": 3
   },
   "file_extension": ".py",
   "mimetype": "text/x-python",
   "name": "python",
   "nbconvert_exporter": "python",
   "pygments_lexer": "ipython3",
   "version": "3.12.4"
  }
 },
 "nbformat": 4,
 "nbformat_minor": 5
}
