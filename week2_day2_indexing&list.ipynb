{
 "cells": [
  {
   "cell_type": "code",
   "execution_count": 1,
   "id": "950410f6-49be-443b-91b4-bcd4e017b8e0",
   "metadata": {},
   "outputs": [
    {
     "name": "stdin",
     "output_type": "stream",
     "text": [
      "enter your full name maryam wajahat\n"
     ]
    },
    {
     "name": "stdout",
     "output_type": "stream",
     "text": [
      "True\n",
      "True\n"
     ]
    }
   ],
   "source": [
    "name = input(\"enter your full name\")\n",
    "print('maryam' in name)\n",
    "print('xyz' not in name)"
   ]
  },
  {
   "cell_type": "code",
   "execution_count": 2,
   "id": "3094995c-1310-41b0-a263-c4cdfe879a9a",
   "metadata": {},
   "outputs": [
    {
     "data": {
      "text/plain": [
       "tuple"
      ]
     },
     "execution_count": 2,
     "metadata": {},
     "output_type": "execute_result"
    }
   ],
   "source": [
    "name = \"maryam\" , \"wajahat\"\n",
    "name\n",
    "type(name)"
   ]
  },
  {
   "cell_type": "markdown",
   "id": "5ff5bbca-3ed5-4835-8c45-415684391b5e",
   "metadata": {},
   "source": [
    "# LISTS"
   ]
  },
  {
   "cell_type": "code",
   "execution_count": 4,
   "id": "f0c94026-010b-4bcb-a4d6-1e2a96cd36e9",
   "metadata": {},
   "outputs": [
    {
     "name": "stdout",
     "output_type": "stream",
     "text": [
      "<class 'list'>\n",
      "empty list ['mango', 'bananas', 'grapes']\n"
     ]
    }
   ],
   "source": [
    "#empty list\n",
    "fruits = ['mango','bananas','grapes']\n",
    "print(type(fruits))\n",
    "print(\"empty list\", fruits)"
   ]
  },
  {
   "cell_type": "markdown",
   "id": "1d101fee-0c0b-429e-9305-c01fb604a4f0",
   "metadata": {},
   "source": [
    "### append"
   ]
  },
  {
   "cell_type": "code",
   "execution_count": 6,
   "id": "d33ae1b4-c418-4c43-9d00-647223890dcc",
   "metadata": {},
   "outputs": [
    {
     "name": "stdout",
     "output_type": "stream",
     "text": [
      "['mango', 'bananas', 'grapes', 'apple']\n"
     ]
    }
   ],
   "source": [
    "#adding elements in a list\n",
    "fruits.append('apple')\n",
    "print(fruits)"
   ]
  },
  {
   "cell_type": "code",
   "execution_count": 7,
   "id": "bcce2595-407c-4adb-8168-e317d86d6c3b",
   "metadata": {},
   "outputs": [
    {
     "name": "stdout",
     "output_type": "stream",
     "text": [
      "4\n"
     ]
    }
   ],
   "source": [
    "print(len(fruits))"
   ]
  },
  {
   "cell_type": "markdown",
   "id": "52e74b9e-aad2-478c-a311-3fc58fcb31bb",
   "metadata": {},
   "source": [
    "# INDEXING"
   ]
  },
  {
   "cell_type": "code",
   "execution_count": 9,
   "id": "099e6cf1-b189-454a-b250-d57c782755c0",
   "metadata": {},
   "outputs": [
    {
     "name": "stdout",
     "output_type": "stream",
     "text": [
      "mango\n"
     ]
    }
   ],
   "source": [
    "#using index\n",
    "print(fruits[0])"
   ]
  },
  {
   "cell_type": "code",
   "execution_count": 10,
   "id": "806244ee-2cd7-4705-b3c4-9f39dbda34d5",
   "metadata": {},
   "outputs": [
    {
     "name": "stdout",
     "output_type": "stream",
     "text": [
      "mango\n"
     ]
    }
   ],
   "source": [
    "print(fruits[0])"
   ]
  },
  {
   "cell_type": "markdown",
   "id": "8446aef6-2de1-43e9-8c14-b99925bff5f3",
   "metadata": {},
   "source": [
    "### inclusive : exclusive"
   ]
  },
  {
   "cell_type": "code",
   "execution_count": 12,
   "id": "a6f39864-1b33-4f44-bc28-939f29cb3754",
   "metadata": {},
   "outputs": [
    {
     "name": "stdout",
     "output_type": "stream",
     "text": [
      "['mango', 'bananas', 'grapes', 'apple']\n"
     ]
    }
   ],
   "source": [
    "#printing whole list\n",
    "print(fruits[:])"
   ]
  },
  {
   "cell_type": "code",
   "execution_count": 13,
   "id": "576b8769-9bb6-4a4a-8640-e9c404ac6d17",
   "metadata": {},
   "outputs": [
    {
     "name": "stdout",
     "output_type": "stream",
     "text": [
      "['mango', 'bananas', 'grapes']\n"
     ]
    }
   ],
   "source": [
    "print(fruits[0:3])"
   ]
  },
  {
   "cell_type": "code",
   "execution_count": 14,
   "id": "43d0aca7-2c8e-4b6a-a386-7148c6055031",
   "metadata": {},
   "outputs": [
    {
     "name": "stdout",
     "output_type": "stream",
     "text": [
      "['mango', 'bananas', 'grapes', 'apple', 'apricot']\n"
     ]
    }
   ],
   "source": [
    "fruits.append('apricot')\n",
    "print(fruits)"
   ]
  },
  {
   "cell_type": "code",
   "execution_count": 15,
   "id": "36fa5b29-0e43-40d7-8d85-1e9a26af8556",
   "metadata": {},
   "outputs": [
    {
     "name": "stdout",
     "output_type": "stream",
     "text": [
      "['bananas', 'grapes', 'apple']\n"
     ]
    }
   ],
   "source": [
    "print(fruits[1:4])"
   ]
  },
  {
   "cell_type": "code",
   "execution_count": 16,
   "id": "95c10539-e604-4295-99b4-8e0d373f14fb",
   "metadata": {},
   "outputs": [],
   "source": [
    "fruits.append('orange')"
   ]
  },
  {
   "cell_type": "code",
   "execution_count": 17,
   "id": "342ad2d0-d110-4cc9-800c-0e55a4893093",
   "metadata": {},
   "outputs": [],
   "source": [
    "fruits.append('dragonfruit')"
   ]
  },
  {
   "cell_type": "code",
   "execution_count": 18,
   "id": "e52e0dc3-ee79-4748-9350-3e31ecf4bdbe",
   "metadata": {},
   "outputs": [
    {
     "name": "stdout",
     "output_type": "stream",
     "text": [
      "['mango', 'bananas', 'grapes', 'apple', 'apricot', 'orange', 'dragonfruit', 'berry']\n"
     ]
    }
   ],
   "source": [
    "fruits.append(\"berry\")\n",
    "print(fruits)"
   ]
  },
  {
   "cell_type": "markdown",
   "id": "0bfe2141-8926-4ad3-a02b-7b2c82df36d3",
   "metadata": {},
   "source": [
    "### inclusive : exclusive : step "
   ]
  },
  {
   "cell_type": "code",
   "execution_count": 19,
   "id": "d6e148de-e24e-4430-a6da-5261559cdf45",
   "metadata": {},
   "outputs": [
    {
     "name": "stdout",
     "output_type": "stream",
     "text": [
      "['mango', 'grapes', 'apricot', 'dragonfruit']\n"
     ]
    }
   ],
   "source": [
    "# inclusive : exclusive : step\n",
    "print(fruits[0:7:2])    #using 2 helps us skip every other object  "
   ]
  },
  {
   "cell_type": "code",
   "execution_count": 20,
   "id": "9ea3a09e-13e7-4195-8da6-a3b585e7e727",
   "metadata": {},
   "outputs": [
    {
     "name": "stdout",
     "output_type": "stream",
     "text": [
      "['grapes', 'apricot', 'dragonfruit']\n"
     ]
    }
   ],
   "source": [
    "print(fruits[2:7:2])"
   ]
  },
  {
   "cell_type": "code",
   "execution_count": 21,
   "id": "6216022f-95cd-4751-b8fa-15de9226bd35",
   "metadata": {},
   "outputs": [
    {
     "name": "stdout",
     "output_type": "stream",
     "text": [
      "['bananas', 'apple', 'orange']\n"
     ]
    }
   ],
   "source": [
    "print(fruits[1:7:2])"
   ]
  },
  {
   "cell_type": "code",
   "execution_count": 22,
   "id": "acb895be-a9e3-4181-840b-e17d9694adbe",
   "metadata": {},
   "outputs": [
    {
     "name": "stdout",
     "output_type": "stream",
     "text": [
      "['mango', 'grapes', 'apricot', 'dragonfruit']\n"
     ]
    }
   ],
   "source": [
    "print(fruits[0: :2])  #leaving empty space for exclusive means it have to read till the last element"
   ]
  },
  {
   "cell_type": "markdown",
   "id": "19e7fe0c-f656-4a94-9c0c-bb637346806b",
   "metadata": {},
   "source": [
    "### negative indexing"
   ]
  },
  {
   "cell_type": "code",
   "execution_count": 24,
   "id": "655aefec-c89e-435d-bf3f-570eab4f3560",
   "metadata": {},
   "outputs": [
    {
     "name": "stdout",
     "output_type": "stream",
     "text": [
      "berry\n"
     ]
    }
   ],
   "source": [
    "print(fruits[-1])"
   ]
  },
  {
   "cell_type": "code",
   "execution_count": 25,
   "id": "50f9807b-6ba4-4e5e-9a05-9586707a1b12",
   "metadata": {},
   "outputs": [
    {
     "name": "stdout",
     "output_type": "stream",
     "text": [
      "bananas\n"
     ]
    }
   ],
   "source": [
    "print(fruits[-7])"
   ]
  },
  {
   "cell_type": "code",
   "execution_count": 26,
   "id": "3923e5b8-fe75-4d90-afd5-ab7e72994150",
   "metadata": {},
   "outputs": [
    {
     "name": "stdout",
     "output_type": "stream",
     "text": [
      "['mango', 'bananas', 'grapes', 'apple', 'apricot', 'orange', 'dragonfruit']\n"
     ]
    }
   ],
   "source": [
    "print(fruits[-8:-1])"
   ]
  },
  {
   "cell_type": "code",
   "execution_count": 27,
   "id": "4e31d451-5544-4b39-8692-5b0ddd1046ee",
   "metadata": {},
   "outputs": [
    {
     "name": "stdout",
     "output_type": "stream",
     "text": [
      "['bananas', 'apple', 'orange']\n"
     ]
    }
   ],
   "source": [
    "print(fruits[-7:-2:2])"
   ]
  },
  {
   "cell_type": "markdown",
   "id": "edf11f4c-ca0b-49bf-827a-33204d98f537",
   "metadata": {},
   "source": [
    "# LISTS cONTINUES"
   ]
  },
  {
   "cell_type": "markdown",
   "id": "0b4b34f8-6bb3-40c5-a211-4b8f3f4f4ef9",
   "metadata": {},
   "source": [
    "### insert"
   ]
  },
  {
   "cell_type": "code",
   "execution_count": 30,
   "id": "7672c470-7c87-47c4-95b8-e77c6f84fa15",
   "metadata": {},
   "outputs": [
    {
     "name": "stdout",
     "output_type": "stream",
     "text": [
      "['mango', 'bananas', 'grapes', 'apple', 'apricot', 'orange', 'dragonfruit', 'berry']\n"
     ]
    }
   ],
   "source": [
    "print(fruits)"
   ]
  },
  {
   "cell_type": "code",
   "execution_count": 31,
   "id": "56a5d527-795f-46e5-af61-5f869b3ec551",
   "metadata": {},
   "outputs": [
    {
     "name": "stdout",
     "output_type": "stream",
     "text": [
      "['mango', 'guava', 'bananas', 'grapes', 'apple', 'apricot', 'orange', 'dragonfruit', 'berry']\n"
     ]
    }
   ],
   "source": [
    "fruits.insert(1,'guava')\n",
    "print(fruits)"
   ]
  },
  {
   "cell_type": "code",
   "execution_count": 32,
   "id": "d5aa3a31-f2cc-4bb6-873d-88a1de7e372b",
   "metadata": {},
   "outputs": [
    {
     "name": "stdout",
     "output_type": "stream",
     "text": [
      "['mango', 'apricot', 'banana', 'grapes', 'avacado', 'berry', 'apple', 'dragonfruit']\n"
     ]
    }
   ],
   "source": [
    "fruits = ['mango','apricot','banana','grapes','avacado','berry','apple','dragonfruit']\n",
    "print(fruits)"
   ]
  },
  {
   "cell_type": "code",
   "execution_count": 33,
   "id": "b6b57a70-8445-4aa7-9014-db6db70b70f7",
   "metadata": {},
   "outputs": [
    {
     "name": "stdout",
     "output_type": "stream",
     "text": [
      "['mango', 'apricot', 'banana', 'grapes', 'avacado', 'watermelon', 'berry', 'apple', 'dragonfruit']\n"
     ]
    }
   ],
   "source": [
    "fruits.insert(5,'watermelon')\n",
    "print(fruits)"
   ]
  },
  {
   "cell_type": "code",
   "execution_count": 34,
   "id": "613c51d5-9cd2-420b-8549-9ce1cdd6d2ba",
   "metadata": {},
   "outputs": [
    {
     "data": {
      "text/plain": [
       "9"
      ]
     },
     "execution_count": 34,
     "metadata": {},
     "output_type": "execute_result"
    }
   ],
   "source": [
    "len(fruits)"
   ]
  },
  {
   "cell_type": "code",
   "execution_count": 35,
   "id": "70d867a0-f1c8-4c76-a2b2-f3e6c7e3d7ae",
   "metadata": {},
   "outputs": [
    {
     "ename": "IndexError",
     "evalue": "list index out of range",
     "output_type": "error",
     "traceback": [
      "\u001b[1;31m---------------------------------------------------------------------------\u001b[0m",
      "\u001b[1;31mIndexError\u001b[0m                                Traceback (most recent call last)",
      "Cell \u001b[1;32mIn[35], line 1\u001b[0m\n\u001b[1;32m----> 1\u001b[0m fruits[\u001b[38;5;241m10\u001b[39m]\n",
      "\u001b[1;31mIndexError\u001b[0m: list index out of range"
     ]
    }
   ],
   "source": [
    "fruits[10]  #calling an index which doesnot exist in the lst"
   ]
  },
  {
   "cell_type": "code",
   "execution_count": 36,
   "id": "8e463727-d865-48f5-8195-40692cca231d",
   "metadata": {},
   "outputs": [
    {
     "data": {
      "text/plain": [
       "['mango',\n",
       " 'apricot',\n",
       " 'banana',\n",
       " 'grapes',\n",
       " 'avacado',\n",
       " 'watermelon',\n",
       " 'berry',\n",
       " 'apple',\n",
       " 'dragonfruit']"
      ]
     },
     "execution_count": 36,
     "metadata": {},
     "output_type": "execute_result"
    }
   ],
   "source": [
    "fruits"
   ]
  },
  {
   "cell_type": "markdown",
   "id": "9a2011a9-86c6-4e07-8c3b-3b851e609f43",
   "metadata": {},
   "source": [
    "### pop"
   ]
  },
  {
   "cell_type": "code",
   "execution_count": 38,
   "id": "dbf479c0-ea12-4689-9256-3a9b1cf7a00d",
   "metadata": {},
   "outputs": [
    {
     "name": "stdout",
     "output_type": "stream",
     "text": [
      "['mango', 'apricot', 'banana', 'grapes', 'avacado', 'watermelon', 'berry', 'apple']\n"
     ]
    }
   ],
   "source": [
    "fruits.pop()\n",
    "print(fruits)   #deletes last element by default"
   ]
  },
  {
   "cell_type": "code",
   "execution_count": 40,
   "id": "1f237c48-4283-47ad-8d3d-ca91b244b001",
   "metadata": {},
   "outputs": [
    {
     "name": "stdout",
     "output_type": "stream",
     "text": [
      "['apricot', 'banana', 'grapes', 'avacado', 'watermelon', 'berry', 'apple']\n"
     ]
    }
   ],
   "source": [
    "#deleting an assigned index\n",
    "fruits.pop(0)\n",
    "print(fruits)"
   ]
  },
  {
   "cell_type": "code",
   "execution_count": 51,
   "id": "d63e882e-111c-49a8-a23d-9a4c1ebd065f",
   "metadata": {},
   "outputs": [
    {
     "ename": "TypeError",
     "evalue": "'str' object cannot be interpreted as an integer",
     "output_type": "error",
     "traceback": [
      "\u001b[1;31m---------------------------------------------------------------------------\u001b[0m",
      "\u001b[1;31mTypeError\u001b[0m                                 Traceback (most recent call last)",
      "Cell \u001b[1;32mIn[51], line 2\u001b[0m\n\u001b[0;32m      1\u001b[0m \u001b[38;5;66;03m#pop annot be used for name of object\u001b[39;00m\n\u001b[1;32m----> 2\u001b[0m fruits\u001b[38;5;241m.\u001b[39mpop(\u001b[38;5;124m'\u001b[39m\u001b[38;5;124mbanana\u001b[39m\u001b[38;5;124m'\u001b[39m)\n\u001b[0;32m      3\u001b[0m \u001b[38;5;28mprint\u001b[39m(fruits)\n",
      "\u001b[1;31mTypeError\u001b[0m: 'str' object cannot be interpreted as an integer"
     ]
    }
   ],
   "source": [
    "#pop annot be used for name of object\n",
    "fruits.pop('banana')\n",
    "print(fruits)"
   ]
  },
  {
   "cell_type": "markdown",
   "id": "a35cff61-b7a8-4ed6-a20e-5d5ca1d88017",
   "metadata": {},
   "source": [
    "### remove"
   ]
  },
  {
   "cell_type": "code",
   "execution_count": 49,
   "id": "d26c4d5d-e3e4-4858-a1a8-9d44ad650b35",
   "metadata": {},
   "outputs": [
    {
     "name": "stdout",
     "output_type": "stream",
     "text": [
      "['apricot', 'banana', 'avacado', 'watermelon', 'berry', 'apple']\n"
     ]
    }
   ],
   "source": [
    "#deletes assigned index or name\n",
    "fruits.remove('grapes')\n",
    "print(fruits)"
   ]
  },
  {
   "cell_type": "markdown",
   "id": "fd6a756f-4546-4d75-99c0-8e9549d49641",
   "metadata": {},
   "source": [
    "### adding new list to existing list"
   ]
  },
  {
   "cell_type": "code",
   "execution_count": 53,
   "id": "2963ad6a-e5de-4635-ab92-0d22884f8afa",
   "metadata": {},
   "outputs": [
    {
     "name": "stdout",
     "output_type": "stream",
     "text": [
      "['melon', 'mango', 'kiwi']\n"
     ]
    }
   ],
   "source": [
    "summer_fruits = ['melon','mango','kiwi']\n",
    "print(summer_fruits)"
   ]
  },
  {
   "cell_type": "code",
   "execution_count": 55,
   "id": "886a52a7-7f3e-4c2d-92b2-4082461426bc",
   "metadata": {},
   "outputs": [
    {
     "name": "stdout",
     "output_type": "stream",
     "text": [
      "['apricot', 'banana', 'avacado', 'watermelon', 'berry', 'apple', ['melon', 'mango', 'kiwi']]\n"
     ]
    }
   ],
   "source": [
    "fruits.append(summer_fruits)   \n",
    "print(fruits)"
   ]
  },
  {
   "cell_type": "code",
   "execution_count": 57,
   "id": "8f2981e8-310f-499b-8abd-26df656b1c0b",
   "metadata": {},
   "outputs": [
    {
     "data": {
      "text/plain": [
       "['melon', 'mango', 'kiwi']"
      ]
     },
     "execution_count": 57,
     "metadata": {},
     "output_type": "execute_result"
    }
   ],
   "source": [
    "fruits[6]"
   ]
  },
  {
   "cell_type": "code",
   "execution_count": 59,
   "id": "c006ce8e-c5df-4208-b836-4ad635770e61",
   "metadata": {},
   "outputs": [
    {
     "name": "stdout",
     "output_type": "stream",
     "text": [
      "['mango', 'kiwi']\n"
     ]
    }
   ],
   "source": [
    "# to print specific values from 6th index\n",
    "print(fruits[6][1:])"
   ]
  },
  {
   "cell_type": "code",
   "execution_count": 61,
   "id": "607a1493-bf48-4b3e-82af-1bb713ad4008",
   "metadata": {},
   "outputs": [
    {
     "name": "stdout",
     "output_type": "stream",
     "text": [
      "['melon', 'kiwi']\n"
     ]
    }
   ],
   "source": [
    "print(fruits[6][0: :2])"
   ]
  },
  {
   "cell_type": "markdown",
   "id": "f66043c1-cfeb-4da9-a474-1093a83be791",
   "metadata": {},
   "source": [
    "### count"
   ]
  },
  {
   "cell_type": "code",
   "execution_count": 64,
   "id": "c92098dc-79b3-413e-a0d3-ea142fe7ce34",
   "metadata": {},
   "outputs": [
    {
     "data": {
      "text/plain": [
       "1"
      ]
     },
     "execution_count": 64,
     "metadata": {},
     "output_type": "execute_result"
    }
   ],
   "source": [
    "#occurence of an element\n",
    "fruits.count('apple')"
   ]
  },
  {
   "cell_type": "code",
   "execution_count": 66,
   "id": "cffb8877-1c82-4991-b027-05e78135fd7e",
   "metadata": {},
   "outputs": [
    {
     "data": {
      "text/plain": [
       "1"
      ]
     },
     "execution_count": 66,
     "metadata": {},
     "output_type": "execute_result"
    }
   ],
   "source": [
    "#counting within the parent cell\n",
    "fruits[6].count('kiwi')"
   ]
  },
  {
   "cell_type": "markdown",
   "id": "9369447f-0176-4980-883d-4d93064d4197",
   "metadata": {},
   "source": [
    "### reverse"
   ]
  },
  {
   "cell_type": "code",
   "execution_count": 74,
   "id": "1cc628fd-a0da-4897-8062-283f9a24dc26",
   "metadata": {},
   "outputs": [
    {
     "data": {
      "text/plain": [
       "[['melon', 'mango', 'kiwi'],\n",
       " 'apple',\n",
       " 'berry',\n",
       " 'watermelon',\n",
       " 'avacado',\n",
       " 'banana',\n",
       " 'apricot']"
      ]
     },
     "execution_count": 74,
     "metadata": {},
     "output_type": "execute_result"
    }
   ],
   "source": [
    "#reversing the existing list\n",
    "fruits"
   ]
  },
  {
   "cell_type": "code",
   "execution_count": 72,
   "id": "f037cd8f-bad4-4ef1-9889-c261dd6bc24e",
   "metadata": {},
   "outputs": [
    {
     "name": "stdout",
     "output_type": "stream",
     "text": [
      "[['melon', 'mango', 'kiwi'], 'apple', 'berry', 'watermelon', 'avacado', 'banana', 'apricot']\n"
     ]
    }
   ],
   "source": [
    "fruits.reverse()\n",
    "print(fruits)"
   ]
  },
  {
   "cell_type": "code",
   "execution_count": null,
   "id": "092817a1-0bfd-4ea4-b176-20a811c83c3f",
   "metadata": {},
   "outputs": [],
   "source": []
  }
 ],
 "metadata": {
  "kernelspec": {
   "display_name": "Python 3 (ipykernel)",
   "language": "python",
   "name": "python3"
  },
  "language_info": {
   "codemirror_mode": {
    "name": "ipython",
    "version": 3
   },
   "file_extension": ".py",
   "mimetype": "text/x-python",
   "name": "python",
   "nbconvert_exporter": "python",
   "pygments_lexer": "ipython3",
   "version": "3.12.4"
  }
 },
 "nbformat": 4,
 "nbformat_minor": 5
}
