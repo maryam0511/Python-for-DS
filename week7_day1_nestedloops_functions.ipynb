{
 "cells": [
  {
   "cell_type": "code",
   "execution_count": 7,
   "id": "57454a25-57ad-4e28-95fe-d34661346064",
   "metadata": {},
   "outputs": [
    {
     "name": "stdout",
     "output_type": "stream",
     "text": [
      "apple\n",
      "dog\n",
      "24\n",
      "['maryam', 'karachi']\n"
     ]
    }
   ],
   "source": [
    "list = ['apple','dog',24,['maryam','karachi']]\n",
    "for i in list:\n",
    "    #for j in range(1,5):\n",
    "        print(i)"
   ]
  },
  {
   "cell_type": "code",
   "execution_count": 13,
   "id": "1ecadd58-d556-4a3e-b28e-583c55a2cf3b",
   "metadata": {},
   "outputs": [
    {
     "name": "stdin",
     "output_type": "stream",
     "text": [
      "enter number of rows: 4\n"
     ]
    },
    {
     "name": "stdout",
     "output_type": "stream",
     "text": [
      "1 \n",
      "1 2 1 \n",
      "1 2 3 2 1 \n",
      "1 2 3 4 3 2 1 \n"
     ]
    }
   ],
   "source": [
    "#Pattern\n",
    "#1\n",
    "#121\n",
    "#12321\n",
    "#1234321\n",
    "\n",
    "rows = int(input(\"enter number of rows:\"))\n",
    "for i in range(1,rows+1):\n",
    "    for j in range(1,i+1):\n",
    "        print(j,end=\" \")\n",
    "    for k in range(i-1,0,-1):\n",
    "        print (k,end=\" \")\n",
    "\n",
    "    print()"
   ]
  },
  {
   "cell_type": "code",
   "execution_count": 15,
   "id": "bd56881d-3689-4d43-8356-49897b891b96",
   "metadata": {},
   "outputs": [
    {
     "name": "stdin",
     "output_type": "stream",
     "text": [
      "enter number of rows: 4\n"
     ]
    },
    {
     "name": "stdout",
     "output_type": "stream",
     "text": [
      "* \n",
      "* * * \n",
      "* * * * * \n",
      "* * * * * * * \n"
     ]
    }
   ],
   "source": [
    "rows = int(input(\"enter number of rows:\"))\n",
    "for i in range(1,rows+1):\n",
    "    for j in range(1,i+1):\n",
    "        print(\"*\",end=\" \")\n",
    "    for k in range(i-1,0,-1):\n",
    "        print(\"*\",end=\" \")\n",
    "\n",
    "    print()"
   ]
  },
  {
   "cell_type": "markdown",
   "id": "255092f7-d5a9-4ea1-8404-dba47aaec0d3",
   "metadata": {},
   "source": [
    "# FUNCTIONS"
   ]
  },
  {
   "cell_type": "code",
   "execution_count": 18,
   "id": "98fb7348-1488-447b-b1f5-004dc8b3c462",
   "metadata": {},
   "outputs": [
    {
     "name": "stdout",
     "output_type": "stream",
     "text": [
      "Good Morning Maryam\n"
     ]
    }
   ],
   "source": [
    "#creating a function\n",
    "def welcome():\n",
    "    print(\"Good Morning Maryam\")\n",
    "\n",
    "#calling function\n",
    "welcome()"
   ]
  },
  {
   "cell_type": "code",
   "execution_count": 20,
   "id": "947ff77f-8217-4252-abba-e2b3ba48efce",
   "metadata": {},
   "outputs": [
    {
     "name": "stdout",
     "output_type": "stream",
     "text": [
      "Good Morning maryam\n"
     ]
    }
   ],
   "source": [
    "#calling\n",
    "def welcome(name):\n",
    "    print(\"Good Morning\",name)\n",
    "#calling\n",
    "welcome(\"maryam\")"
   ]
  },
  {
   "cell_type": "code",
   "execution_count": 22,
   "id": "5840c930-9781-4669-a7ac-ea190b6fcbb3",
   "metadata": {},
   "outputs": [
    {
     "name": "stdout",
     "output_type": "stream",
     "text": [
      "Good Morning Maryam\n"
     ]
    }
   ],
   "source": [
    "def welcome(name):\n",
    "    print(\"Good Morning\",name)\n",
    "\n",
    "name = \"Maryam\"\n",
    "welcome(name)"
   ]
  },
  {
   "cell_type": "code",
   "execution_count": 24,
   "id": "1877443c-7b5d-4bf7-85eb-d853a423a580",
   "metadata": {},
   "outputs": [
    {
     "name": "stdin",
     "output_type": "stream",
     "text": [
      "Enter your name: Maryam\n"
     ]
    },
    {
     "name": "stdout",
     "output_type": "stream",
     "text": [
      "Good Morning Maryam\n"
     ]
    }
   ],
   "source": [
    "def welcome(name):\n",
    "    print(\"Good Morning\",name)\n",
    "\n",
    "name = input(\"Enter your name:\")\n",
    "welcome(name)"
   ]
  },
  {
   "cell_type": "code",
   "execution_count": 38,
   "id": "19c10fc9-0cad-4e31-9366-be6e8d8e78a4",
   "metadata": {},
   "outputs": [
    {
     "name": "stdout",
     "output_type": "stream",
     "text": [
      "number 1: 5\n",
      "number 2: 5\n"
     ]
    },
    {
     "data": {
      "text/plain": [
       "10"
      ]
     },
     "execution_count": 38,
     "metadata": {},
     "output_type": "execute_result"
    }
   ],
   "source": [
    "#Addition\n",
    "\n",
    "def sum(num1,num2):\n",
    "    print(\"number 1:\",num1)\n",
    "    print(\"number 2:\",num2)\n",
    "    addition = num1+num2\n",
    "    return(addition)    #return is always inside the block\n",
    "    \n",
    "sum(5,5)"
   ]
  },
  {
   "cell_type": "code",
   "execution_count": 44,
   "id": "f6dd9bec-22dc-4511-80e2-1c4f194e527e",
   "metadata": {},
   "outputs": [
    {
     "name": "stdout",
     "output_type": "stream",
     "text": [
      "entered number: 5\n",
      "5 is odd.\n"
     ]
    }
   ],
   "source": [
    "def even_or_odd(num):\n",
    "    print(\"entered number:\",num)\n",
    "    if num%2==0:\n",
    "        print(num,\"is even.\")\n",
    "    else:\n",
    "        print(num,\"is odd.\")\n",
    "    return\n",
    "\n",
    "even_or_odd(5)"
   ]
  },
  {
   "cell_type": "code",
   "execution_count": 52,
   "id": "79a9759d-a92e-4935-bac1-507ce23f2fdb",
   "metadata": {},
   "outputs": [
    {
     "name": "stdin",
     "output_type": "stream",
     "text": [
      "Enter a number: 7\n"
     ]
    },
    {
     "name": "stdout",
     "output_type": "stream",
     "text": [
      "Number: 7\n",
      "7 is odd.\n"
     ]
    }
   ],
   "source": [
    "def even_or_odd(num):\n",
    "    print(\"Number:\",num)\n",
    "    if num%2==0:\n",
    "        print(num,\"is even.\")\n",
    "    else:\n",
    "        print(num,\"is odd.\")\n",
    "\n",
    "num = int(input(\"Enter a number:\"))\n",
    "even_or_odd(num)"
   ]
  },
  {
   "cell_type": "code",
   "execution_count": 60,
   "id": "1627bebc-97b5-42d2-b9d2-8a490f978b7f",
   "metadata": {},
   "outputs": [
    {
     "name": "stdin",
     "output_type": "stream",
     "text": [
      "Enter radius: 6\n"
     ]
    },
    {
     "name": "stdout",
     "output_type": "stream",
     "text": [
      "Radius: 6.0\n",
      "Area: 113.112\n",
      "circumference: 37.704\n"
     ]
    }
   ],
   "source": [
    "def area_circumference():\n",
    "    print(\"Radius:\",radius)\n",
    "    area=3.142*(radius)**2\n",
    "    print(\"Area:\",area)\n",
    "    circumference=2*3.142*radius\n",
    "    print(\"circumference:\",circumference)\n",
    "\n",
    "radius = float(input(\"Enter radius:\"))\n",
    "area_circumference()\n"
   ]
  },
  {
   "cell_type": "code",
   "execution_count": null,
   "id": "c257a24c-4ba4-4da2-b2c5-339fa66fea93",
   "metadata": {},
   "outputs": [],
   "source": []
  }
 ],
 "metadata": {
  "kernelspec": {
   "display_name": "Python 3 (ipykernel)",
   "language": "python",
   "name": "python3"
  },
  "language_info": {
   "codemirror_mode": {
    "name": "ipython",
    "version": 3
   },
   "file_extension": ".py",
   "mimetype": "text/x-python",
   "name": "python",
   "nbconvert_exporter": "python",
   "pygments_lexer": "ipython3",
   "version": "3.12.4"
  }
 },
 "nbformat": 4,
 "nbformat_minor": 5
}
