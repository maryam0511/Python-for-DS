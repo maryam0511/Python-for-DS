{
 "cells": [
  {
   "cell_type": "markdown",
   "id": "9e88787a-86dd-4726-9d75-e9227d4b165d",
   "metadata": {},
   "source": [
    "# conditional statements"
   ]
  },
  {
   "cell_type": "markdown",
   "id": "db001cbf-4179-48b6-ad54-8c64f5993938",
   "metadata": {},
   "source": [
    "### if else statement"
   ]
  },
  {
   "cell_type": "code",
   "execution_count": 3,
   "id": "13f0a9c7-009e-4273-a152-75b81934ac5b",
   "metadata": {},
   "outputs": [
    {
     "name": "stdin",
     "output_type": "stream",
     "text": [
      "enter your age: 18\n"
     ]
    },
    {
     "name": "stdout",
     "output_type": "stream",
     "text": [
      "you are 18 and eligible to vote\n",
      "code executed\n"
     ]
    }
   ],
   "source": [
    "age = int(input('enter your age:'))\n",
    "if age>18:\n",
    "    print('you are eligible to vote')  #if block\n",
    "elif age==18:\n",
    "    print('you are 18 and eligible to vote')\n",
    "else:\n",
    "    print('you are not eligible to vote')  #else block\n",
    "    \n",
    "print('code executed')  #will be printed in the end under any condition"
   ]
  },
  {
   "cell_type": "code",
   "execution_count": 4,
   "id": "3ccdbd41-1ba3-411e-a9f0-9722fe538d08",
   "metadata": {},
   "outputs": [
    {
     "name": "stdin",
     "output_type": "stream",
     "text": [
      "enter your name: maryam\n"
     ]
    },
    {
     "name": "stdout",
     "output_type": "stream",
     "text": [
      "your name length is perfect\n"
     ]
    }
   ],
   "source": [
    "name = input('enter your name:')\n",
    "if len(name)>10:\n",
    "    print('your name is too long')\n",
    "elif len(name)==8:\n",
    "    print('your name length is moderate')\n",
    "else:\n",
    "    print('your name length is perfect')"
   ]
  },
  {
   "cell_type": "code",
   "execution_count": 5,
   "id": "c95acfd1-f6a6-4420-97e3-3719e5bcd6db",
   "metadata": {},
   "outputs": [
    {
     "name": "stdin",
     "output_type": "stream",
     "text": [
      "enter 1st integer: 1\n",
      "enter 2nd integer: 2\n",
      "enter 3rd integer: 3\n"
     ]
    },
    {
     "name": "stdout",
     "output_type": "stream",
     "text": [
      "number 3 is the greatest\n"
     ]
    }
   ],
   "source": [
    "#comparison between three integers\n",
    "number1 = int(input('enter 1st integer:'))\n",
    "number2 = int(input('enter 2nd integer:'))\n",
    "number3 = int(input('enter 3rd integer:'))\n",
    "if number1>number2>number3:\n",
    "    print('number 1 is the greatest')\n",
    "elif number2>number1>number3:\n",
    "    print('number 2 is the greatest')\n",
    "else:\n",
    "    print('number 3 is the greatest')"
   ]
  },
  {
   "cell_type": "code",
   "execution_count": 6,
   "id": "26fd1c7f-2d8a-4536-b001-8ee27e17917d",
   "metadata": {},
   "outputs": [
    {
     "name": "stdin",
     "output_type": "stream",
     "text": [
      "enter an integer: -5\n"
     ]
    },
    {
     "name": "stdout",
     "output_type": "stream",
     "text": [
      "this in negative integer\n"
     ]
    }
   ],
   "source": [
    "number_input = input('enter an integer:')\n",
    "if number_input.replace('.','').replace('-','').replace('+','').isdigit():\n",
    "    number = float(number_input)\n",
    "    if number>0:\n",
    "        print('this is positive integer')\n",
    "    elif number==0:\n",
    "        print('this is zero')\n",
    "    else:\n",
    "        print('this in negative integer')\n",
    "else:    \n",
    "    print('invalid input')"
   ]
  },
  {
   "cell_type": "code",
   "execution_count": 7,
   "id": "3a1963e6-918a-4a26-8dfe-7d13a4c85e21",
   "metadata": {},
   "outputs": [
    {
     "name": "stdin",
     "output_type": "stream",
     "text": [
      "please enter your username: abc@gmail.com\n",
      "please enter your password: 12345\n"
     ]
    },
    {
     "name": "stdout",
     "output_type": "stream",
     "text": [
      "Welcome\n"
     ]
    }
   ],
   "source": [
    "username = str(input('please enter your username:'))\n",
    "password = int(input('please enter your password:'))\n",
    "\n",
    "if username=='abc@gmail.com' and password==12345:\n",
    "    print('Welcome')\n",
    "else:\n",
    "    print('invalid credentials') \n"
   ]
  },
  {
   "cell_type": "code",
   "execution_count": 20,
   "id": "4be7f432-020d-4997-9d23-864a6d8621cf",
   "metadata": {},
   "outputs": [
    {
     "name": "stdin",
     "output_type": "stream",
     "text": [
      "Please enter your username: abc@gmail.com\n",
      "Please enter your password: 1234\n"
     ]
    },
    {
     "name": "stdout",
     "output_type": "stream",
     "text": [
      "Invalid Credentials\n",
      "Please try again.\n"
     ]
    },
    {
     "name": "stdin",
     "output_type": "stream",
     "text": [
      "Please enter your username: abc@gmail.com\n",
      "Please enter your password: 12345\n"
     ]
    },
    {
     "name": "stdout",
     "output_type": "stream",
     "text": [
      "Welcome\n"
     ]
    }
   ],
   "source": [
    "username = str(input(\"Please enter your username:\"))\n",
    "password = int(input(\"Please enter your password:\"))\n",
    "\n",
    "if username==\"abc@gmail.com\" and password==12345:\n",
    "    print(\"Welcome\")\n",
    "else:\n",
    "    print('Invalid Credentials')\n",
    "    print(\"Please try again.\")\n",
    "    username = str(input(\"Please enter your username:\"))\n",
    "    password = int(input(\"Please enter your password:\"))\n",
    "    if username==\"abc@gmail.com\" and password==12345:\n",
    "        print(\"Welcome\")\n",
    "    else:\n",
    "        print(\"Invalid Credentials\")"
   ]
  },
  {
   "cell_type": "code",
   "execution_count": 1,
   "id": "f690b4df-6d00-49d6-872e-c8fa4824ee00",
   "metadata": {},
   "outputs": [
    {
     "name": "stdin",
     "output_type": "stream",
     "text": [
      "Please enter username: abc@gmail.com\n",
      "Please enter password: 123\n"
     ]
    },
    {
     "name": "stdout",
     "output_type": "stream",
     "text": [
      "Incorrect Password\n",
      "Please try again\n"
     ]
    },
    {
     "name": "stdin",
     "output_type": "stream",
     "text": [
      "Please enter your password: abc@gmail.com\n",
      "Please enter password: 1234\n"
     ]
    },
    {
     "name": "stdout",
     "output_type": "stream",
     "text": [
      "Welome after one attempt\n"
     ]
    }
   ],
   "source": [
    "username = str(input(\"Please enter username:\"))\n",
    "password = int(input(\"Please enter password:\"))\n",
    "\n",
    "if username=='abc@gmail.com' and password==1234:\n",
    "    print('Welome')\n",
    "elif password!=1234:\n",
    "    print(\"Incorrect Password\")\n",
    "    print(\"Please try again\")\n",
    "    username = str(input(\"Please enter your password:\"))\n",
    "    password = int(input(\"Please enter password:\"))\n",
    "    if password==1234:\n",
    "        print(\"Welome after one attempt\")\n",
    "    else:\n",
    "        print(\"Inorrect Password\")\n",
    "else:\n",
    "    print(\"Invalid Credentials\")\n",
    "    "
   ]
  },
  {
   "cell_type": "code",
   "execution_count": 3,
   "id": "ced77f3b-5137-44ad-8fda-6fce4c05afa4",
   "metadata": {},
   "outputs": [
    {
     "name": "stdin",
     "output_type": "stream",
     "text": [
      "Please enter username: abc\n"
     ]
    },
    {
     "name": "stdout",
     "output_type": "stream",
     "text": [
      "enter valid email\n"
     ]
    }
   ],
   "source": [
    "username = input(\"Please enter username:\")\n",
    "if '@' not in username:\n",
    "    print(\"enter valid email\")\n",
    "else:\n",
    "    password = input(\"please enter password:\")\n",
    "    if username=='abc@gmail.com' and password=='1234':\n",
    "        print(\"Welcome\")\n",
    "    else:\n",
    "        print(\"Invalid credentials\")"
   ]
  },
  {
   "cell_type": "code",
   "execution_count": 7,
   "id": "56ce90b3-b1b3-4821-af6e-d49565ff9004",
   "metadata": {},
   "outputs": [
    {
     "ename": "IndentationError",
     "evalue": "expected an indented block after 'if' statement on line 6 (474721306.py, line 7)",
     "output_type": "error",
     "traceback": [
      "\u001b[1;36m  Cell \u001b[1;32mIn[7], line 7\u001b[1;36m\u001b[0m\n\u001b[1;33m    print('Welome')\u001b[0m\n\u001b[1;37m    ^\u001b[0m\n\u001b[1;31mIndentationError\u001b[0m\u001b[1;31m:\u001b[0m expected an indented block after 'if' statement on line 6\n"
     ]
    }
   ],
   "source": [
    "username = input(\"Please enter username:\")\n",
    "if '@' not in username:\n",
    "    print(\"enter valid email\")\n",
    "else:\n",
    "    password = input(\"please enter password:\")\n",
    "    if username=='abc@gmail.com' and password==1234:\n",
    "        print('Welome')\n",
    "    elif password!=1234:\n",
    "        print(\"Incorrect Password\")\n",
    "        print(\"Please try again\")\n",
    "        username = str(input(\"Please enter your password:\"))\n",
    "        password = int(input(\"Please enter password:\"))\n",
    "            if password==1234:\n",
    "                print(\"Welome after one attempt\")\n",
    "            else:\n",
    "                print(\"Inorrect Password\")\n",
    "    else:\n",
    "        print(\"Invalid Credentials\")\n",
    "            if username=='abc@gmail.com' and password=='1234':\n",
    "                print(\"Welcome\")\n",
    "            else:\n",
    "                print(\"Invalid credentials\")"
   ]
  },
  {
   "cell_type": "code",
   "execution_count": 9,
   "id": "d8fbe674-1f12-4723-bb98-7aef22aa39b4",
   "metadata": {},
   "outputs": [
    {
     "name": "stdin",
     "output_type": "stream",
     "text": [
      "Please enter your consumed units: 200\n"
     ]
    },
    {
     "name": "stdout",
     "output_type": "stream",
     "text": [
      "Total bill is: 3250\n"
     ]
    }
   ],
   "source": [
    "units_consumed = int(input(\"Please enter your consumed units:\"))\n",
    "\n",
    "if units_consumed>=150:\n",
    "    puc = 15\n",
    "    fc = 250\n",
    "    total_bill = (units_consumed*puc)+fc\n",
    "    print(\"Total bill is:\",total_bill)\n",
    "elif 151<=units_consumed<=250:\n",
    "    puc = 25\n",
    "    fc = 350\n",
    "    total_bill = (units_consumed*puc)+fc\n",
    "    print(\"Total bill is:\",total_bill)\n",
    "elif 251<=units_consumed<=350:\n",
    "    puc = 35\n",
    "    fc = 350\n",
    "    total_bill = (units_consumed*puc)+fc\n",
    "    print(\"Total bill is:\",total_bill)\n",
    "else:\n",
    "    puc = 45\n",
    "    fc = 1000\n",
    "    total_bill = (units_consumed*puc)+fc\n",
    "    print(\"Total bill is:\",total_bill)\n",
    "    "
   ]
  },
  {
   "cell_type": "code",
   "execution_count": 23,
   "id": "467ac515-f92f-4227-8275-87a04e050f8f",
   "metadata": {},
   "outputs": [
    {
     "name": "stdout",
     "output_type": "stream",
     "text": [
      "Select one option\n"
     ]
    },
    {
     "name": "stdin",
     "output_type": "stream",
     "text": [
      "\n",
      "1 Addition\n",
      "2 Substraction\n",
      "3 Multiplication\n",
      "4 Division\n",
      " 5\n"
     ]
    },
    {
     "name": "stdout",
     "output_type": "stream",
     "text": [
      "Invalid Option\n"
     ]
    }
   ],
   "source": [
    "#menu driven program\n",
    "print(\"Select one option\")\n",
    "option = input('''\n",
    "1 Addition\n",
    "2 Substraction\n",
    "3 Multiplication\n",
    "4 Division\n",
    "''')\n",
    "\n",
    "if option=='1':\n",
    "    num1 = float(input(\"enter 1st number:\"))\n",
    "    num2 = float(input(\"enter 2nd number:\"))\n",
    "    print(num1,\"+\",num2,\"=\",num1+num2)\n",
    "elif option=='2':\n",
    "    num1 = float(input(\"enter 1st number:\"))\n",
    "    num2 = float(input(\"enter 2nd number:\"))\n",
    "    print(num1,\"-\",num2,\"=\",num1-num2)\n",
    "elif option=='3':\n",
    "    num1 = float(input(\"enter 1st number:\"))\n",
    "    num2 = float(input(\"enter 2nd number:\"))\n",
    "    print(num1,\"*\",num2,\"=\",num1*num2)\n",
    "elif option=='4':\n",
    "    num1 = float(input(\"enter 1st number:\"))\n",
    "    num2 = float(input(\"enter 2nd number:\"))\n",
    "    print(num1,\"/\",num2,\"=\",num1/num2)\n",
    "else:\n",
    "    print(\"Invalid Option\")"
   ]
  },
  {
   "cell_type": "code",
   "execution_count": null,
   "id": "0794a735-6440-4c6f-89ac-49d2d6e7f774",
   "metadata": {},
   "outputs": [],
   "source": []
  }
 ],
 "metadata": {
  "kernelspec": {
   "display_name": "Python 3 (ipykernel)",
   "language": "python",
   "name": "python3"
  },
  "language_info": {
   "codemirror_mode": {
    "name": "ipython",
    "version": 3
   },
   "file_extension": ".py",
   "mimetype": "text/x-python",
   "name": "python",
   "nbconvert_exporter": "python",
   "pygments_lexer": "ipython3",
   "version": "3.12.4"
  }
 },
 "nbformat": 4,
 "nbformat_minor": 5
}
