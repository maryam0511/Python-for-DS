{
 "cells": [
  {
   "cell_type": "code",
   "execution_count": 1,
   "id": "ac6da756-2793-4929-9eaa-cc06cd5dda38",
   "metadata": {},
   "outputs": [],
   "source": [
    "# iterative statements are used when we want to repeat statements a specific no of times"
   ]
  },
  {
   "cell_type": "markdown",
   "id": "ade89a8c-5f55-4a5a-9e51-6a6c84bc93d3",
   "metadata": {},
   "source": [
    "#### GUESS GAME"
   ]
  },
  {
   "cell_type": "code",
   "execution_count": 3,
   "id": "62a70389-f033-4e9d-85c3-323ecbbf6870",
   "metadata": {},
   "outputs": [
    {
     "name": "stdin",
     "output_type": "stream",
     "text": [
      "Guess a number 50\n"
     ]
    },
    {
     "name": "stdout",
     "output_type": "stream",
     "text": [
      "Guess higher number.\n"
     ]
    },
    {
     "name": "stdin",
     "output_type": "stream",
     "text": [
      "Guess a number 60\n"
     ]
    },
    {
     "name": "stdout",
     "output_type": "stream",
     "text": [
      "Guess higher number.\n"
     ]
    },
    {
     "name": "stdin",
     "output_type": "stream",
     "text": [
      "Guess a number 70\n"
     ]
    },
    {
     "name": "stdout",
     "output_type": "stream",
     "text": [
      "Guess higher number.\n"
     ]
    },
    {
     "name": "stdin",
     "output_type": "stream",
     "text": [
      "Guess a number 80\n"
     ]
    },
    {
     "name": "stdout",
     "output_type": "stream",
     "text": [
      "Guess higher number.\n"
     ]
    },
    {
     "name": "stdin",
     "output_type": "stream",
     "text": [
      "Guess a number 90\n"
     ]
    },
    {
     "name": "stdout",
     "output_type": "stream",
     "text": [
      "Guess a lower number.\n"
     ]
    },
    {
     "name": "stdin",
     "output_type": "stream",
     "text": [
      "Guess a number 85\n"
     ]
    },
    {
     "name": "stdout",
     "output_type": "stream",
     "text": [
      "Guess a lower number.\n"
     ]
    },
    {
     "name": "stdin",
     "output_type": "stream",
     "text": [
      "Guess a number 84\n"
     ]
    },
    {
     "name": "stdout",
     "output_type": "stream",
     "text": [
      "You guessed correct.\n"
     ]
    }
   ],
   "source": [
    "import random\n",
    "jackpot = random.randint(1,100)\n",
    "guess = int(input(\"Guess a number\"))\n",
    "while guess!=jackpot:   # runs until guess is not equals to jackpot(guess!=jackpot)\n",
    "#while block starts\n",
    "    if guess < jackpot:\n",
    "        print(\"Guess higher number.\")\n",
    "    else:\n",
    "        print(\"Guess a lower number.\")\n",
    "    guess = int(input(\"Guess a number\"))\n",
    "#while block ends\n",
    "else:  #prints when blok ends i.e guess=jackpot\n",
    "    print(\"You guessed correct.\")"
   ]
  },
  {
   "cell_type": "code",
   "execution_count": 4,
   "id": "4cd8912c-d041-4765-89b3-03f90cb2784e",
   "metadata": {},
   "outputs": [
    {
     "name": "stdin",
     "output_type": "stream",
     "text": [
      "Guess a number 50\n"
     ]
    },
    {
     "name": "stdout",
     "output_type": "stream",
     "text": [
      "Guess a lower number.\n"
     ]
    },
    {
     "name": "stdin",
     "output_type": "stream",
     "text": [
      "Guess a number 40\n"
     ]
    },
    {
     "name": "stdout",
     "output_type": "stream",
     "text": [
      "Guess a lower number.\n"
     ]
    },
    {
     "name": "stdin",
     "output_type": "stream",
     "text": [
      "Guess a number 30\n"
     ]
    },
    {
     "name": "stdout",
     "output_type": "stream",
     "text": [
      "Guess higher number.\n"
     ]
    },
    {
     "name": "stdin",
     "output_type": "stream",
     "text": [
      "Guess a number 35\n"
     ]
    },
    {
     "name": "stdout",
     "output_type": "stream",
     "text": [
      "Guess higher number.\n"
     ]
    },
    {
     "name": "stdin",
     "output_type": "stream",
     "text": [
      "Guess a number 36\n"
     ]
    },
    {
     "name": "stdout",
     "output_type": "stream",
     "text": [
      "Guess higher number.\n"
     ]
    },
    {
     "name": "stdin",
     "output_type": "stream",
     "text": [
      "Guess a number 37\n"
     ]
    },
    {
     "name": "stdout",
     "output_type": "stream",
     "text": [
      "You guessed correct.\n",
      "Number of turns: 6\n"
     ]
    }
   ],
   "source": [
    "#with number of counts\n",
    "import random\n",
    "jackpot = random.randint(1,100)\n",
    "guess = int(input(\"Guess a number\"))\n",
    "counter = 1\n",
    "while guess!=jackpot:   # runs until guess is not equals to jackpot(guess!=jackpot)\n",
    "#while block starts\n",
    "    if guess < jackpot:\n",
    "        print(\"Guess higher number.\")\n",
    "    else:\n",
    "        print(\"Guess a lower number.\")\n",
    "    guess = int(input(\"Guess a number\"))\n",
    "    counter=counter+1\n",
    "#while block ends\n",
    "else:  #prints when blok ends i.e guess=jackpot\n",
    "    print(\"You guessed correct.\")\n",
    "    print(\"Number of turns:\",counter)"
   ]
  },
  {
   "cell_type": "markdown",
   "id": "42271052-f65c-47a2-813e-0942e3a4db1f",
   "metadata": {},
   "source": [
    "# FOR LOOP"
   ]
  },
  {
   "cell_type": "code",
   "execution_count": 6,
   "id": "5212bdad-2dbb-404a-a2b8-70912611415f",
   "metadata": {},
   "outputs": [
    {
     "name": "stdout",
     "output_type": "stream",
     "text": [
      "1\n",
      "2\n",
      "3\n",
      "4\n",
      "5\n",
      "6\n",
      "7\n",
      "8\n",
      "9\n"
     ]
    }
   ],
   "source": [
    "for num in range(1,10):   #(inclusive,exclusive)\n",
    "    print(num)"
   ]
  },
  {
   "cell_type": "code",
   "execution_count": 7,
   "id": "cb56f860-c7cd-4aac-b5eb-6678fef20427",
   "metadata": {},
   "outputs": [
    {
     "name": "stdout",
     "output_type": "stream",
     "text": [
      "1\n",
      "3\n",
      "5\n",
      "7\n",
      "9\n"
     ]
    }
   ],
   "source": [
    "for num in range(1,10,2):    #(inclusive,exclusive,step)\n",
    "    print(num)"
   ]
  },
  {
   "cell_type": "code",
   "execution_count": 8,
   "id": "05bdb431-6b48-42fb-a1a4-fad6c0f6a8a0",
   "metadata": {},
   "outputs": [
    {
     "name": "stdout",
     "output_type": "stream",
     "text": [
      "Name\n",
      "Age\n",
      "Gender\n"
     ]
    }
   ],
   "source": [
    "# with dictionary(only keys)\n",
    "personal_details = {'Name':'Maryam','Age':24,'Gender':'Female'}\n",
    "for details in personal_details:\n",
    "    print(details)"
   ]
  },
  {
   "cell_type": "code",
   "execution_count": 9,
   "id": "3d11e45f-4788-42d7-a12d-161803a75875",
   "metadata": {},
   "outputs": [
    {
     "name": "stdout",
     "output_type": "stream",
     "text": [
      "Name Maryam\n",
      "Age 24\n",
      "Gender Female\n"
     ]
    }
   ],
   "source": [
    "# with dictionary(key-value pairs)\n",
    "dict = {'Name':'Maryam','Age':24,'Gender':'Female'}\n",
    "#for details in dict.items():\n",
    "#    print(details)\n",
    "for details in dict:\n",
    "    print(details,dict[details])"
   ]
  },
  {
   "cell_type": "code",
   "execution_count": 4,
   "id": "a0669ac9-d682-4426-8d15-958b681502b6",
   "metadata": {},
   "outputs": [
    {
     "name": "stdout",
     "output_type": "stream",
     "text": [
      "10 11000.0\n",
      "9 12100.000000000002\n",
      "8 13310.000000000004\n",
      "7 14641.000000000005\n",
      "6 16105.100000000008\n",
      "5 17715.61000000001\n",
      "4 19487.171000000013\n",
      "3 21435.888100000015\n",
      "2 23579.47691000002\n",
      "1 25937.424601000024\n"
     ]
    }
   ],
   "source": [
    "# current population of a town is 10000 which increase 10% every year. find the value at the end of each year for next 10 years\n",
    "population = 10000\n",
    "rate = 0.1\n",
    "#for year in range(1,11):  #ascending\n",
    "for year in range (10,0,-1):  #descending\n",
    "    population = population*(1+rate)\n",
    "    print(year,population)"
   ]
  },
  {
   "cell_type": "code",
   "execution_count": 9,
   "id": "2b7b4469-1181-4b06-89a6-708062530434",
   "metadata": {},
   "outputs": [
    {
     "name": "stdout",
     "output_type": "stream",
     "text": [
      "10 9091\n",
      "9 8265\n",
      "8 7514\n",
      "7 6831\n",
      "6 6210\n",
      "5 5645\n",
      "4 5132\n",
      "3 4665\n",
      "2 4241\n",
      "1 3855\n"
     ]
    }
   ],
   "source": [
    "# last 10 years \n",
    "population = 10000\n",
    "for year in range(10,0,-1):\n",
    "    population = round(population/1.1)\n",
    "    print(year,population)"
   ]
  },
  {
   "cell_type": "markdown",
   "id": "1299acc8-744a-477a-a137-93d65b6becd0",
   "metadata": {},
   "source": [
    "# NESTED LOOP"
   ]
  },
  {
   "cell_type": "code",
   "execution_count": 12,
   "id": "bb6dbff7-e4b4-4120-b0ae-8e9afe4fba59",
   "metadata": {},
   "outputs": [
    {
     "name": "stdout",
     "output_type": "stream",
     "text": [
      "1 1\n",
      "1 2\n",
      "1 3\n",
      "1 4\n",
      "2 1\n",
      "2 2\n",
      "2 3\n",
      "2 4\n",
      "3 1\n",
      "3 2\n",
      "3 3\n",
      "3 4\n",
      "4 1\n",
      "4 2\n",
      "4 3\n",
      "4 4\n"
     ]
    }
   ],
   "source": [
    "for i in range(1,5):\n",
    "    for j in range(1,5):\n",
    "        print(i,j)"
   ]
  },
  {
   "cell_type": "code",
   "execution_count": 22,
   "id": "80d90799-178d-41e5-b881-e105fab1096e",
   "metadata": {},
   "outputs": [
    {
     "name": "stdin",
     "output_type": "stream",
     "text": [
      "Enter number of rows: 4\n"
     ]
    },
    {
     "name": "stdout",
     "output_type": "stream",
     "text": [
      "*+-\n",
      "*+*+-\n",
      "*+*+*+-\n",
      "*+*+*+*+-\n"
     ]
    }
   ],
   "source": [
    "#Pattern 1\n",
    "# *\n",
    "# **\n",
    "# ***\n",
    "# ****\n",
    "\n",
    "rows = int(input(\"Enter number of rows:\"))\n",
    "\n",
    "for i in range(1,rows+1):\n",
    "    for j in range(1,i+1):\n",
    "        print(\"*\",end=\"+\")\n",
    "    print(\"-\")"
   ]
  },
  {
   "cell_type": "code",
   "execution_count": 30,
   "id": "5ca3ed1a-3dab-48b6-b619-2e017476a139",
   "metadata": {},
   "outputs": [
    {
     "name": "stdin",
     "output_type": "stream",
     "text": [
      "enter number of rows: 2\n"
     ]
    },
    {
     "name": "stdout",
     "output_type": "stream",
     "text": [
      "*\n",
      "**\n"
     ]
    }
   ],
   "source": [
    "rows = int(input(\"enter number of rows:\"))\n",
    "\n",
    "for i in range(1,rows+1): \n",
    "    for j in range(1,i+1):\n",
    "        print(\"*\",end=\"\")\n",
    "    print()"
   ]
  },
  {
   "cell_type": "code",
   "execution_count": 50,
   "id": "25b6bb0c-30a1-4385-b102-b2ac73b8470e",
   "metadata": {},
   "outputs": [
    {
     "name": "stdin",
     "output_type": "stream",
     "text": [
      "enter rows: 4\n"
     ]
    },
    {
     "name": "stdout",
     "output_type": "stream",
     "text": [
      "****\n",
      "***\n",
      "**\n",
      "*\n"
     ]
    }
   ],
   "source": [
    "#Pattern 2\n",
    "# ****\n",
    "# ***\n",
    "# **\n",
    "# *\n",
    "\n",
    "rows = int(input(\"enter rows:\"))\n",
    "\n",
    "for i in range(1,rows+1):\n",
    "    for j in range(1,rows-i+2):\n",
    "        print(\"*\",end=\"\")\n",
    "    print()"
   ]
  },
  {
   "cell_type": "code",
   "execution_count": 54,
   "id": "3a6d2143-5aa6-4871-983a-8bbb8bcbd93a",
   "metadata": {},
   "outputs": [
    {
     "name": "stdin",
     "output_type": "stream",
     "text": [
      "Enter rows: 4\n"
     ]
    },
    {
     "name": "stdout",
     "output_type": "stream",
     "text": [
      "****\n",
      "***\n",
      "**\n",
      "*\n"
     ]
    },
    {
     "name": "stdin",
     "output_type": "stream",
     "text": [
      "enter rows: 4\n"
     ]
    },
    {
     "name": "stdout",
     "output_type": "stream",
     "text": [
      "*\n",
      "**\n",
      "***\n",
      "****\n"
     ]
    }
   ],
   "source": [
    "rows = int(input(\"Enter rows:\"))\n",
    "for i in range(rows,0,-1):\n",
    "    print(\"*\"*i)\n",
    "\n",
    "rows1 = int(input(\"enter rows:\"))\n",
    "for i in range(1,rows+1):\n",
    "    print(\"*\"*i)"
   ]
  },
  {
   "cell_type": "code",
   "execution_count": null,
   "id": "3160c191-8fa5-48ff-a5ca-aeb648016a74",
   "metadata": {},
   "outputs": [],
   "source": []
  }
 ],
 "metadata": {
  "kernelspec": {
   "display_name": "Python 3 (ipykernel)",
   "language": "python",
   "name": "python3"
  },
  "language_info": {
   "codemirror_mode": {
    "name": "ipython",
    "version": 3
   },
   "file_extension": ".py",
   "mimetype": "text/x-python",
   "name": "python",
   "nbconvert_exporter": "python",
   "pygments_lexer": "ipython3",
   "version": "3.12.4"
  }
 },
 "nbformat": 4,
 "nbformat_minor": 5
}
