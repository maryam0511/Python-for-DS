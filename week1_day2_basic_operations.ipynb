{
 "cells": [
  {
   "cell_type": "markdown",
   "id": "c4471e4d-e1a5-4830-8ae7-a49779b40c18",
   "metadata": {},
   "source": [
    "# DYNAMIc PROGRAMS"
   ]
  },
  {
   "cell_type": "markdown",
   "id": "df089c96-707e-4636-839d-bd98577a98ea",
   "metadata": {},
   "source": [
    "### calulating force with use input"
   ]
  },
  {
   "cell_type": "markdown",
   "id": "8d875fd9-e66f-476b-bf3b-3d9a0a023285",
   "metadata": {},
   "source": [
    "mass = float(input(\"enter value of mass:\"))\n",
    "acc = float(input(\"enter value of acc:\"))\n",
    "force = (mass * acc)\n",
    "print(\"force is:\",force,\"N\")\n",
    "print(type(force))"
   ]
  },
  {
   "cell_type": "markdown",
   "id": "6e2e2abd-dcfc-4d8e-9fc3-ea645de726f1",
   "metadata": {},
   "source": [
    "### calculating sum"
   ]
  },
  {
   "cell_type": "code",
   "execution_count": 11,
   "id": "69014d4c-31a8-4ffb-958a-445f9dcee13c",
   "metadata": {},
   "outputs": [
    {
     "name": "stdin",
     "output_type": "stream",
     "text": [
      "enter 1st value: 5\n",
      "enter 2nd value: 6.4\n"
     ]
    },
    {
     "name": "stdout",
     "output_type": "stream",
     "text": [
      "sum of both values is: 11.4\n"
     ]
    }
   ],
   "source": [
    "value1 = int(input(\"enter 1st value:\"))\n",
    "value2 = float(input(\"enter 2nd value:\"))\n",
    "sum = value1 + value2\n",
    "print(\"sum of both values is:\",sum)\n"
   ]
  },
  {
   "cell_type": "markdown",
   "id": "6ca479ca-d846-4dcc-a5fb-933fd640b3e2",
   "metadata": {},
   "source": [
    "## arithmetic operators"
   ]
  },
  {
   "cell_type": "code",
   "execution_count": 34,
   "id": "a152651b-095b-40ed-a568-6061febee49b",
   "metadata": {},
   "outputs": [
    {
     "name": "stdin",
     "output_type": "stream",
     "text": [
      "enter 1st variable: 10\n",
      "enter 2nd variable: 3\n"
     ]
    },
    {
     "name": "stdout",
     "output_type": "stream",
     "text": [
      "v1 + v2 = 13.0\n",
      "v1 - v2 = 7.0\n",
      "v1 * v2 = 30.0\n",
      "v1 / v2 = 3.3333333333333335\n",
      "v1 % v2 = 1.0\n",
      "v1 // v2 = 3.0\n",
      "v1 ** v2 = 1000.0\n"
     ]
    }
   ],
   "source": [
    "# Assigning values to variables\n",
    "v1 = float(input(\"enter 1st variable:\"))\n",
    "v2 = float(input(\"enter 2nd variable:\"))\n",
    "\n",
    "# Addition\n",
    "print('v1 + v2 =', v1 + v2)\n",
    "\n",
    "# Subtraction\n",
    "print('v1 - v2 =', v1 - v2)\n",
    "\n",
    "# Multiplication\n",
    "print('v1 * v2 =', v1 * v2)\n",
    "\n",
    "# Division\n",
    "print('v1 / v2 =', v1 / v2)\n",
    "\n",
    "# Modulus: gives remainder\n",
    "print('v1 % v2 =', v1 % v2)\n",
    "\n",
    "# Floor Division: returns quotient but numbers after decimal are removed\n",
    "print('v1 // v2 =', v1 // v2)\n",
    "\n",
    "# Exponent: gives powered value\n",
    "print('v1 ** v2 =', v1 ** v2)"
   ]
  },
  {
   "cell_type": "markdown",
   "id": "783947c7-dcab-43da-8358-9b89726b943e",
   "metadata": {},
   "source": [
    "### importing math library"
   ]
  },
  {
   "cell_type": "code",
   "execution_count": 25,
   "id": "8445d3f3-4183-4236-a0b4-dd8e6590b35f",
   "metadata": {},
   "outputs": [
    {
     "data": {
      "text/plain": [
       "8"
      ]
     },
     "execution_count": 25,
     "metadata": {},
     "output_type": "execute_result"
    }
   ],
   "source": [
    "import math\n",
    "pow(2,3)\n"
   ]
  },
  {
   "cell_type": "markdown",
   "id": "f3f86bcd-17fe-4653-80b9-53a28d645ec6",
   "metadata": {},
   "source": [
    "### calculating power with user input"
   ]
  },
  {
   "cell_type": "code",
   "execution_count": 29,
   "id": "128c9418-fce3-4350-833c-986f9ddeaf3d",
   "metadata": {},
   "outputs": [
    {
     "name": "stdin",
     "output_type": "stream",
     "text": [
      "enter value 1: 2\n",
      "enter value 2: 4\n"
     ]
    },
    {
     "name": "stdout",
     "output_type": "stream",
     "text": [
      "16.0\n"
     ]
    }
   ],
   "source": [
    "value1 = float(input(\"enter value 1:\"))\n",
    "value2 = float(input(\"enter value 2:\"))\n",
    "power = value1 ** value2\n",
    "print(power)"
   ]
  },
  {
   "cell_type": "markdown",
   "id": "6b97bc69-4f14-4882-838f-94e5e327396e",
   "metadata": {},
   "source": [
    "### type casting"
   ]
  },
  {
   "cell_type": "code",
   "execution_count": 43,
   "id": "af84bec9-9d54-4c0e-8750-f24ff59d3109",
   "metadata": {},
   "outputs": [
    {
     "name": "stdout",
     "output_type": "stream",
     "text": [
      "<class 'str'>\n"
     ]
    }
   ],
   "source": [
    "number = str(6)\n",
    "print(type(number))"
   ]
  },
  {
   "cell_type": "code",
   "execution_count": 45,
   "id": "36d5fa51-667c-4ee3-ba37-61c0a23eae05",
   "metadata": {},
   "outputs": [
    {
     "ename": "NameError",
     "evalue": "name 'maryam' is not defined",
     "output_type": "error",
     "traceback": [
      "\u001b[1;31m---------------------------------------------------------------------------\u001b[0m",
      "\u001b[1;31mNameError\u001b[0m                                 Traceback (most recent call last)",
      "Cell \u001b[1;32mIn[45], line 1\u001b[0m\n\u001b[1;32m----> 1\u001b[0m name \u001b[38;5;241m=\u001b[39m \u001b[38;5;28mint\u001b[39m(maryam)\n\u001b[0;32m      2\u001b[0m \u001b[38;5;28mprint\u001b[39m(\u001b[38;5;28mtype\u001b[39m(name))\n",
      "\u001b[1;31mNameError\u001b[0m: name 'maryam' is not defined"
     ]
    }
   ],
   "source": [
    "name = int(maryam)\n",
    "print(type(name))"
   ]
  },
  {
   "cell_type": "code",
   "execution_count": 49,
   "id": "0dad12a3-4328-45d0-ba2b-c9af7d433467",
   "metadata": {},
   "outputs": [
    {
     "name": "stdout",
     "output_type": "stream",
     "text": [
      "<class 'int'>\n"
     ]
    }
   ],
   "source": [
    "num = int(\"6\")\n",
    "print(type(num))"
   ]
  },
  {
   "cell_type": "markdown",
   "id": "ddaacde3-2f47-499a-b09a-31f8c9def48d",
   "metadata": {},
   "source": [
    "### generating variables with i single line"
   ]
  },
  {
   "cell_type": "code",
   "execution_count": 54,
   "id": "884415c9-f24d-4c29-a207-203e68ff2606",
   "metadata": {},
   "outputs": [
    {
     "name": "stdout",
     "output_type": "stream",
     "text": [
      "maryam 23 female True\n",
      "<class 'str'> <class 'int'> <class 'str'> <class 'bool'>\n"
     ]
    }
   ],
   "source": [
    "name,age,gender,is_age = \"maryam\",23,\"female\",True\n",
    "print(name,age,gender,is_age)\n",
    "print(type(name),type(age),type(gender),type(is_age))"
   ]
  },
  {
   "cell_type": "markdown",
   "id": "af334175-7797-4bf1-a3a1-33d2469f6a4f",
   "metadata": {},
   "source": [
    "### changing letter cases"
   ]
  },
  {
   "cell_type": "code",
   "execution_count": 57,
   "id": "416e752b-797f-42ef-9da5-c67ac4472e58",
   "metadata": {},
   "outputs": [
    {
     "data": {
      "text/plain": [
       "'relational operators relational operators or comparison operators as their name suggest are used in comparing the values. the return type of these operators are either true or false. the different comparison operators are greater than, greater than or equal to, less than, lesser than or equal to, equal to, and not equal to.'"
      ]
     },
     "execution_count": 57,
     "metadata": {},
     "output_type": "execute_result"
    }
   ],
   "source": [
    "txt = \"Relational Operators Relational operators or comparison operators as their name suggest are used in comparing the values. The return type of these operators are either True or False. The different comparison operators are Greater than, Greater than or equal to, less than, lesser than or equal to, equal to, and not equal to.\"\n",
    "txt.lower()"
   ]
  },
  {
   "cell_type": "code",
   "execution_count": 59,
   "id": "27a1d24b-e8cc-46b2-bf4d-a4f96d98d4e7",
   "metadata": {},
   "outputs": [
    {
     "data": {
      "text/plain": [
       "'RELATIONAL OPERATORS RELATIONAL OPERATORS OR COMPARISON OPERATORS AS THEIR NAME SUGGEST ARE USED IN COMPARING THE VALUES. THE RETURN TYPE OF THESE OPERATORS ARE EITHER TRUE OR FALSE. THE DIFFERENT COMPARISON OPERATORS ARE GREATER THAN, GREATER THAN OR EQUAL TO, LESS THAN, LESSER THAN OR EQUAL TO, EQUAL TO, AND NOT EQUAL TO.'"
      ]
     },
     "execution_count": 59,
     "metadata": {},
     "output_type": "execute_result"
    }
   ],
   "source": [
    "txt = \"Relational Operators Relational operators or comparison operators as their name suggest are used in comparing the values. The return type of these operators are either True or False. The different comparison operators are Greater than, Greater than or equal to, less than, lesser than or equal to, equal to, and not equal to.\"\n",
    "txt.upper()\n"
   ]
  },
  {
   "cell_type": "markdown",
   "id": "8ea0e163-d7e9-441d-bb31-c7dbd57ab46c",
   "metadata": {},
   "source": [
    "### problem"
   ]
  },
  {
   "cell_type": "code",
   "execution_count": 64,
   "id": "2ddfa1bf-cd37-4da8-9449-ad36702c978e",
   "metadata": {},
   "outputs": [
    {
     "name": "stdin",
     "output_type": "stream",
     "text": [
      "enter marks of english: 88\n",
      "enter marks of math: 95\n",
      "enter marks of physics: 93\n",
      "enter marks of mechanics: 88\n",
      "enter marks of gis: 96\n"
     ]
    },
    {
     "name": "stdout",
     "output_type": "stream",
     "text": [
      "92.0\n"
     ]
    }
   ],
   "source": [
    "english = float(input(\"enter marks of english:\"))\n",
    "math = float(input(\"enter marks of math:\"))\n",
    "physics = float(input(\"enter marks of physics:\"))\n",
    "mechanics = float(input(\"enter marks of mechanics:\"))\n",
    "gis = float(input(\"enter marks of gis:\"))\n",
    "total = 500\n",
    "obtained = english + math + physics + mechanics + gis\n",
    "percentage = (obtained / total)* 100\n",
    "print(percentage)"
   ]
  },
  {
   "cell_type": "code",
   "execution_count": null,
   "id": "7f8178e7-d24b-43d1-bde1-6e7f3a3556c4",
   "metadata": {},
   "outputs": [],
   "source": []
  }
 ],
 "metadata": {
  "kernelspec": {
   "display_name": "Python 3 (ipykernel)",
   "language": "python",
   "name": "python3"
  },
  "language_info": {
   "codemirror_mode": {
    "name": "ipython",
    "version": 3
   },
   "file_extension": ".py",
   "mimetype": "text/x-python",
   "name": "python",
   "nbconvert_exporter": "python",
   "pygments_lexer": "ipython3",
   "version": "3.12.4"
  }
 },
 "nbformat": 4,
 "nbformat_minor": 5
}
