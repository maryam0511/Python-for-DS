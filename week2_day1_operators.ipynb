{
 "cells": [
  {
   "cell_type": "code",
   "execution_count": 3,
   "id": "ce9a69ac-701d-46f1-8bb3-9d4e81c5d87e",
   "metadata": {},
   "outputs": [
    {
     "name": "stdin",
     "output_type": "stream",
     "text": [
      "enter 1st number: 7\n",
      "enter 2nd number: 2\n"
     ]
    },
    {
     "name": "stdout",
     "output_type": "stream",
     "text": [
      "the result of the given numbers is: True\n"
     ]
    }
   ],
   "source": [
    "number1 = int(input(\"enter 1st number:\"))\n",
    "number2 = int(input(\"enter 2nd number:\"))\n",
    "print(\"the result of the given numbers is:\", number1>=number2)"
   ]
  },
  {
   "cell_type": "code",
   "execution_count": 1,
   "id": "4a64fabd-e991-4e65-97d8-9053d08d91a1",
   "metadata": {},
   "outputs": [
    {
     "name": "stdin",
     "output_type": "stream",
     "text": [
      "enter 1st number: 5\n",
      "enter 2nd number: 6\n"
     ]
    },
    {
     "name": "stdout",
     "output_type": "stream",
     "text": [
      "the result of the given numbers is: True\n"
     ]
    }
   ],
   "source": [
    "number1 = int(input(\"enter 1st number:\"))\n",
    "number2 = int(input(\"enter 2nd number:\"))\n",
    "print(\"the result of the given numbers is:\", number1!=number2)"
   ]
  },
  {
   "cell_type": "code",
   "execution_count": 5,
   "id": "8af1b88b-425d-4029-8503-af4ceae1d811",
   "metadata": {},
   "outputs": [
    {
     "name": "stdin",
     "output_type": "stream",
     "text": [
      "enter 1st number: 9\n",
      "enter 2nd number: 4\n"
     ]
    },
    {
     "name": "stdout",
     "output_type": "stream",
     "text": [
      "the result of the given numbers is: False\n"
     ]
    }
   ],
   "source": [
    "number1 = int(input(\"enter 1st number:\"))\n",
    "number2 = int(input(\"enter 2nd number:\"))\n",
    "print(\"the result of the given numbers is:\", number1<=number2)\n"
   ]
  },
  {
   "cell_type": "code",
   "execution_count": 7,
   "id": "a5d81291-f51c-4783-9b4e-225ba6e1bbee",
   "metadata": {},
   "outputs": [
    {
     "name": "stdin",
     "output_type": "stream",
     "text": [
      "enter 1st number: 5\n",
      "enter 2nd number: 8\n"
     ]
    },
    {
     "name": "stdout",
     "output_type": "stream",
     "text": [
      "the result of the given numbers is: False\n"
     ]
    }
   ],
   "source": [
    "number1 = int(input(\"enter 1st number:\"))\n",
    "number2 = int(input(\"enter 2nd number:\"))\n",
    "print(\"the result of the given numbers is:\", number1==number2)\n"
   ]
  },
  {
   "cell_type": "code",
   "execution_count": 9,
   "id": "acbea475-011c-4092-b792-d762e53d81da",
   "metadata": {},
   "outputs": [
    {
     "name": "stdin",
     "output_type": "stream",
     "text": [
      "enter 1st number: 5\n",
      "enter 2nd number: 5\n",
      "enter 3rd number: 5\n"
     ]
    },
    {
     "name": "stdout",
     "output_type": "stream",
     "text": [
      "the result of the given numbers is: True\n"
     ]
    }
   ],
   "source": [
    "number1 = int(input(\"enter 1st number:\"))\n",
    "number2 = int(input(\"enter 2nd number:\"))\n",
    "number3 = int(input(\"enter 3rd number:\"))\n",
    "print(\"the result of the given numbers is:\", number1==number2==number3)\n"
   ]
  },
  {
   "cell_type": "code",
   "execution_count": 11,
   "id": "85752c64-44d7-416f-a9eb-c72063cd30c4",
   "metadata": {},
   "outputs": [
    {
     "name": "stdin",
     "output_type": "stream",
     "text": [
      "enter 1st number: 10\n",
      "enter 2nd number: 5\n",
      "enter 3rd number: 2\n"
     ]
    },
    {
     "name": "stdout",
     "output_type": "stream",
     "text": [
      "the result of the given numbers is: True\n"
     ]
    }
   ],
   "source": [
    "number1 = int(input(\"enter 1st number:\"))\n",
    "number2 = int(input(\"enter 2nd number:\"))\n",
    "number3 = int(input(\"enter 3rd number:\"))\n",
    "print(\"the result of the given numbers is:\", number1>number2>number3)\n"
   ]
  },
  {
   "cell_type": "code",
   "execution_count": 17,
   "id": "debea1b9-f22e-4b28-9fdd-07f030287c12",
   "metadata": {},
   "outputs": [
    {
     "data": {
      "text/plain": [
       "False"
      ]
     },
     "execution_count": 17,
     "metadata": {},
     "output_type": "execute_result"
    }
   ],
   "source": [
    "#representation of and gate\n",
    "number1 = True\n",
    "number2 = False\n",
    "number1 and number2\n"
   ]
  },
  {
   "cell_type": "code",
   "execution_count": 19,
   "id": "5333c7ea-cf37-45be-8ea3-b63764ecdfaa",
   "metadata": {},
   "outputs": [
    {
     "data": {
      "text/plain": [
       "True"
      ]
     },
     "execution_count": 19,
     "metadata": {},
     "output_type": "execute_result"
    }
   ],
   "source": [
    "#representation of and gate\n",
    "number1 = True\n",
    "number2 = True\n",
    "number1 and number2\n"
   ]
  },
  {
   "cell_type": "code",
   "execution_count": 21,
   "id": "261044bf-ad0d-49de-aa01-4987ce034f8e",
   "metadata": {},
   "outputs": [
    {
     "data": {
      "text/plain": [
       "False"
      ]
     },
     "execution_count": 21,
     "metadata": {},
     "output_type": "execute_result"
    }
   ],
   "source": [
    "#representation of and gate\n",
    "number1 = False\n",
    "number2 = True\n",
    "number1 and number2\n"
   ]
  },
  {
   "cell_type": "code",
   "execution_count": 31,
   "id": "db96a3a7-6ded-4f96-b150-d0096114f27c",
   "metadata": {},
   "outputs": [
    {
     "name": "stdin",
     "output_type": "stream",
     "text": [
      "enter 1st value: True\n",
      "enter 2nd value: False\n"
     ]
    },
    {
     "name": "stdout",
     "output_type": "stream",
     "text": [
      "AND GATE: True\n",
      "NOT GATE: False\n",
      "OR GATE: True\n"
     ]
    }
   ],
   "source": [
    "value1 = bool(input(\"enter 1st value:\"))\n",
    "value2 = bool(input(\"enter 2nd value:\"))\n",
    "print(\"AND GATE:\", value1 and value1)\n",
    "print(\"NOT GATE:\", not value2)\n",
    "print(\"OR GATE:\", value1 or value2)\n"
   ]
  },
  {
   "cell_type": "code",
   "execution_count": 27,
   "id": "f7d13ef9-0d7c-4e3b-bc78-c42930a75121",
   "metadata": {},
   "outputs": [
    {
     "name": "stdout",
     "output_type": "stream",
     "text": [
      "AND GATE: True\n",
      "NOT GATE: True\n",
      "OR GATE: True\n"
     ]
    }
   ],
   "source": [
    "value1 = True\n",
    "value2 = False\n",
    "print(\"AND GATE:\", value1 and value1)\n",
    "print(\"NOT GATE:\", not value2)\n",
    "print(\"OR GATE:\", value1 or value2)"
   ]
  },
  {
   "cell_type": "code",
   "execution_count": 35,
   "id": "b392b364-7460-4167-b9cf-8a7c7af6cba9",
   "metadata": {},
   "outputs": [],
   "source": [
    "#ASSIGNMENT OPERATORS"
   ]
  },
  {
   "cell_type": "code",
   "execution_count": 37,
   "id": "ea1854de-cbdf-4a28-abe7-83be6b92eb3a",
   "metadata": {},
   "outputs": [
    {
     "name": "stdout",
     "output_type": "stream",
     "text": [
      "15\n"
     ]
    }
   ],
   "source": [
    "number = 10\n",
    "number+=5\n",
    "print(number)\n"
   ]
  },
  {
   "cell_type": "code",
   "execution_count": 47,
   "id": "bd67551d-f422-44ed-ae43-a62150694f4a",
   "metadata": {},
   "outputs": [
    {
     "name": "stdin",
     "output_type": "stream",
     "text": [
      "enter number: 10\n"
     ]
    },
    {
     "name": "stdout",
     "output_type": "stream",
     "text": [
      "10 + 5 = 15\n"
     ]
    }
   ],
   "source": [
    "number1 = int(input(\"enter number:\"))\n",
    "result = number1+5\n",
    "print(number1, \"+ 5 =\", result)"
   ]
  },
  {
   "cell_type": "code",
   "execution_count": 63,
   "id": "0357afde-e396-40ac-b4fd-7f17f436a436",
   "metadata": {},
   "outputs": [
    {
     "name": "stdout",
     "output_type": "stream",
     "text": [
      "False\n",
      "140716069239352\n",
      "140716069239352\n"
     ]
    }
   ],
   "source": [
    "a = 5\n",
    "b = 5\n",
    "print(a is not b)\n",
    "print(id(a))\n",
    "print(id(b))\n"
   ]
  },
  {
   "cell_type": "code",
   "execution_count": 59,
   "id": "9c922e47-5785-4bc1-87dc-d54ca49724cb",
   "metadata": {},
   "outputs": [
    {
     "data": {
      "text/plain": [
       "False"
      ]
     },
     "execution_count": 59,
     "metadata": {},
     "output_type": "execute_result"
    }
   ],
   "source": [
    "passage1 = (\"I started writing articles on this website back in 2009. When I started out, I wanted to write articles that are interesting not just to me, but to you, the reader. I wanted this website to become home to some of the most interesting reads online, combining short, informative, and thought provoking articles in one place.\")\n",
    "passage2 = (\"Since then, I’ve written hundreds of interesting articles for this website and for numerous newspapers and magazines. The best articles have made it onto this page. Scroll down to view them in reverse chronological order, or to read some of my best articles for other publications, head to the about me page.\")\n",
    "passage1 is passage2"
   ]
  },
  {
   "cell_type": "code",
   "execution_count": 67,
   "id": "38ac5d6e-b201-4345-b28c-279334297770",
   "metadata": {},
   "outputs": [
    {
     "data": {
      "text/plain": [
       "True"
      ]
     },
     "execution_count": 67,
     "metadata": {},
     "output_type": "execute_result"
    }
   ],
   "source": [
    "name = \"maryam\"\n",
    "'a' in name"
   ]
  },
  {
   "cell_type": "code",
   "execution_count": 65,
   "id": "934156ac-c9c6-465e-a57a-a9e7d31f72ce",
   "metadata": {},
   "outputs": [
    {
     "name": "stdout",
     "output_type": "stream",
     "text": [
      "True\n",
      "140716069239352\n",
      "140716069239352\n"
     ]
    }
   ],
   "source": [
    "a = 5\n",
    "b = 5\n",
    "print(a is b)\n",
    "print(id(a))\n",
    "print(id(b))\n"
   ]
  },
  {
   "cell_type": "code",
   "execution_count": 69,
   "id": "a9713f62-5b61-455d-a30b-864cd1b06e5e",
   "metadata": {},
   "outputs": [],
   "source": [
    "#MEMBERSHIP OPERATORS"
   ]
  },
  {
   "cell_type": "code",
   "execution_count": 71,
   "id": "a621b0e6-3961-4034-b168-256270291557",
   "metadata": {},
   "outputs": [
    {
     "data": {
      "text/plain": [
       "True"
      ]
     },
     "execution_count": 71,
     "metadata": {},
     "output_type": "execute_result"
    }
   ],
   "source": [
    "#IN OPERATOR\n",
    "name = \"maryam\"\n",
    "'m' in name"
   ]
  },
  {
   "cell_type": "code",
   "execution_count": 73,
   "id": "72ed2613-2632-47e9-bc68-7918aa0e62be",
   "metadata": {},
   "outputs": [
    {
     "data": {
      "text/plain": [
       "True"
      ]
     },
     "execution_count": 73,
     "metadata": {},
     "output_type": "execute_result"
    }
   ],
   "source": [
    "#NOT IN OPEATOR\n",
    "name = \"maryam\"\n",
    "'s' not in name"
   ]
  },
  {
   "cell_type": "code",
   "execution_count": 77,
   "id": "4d7d0761-066d-488d-ad6c-b43fd9c162f1",
   "metadata": {},
   "outputs": [
    {
     "data": {
      "text/plain": [
       "False"
      ]
     },
     "execution_count": 77,
     "metadata": {},
     "output_type": "execute_result"
    }
   ],
   "source": [
    "names = [\"maryam\",\"umer\",\"saif\"]\n",
    "\"maryam\" in names\n",
    "\"hussain\" in names"
   ]
  },
  {
   "cell_type": "code",
   "execution_count": null,
   "id": "01dc59ba-5d95-4498-8984-2a83a3a2df32",
   "metadata": {},
   "outputs": [],
   "source": []
  }
 ],
 "metadata": {
  "kernelspec": {
   "display_name": "Python 3 (ipykernel)",
   "language": "python",
   "name": "python3"
  },
  "language_info": {
   "codemirror_mode": {
    "name": "ipython",
    "version": 3
   },
   "file_extension": ".py",
   "mimetype": "text/x-python",
   "name": "python",
   "nbconvert_exporter": "python",
   "pygments_lexer": "ipython3",
   "version": "3.12.4"
  }
 },
 "nbformat": 4,
 "nbformat_minor": 5
}
