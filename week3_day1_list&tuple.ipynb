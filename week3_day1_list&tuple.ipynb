{
 "cells": [
  {
   "cell_type": "code",
   "execution_count": 54,
   "id": "3a4673da-1a90-43f6-b860-1866c32c5fb0",
   "metadata": {},
   "outputs": [
    {
     "name": "stdout",
     "output_type": "stream",
     "text": [
      "['oranges', 'strawberry', 'kiwi', 'pomegranate', ['grapefruit', 'avacado', 'watermelon', 'papaya']]\n"
     ]
    }
   ],
   "source": [
    "fav_fruits = ['oranges','strawberry','kiwi','pomegranate']\n",
    "disliked_fruits = ['grapefruit','avacado','watermelon','papaya']\n",
    "occasional_fruits =['apple','banana','guava','peach']  \n",
    "#adding seond list to the first list\n",
    "fav_fruits.append(disliked_fruits)\n",
    "print(fav_fruits)"
   ]
  },
  {
   "cell_type": "code",
   "execution_count": 56,
   "id": "dd0699e9-5d91-4b11-8c5e-b866cc51bf0c",
   "metadata": {},
   "outputs": [
    {
     "name": "stdout",
     "output_type": "stream",
     "text": [
      "[['apple', 'banana', 'guava', 'peach'], 'oranges', 'strawberry', 'kiwi', 'pomegranate', ['grapefruit', 'avacado', 'watermelon', 'papaya']]\n"
     ]
    }
   ],
   "source": [
    "#adding 3rd list to 1st list at index 0\n",
    "fav_fruits.insert(0,occasional_fruits)\n",
    "print(fav_fruits)"
   ]
  },
  {
   "cell_type": "code",
   "execution_count": 12,
   "id": "4c5f122e-53ae-4fa8-aefd-5ea62afed6e4",
   "metadata": {},
   "outputs": [
    {
     "name": "stdout",
     "output_type": "stream",
     "text": [
      "['avacado', 'watermelon']\n"
     ]
    }
   ],
   "source": [
    "print(fav_fruits[5][1:3])"
   ]
  },
  {
   "cell_type": "code",
   "execution_count": 16,
   "id": "bca7dd2b-5f52-42ec-aeaa-22405ebf7a2e",
   "metadata": {},
   "outputs": [
    {
     "data": {
      "text/plain": [
       "4"
      ]
     },
     "execution_count": 16,
     "metadata": {},
     "output_type": "execute_result"
    }
   ],
   "source": [
    "len(fav_fruits)\n",
    "len(fav_fruits[5])"
   ]
  },
  {
   "cell_type": "code",
   "execution_count": 18,
   "id": "6dda4a9f-587f-48b7-84af-62322121a56a",
   "metadata": {},
   "outputs": [
    {
     "name": "stdout",
     "output_type": "stream",
     "text": [
      "[['apple', 'banana', 'guava', 'peach'], 'oranges', 'strawberry', 'kiwi', 'pomegranate', ['grapefruit', 'avacado', 'watermelon', 'papaya']]\n"
     ]
    }
   ],
   "source": [
    "print(fav_fruits)"
   ]
  },
  {
   "cell_type": "code",
   "execution_count": 20,
   "id": "28ff372a-0189-428f-96a5-78d5dc07d9f2",
   "metadata": {},
   "outputs": [
    {
     "name": "stdout",
     "output_type": "stream",
     "text": [
      "[['apple', 'banana', 'guava', 'peach'], 'oranges', 'strawberry', 'kiwi', 'pomegranate', ['grapefruit', 'avacado', 'watermelon', 'papaya']]\n"
     ]
    }
   ],
   "source": [
    "fav_fruits.reverse\n",
    "print(fav_fruits)"
   ]
  },
  {
   "cell_type": "code",
   "execution_count": 44,
   "id": "0848ffc5-7e8c-4569-93c3-6b51ccedd0c9",
   "metadata": {},
   "outputs": [
    {
     "name": "stdout",
     "output_type": "stream",
     "text": [
      "[['apple', 'banana', 'guava', 'peach'], 'oranges', 'strawberry', 'kiwi', 'pomegranate', ['grapefruit', 'papaya']]\n"
     ]
    }
   ],
   "source": [
    "\n",
    "fav_fruits[5].remove('watermelon')\n",
    "print(fav_fruits)"
   ]
  },
  {
   "cell_type": "code",
   "execution_count": 46,
   "id": "b3aea47c-f4a1-49c5-ad54-f83994fc5759",
   "metadata": {},
   "outputs": [
    {
     "name": "stdout",
     "output_type": "stream",
     "text": [
      "[]\n"
     ]
    }
   ],
   "source": [
    "#clearing the entire list in one go\n",
    "fav_fruits.clear()\n",
    "print(fav_fruits)"
   ]
  },
  {
   "cell_type": "code",
   "execution_count": 48,
   "id": "2c56dffe-4dda-4982-829d-99f852e924f1",
   "metadata": {},
   "outputs": [],
   "source": [
    "#deleting list\n",
    "del fav_fruits"
   ]
  },
  {
   "cell_type": "code",
   "execution_count": 58,
   "id": "c7b4bf83-71d6-426c-bf21-93c239ab3b14",
   "metadata": {},
   "outputs": [
    {
     "name": "stdout",
     "output_type": "stream",
     "text": [
      "[['apple', 'banana', 'guava', 'peach'], 'oranges', 'strawberry', 'kiwi', 'pomegranate', ['grapefruit', 'avacado', 'watermelon', 'papaya']]\n"
     ]
    }
   ],
   "source": [
    "print(fav_fruits)"
   ]
  },
  {
   "cell_type": "code",
   "execution_count": 62,
   "id": "ac4611e0-7c31-42fb-a887-307486463a69",
   "metadata": {},
   "outputs": [
    {
     "data": {
      "text/plain": [
       "True"
      ]
     },
     "execution_count": 62,
     "metadata": {},
     "output_type": "execute_result"
    }
   ],
   "source": [
    "#membership operators\n",
    "'oranges' in fav_fruits"
   ]
  },
  {
   "cell_type": "code",
   "execution_count": 66,
   "id": "7d1759fd-df0e-4b9c-96f6-b631a468306b",
   "metadata": {},
   "outputs": [
    {
     "data": {
      "text/plain": [
       "True"
      ]
     },
     "execution_count": 66,
     "metadata": {},
     "output_type": "execute_result"
    }
   ],
   "source": [
    "'grape' not in fav_fruits"
   ]
  },
  {
   "cell_type": "code",
   "execution_count": 76,
   "id": "f79f73b5-26e6-4b09-a9a2-19b89d668414",
   "metadata": {},
   "outputs": [
    {
     "data": {
      "text/plain": [
       "False"
      ]
     },
     "execution_count": 76,
     "metadata": {},
     "output_type": "execute_result"
    }
   ],
   "source": [
    "'apple' in fav_fruits    #sub list is not defined here"
   ]
  },
  {
   "cell_type": "code",
   "execution_count": 78,
   "id": "d78b8174-6ed5-448c-8870-ce5e5a6e6663",
   "metadata": {},
   "outputs": [
    {
     "data": {
      "text/plain": [
       "True"
      ]
     },
     "execution_count": 78,
     "metadata": {},
     "output_type": "execute_result"
    }
   ],
   "source": [
    "'apple' in fav_fruits[0]  #here sublist is defined hene output is true"
   ]
  },
  {
   "cell_type": "markdown",
   "id": "c7f7d3bb-04c8-4895-87cd-22b4848fa19f",
   "metadata": {},
   "source": [
    "# TUPLE"
   ]
  },
  {
   "cell_type": "code",
   "execution_count": 113,
   "id": "3cc968e9-a921-4b33-a778-2c9922949674",
   "metadata": {},
   "outputs": [
    {
     "name": "stdout",
     "output_type": "stream",
     "text": [
      "(1, 2, 3, 4, 5)\n",
      "<class 'tuple'>\n"
     ]
    }
   ],
   "source": [
    "numbers = (1,2,3,4,5)\n",
    "print(numbers)\n",
    "print(type(numbers))"
   ]
  },
  {
   "cell_type": "code",
   "execution_count": 85,
   "id": "5864c0f6-cd03-415b-9b3c-7c37b6785e53",
   "metadata": {},
   "outputs": [
    {
     "data": {
      "text/plain": [
       "1"
      ]
     },
     "execution_count": 85,
     "metadata": {},
     "output_type": "execute_result"
    }
   ],
   "source": [
    "numbers[0]"
   ]
  },
  {
   "cell_type": "code",
   "execution_count": 87,
   "id": "99cdd5ad-34ba-4522-9262-57a0890d654c",
   "metadata": {},
   "outputs": [
    {
     "data": {
      "text/plain": [
       "4"
      ]
     },
     "execution_count": 87,
     "metadata": {},
     "output_type": "execute_result"
    }
   ],
   "source": [
    "numbers[-2]"
   ]
  },
  {
   "cell_type": "code",
   "execution_count": 95,
   "id": "dc2a0c0c-13d9-41bc-869e-ef92a59d460c",
   "metadata": {},
   "outputs": [],
   "source": [
    "#tuple doesnot support append\n",
    "#numbers.append(6) gives error as tuple doesnot support append\n",
    "#similiarly other functions like insert, pop, remove and others are not supported for tuple"
   ]
  },
  {
   "cell_type": "code",
   "execution_count": 101,
   "id": "75fc5233-6642-4baf-b27c-61c6b8bf0a47",
   "metadata": {},
   "outputs": [
    {
     "data": {
      "text/plain": [
       "3"
      ]
     },
     "execution_count": 101,
     "metadata": {},
     "output_type": "execute_result"
    }
   ],
   "source": [
    "numbers.count(2)"
   ]
  },
  {
   "cell_type": "code",
   "execution_count": 115,
   "id": "ac4ff45c-3a7e-47b7-a491-c0cc3a37a402",
   "metadata": {},
   "outputs": [
    {
     "name": "stdout",
     "output_type": "stream",
     "text": [
      "(1, 2, 3, 4, 5)\n",
      "(19, 12, 23, 11, 25, 26)\n"
     ]
    }
   ],
   "source": [
    "number1 = (19,12,23,11,25,26)\n",
    "print(numbers)\n",
    "print(number1)"
   ]
  },
  {
   "cell_type": "code",
   "execution_count": 173,
   "id": "4537ef10-38b9-4d1b-9562-e468f89fae8c",
   "metadata": {},
   "outputs": [
    {
     "name": "stdout",
     "output_type": "stream",
     "text": [
      "(1, 2, 3, 4, 5, 19, 12, 23, 11, 25, 26)\n"
     ]
    }
   ],
   "source": [
    "number_list = numbers + number1    #here it doesnot means addition but concatenation\n",
    "print(number_list)                 #concatenation only works with numbers\n",
    "\n",
    "#numbers - number1    tuple doesnot support arithmetic operations"
   ]
  },
  {
   "cell_type": "code",
   "execution_count": 119,
   "id": "2d2d418f-dc51-4d4e-bc46-73189fb5a5a3",
   "metadata": {},
   "outputs": [
    {
     "data": {
      "text/plain": [
       "15"
      ]
     },
     "execution_count": 119,
     "metadata": {},
     "output_type": "execute_result"
    }
   ],
   "source": [
    "5*3"
   ]
  },
  {
   "cell_type": "code",
   "execution_count": 123,
   "id": "21faae96-4a16-429a-af7a-494aff878d7c",
   "metadata": {},
   "outputs": [
    {
     "data": {
      "text/plain": [
       "'53'"
      ]
     },
     "execution_count": 123,
     "metadata": {},
     "output_type": "execute_result"
    }
   ],
   "source": [
    "#concatenation\n",
    "'5'+'3'"
   ]
  },
  {
   "cell_type": "code",
   "execution_count": 129,
   "id": "c082e903-ae1f-4a26-9477-09c6cf0b7f86",
   "metadata": {},
   "outputs": [
    {
     "data": {
      "text/plain": [
       "(19, 12, 23, 11, 25, 26, 19, 12, 23, 11, 25, 26, 19, 12, 23, 11, 25, 26)"
      ]
     },
     "execution_count": 129,
     "metadata": {},
     "output_type": "execute_result"
    }
   ],
   "source": [
    "#prints the required tuple thrice\n",
    "number1 * 3"
   ]
  },
  {
   "cell_type": "code",
   "execution_count": 139,
   "id": "9ae3c7d0-3d56-4e9b-a677-07395ddf7422",
   "metadata": {},
   "outputs": [
    {
     "data": {
      "text/plain": [
       "5"
      ]
     },
     "execution_count": 139,
     "metadata": {},
     "output_type": "execute_result"
    }
   ],
   "source": [
    "#finding index of our specified element\n",
    "number_list.index(19)"
   ]
  },
  {
   "cell_type": "code",
   "execution_count": 135,
   "id": "2a5d166b-0c05-4ce1-a244-3122b1471261",
   "metadata": {},
   "outputs": [
    {
     "data": {
      "text/plain": [
       "<function tuple.index(value, start=0, stop=9223372036854775807, /)>"
      ]
     },
     "execution_count": 135,
     "metadata": {},
     "output_type": "execute_result"
    }
   ],
   "source": [
    "number1.index"
   ]
  },
  {
   "cell_type": "code",
   "execution_count": 141,
   "id": "92bca98e-2bca-469d-baa5-7dffadf9854d",
   "metadata": {},
   "outputs": [
    {
     "data": {
      "text/plain": [
       "[['apple', 'banana', 'guava', 'peach'],\n",
       " 'oranges',\n",
       " 'strawberry',\n",
       " 'kiwi',\n",
       " 'pomegranate',\n",
       " ['grapefruit', 'avacado', 'watermelon', 'papaya']]"
      ]
     },
     "execution_count": 141,
     "metadata": {},
     "output_type": "execute_result"
    }
   ],
   "source": [
    "fav_fruits"
   ]
  },
  {
   "cell_type": "code",
   "execution_count": 145,
   "id": "bd9b3bd8-0255-45bb-ad6c-3b137af33a68",
   "metadata": {},
   "outputs": [
    {
     "name": "stdout",
     "output_type": "stream",
     "text": [
      "[['apple', 'banana', 'guava', 'peach'], 'oranges', 'strawberry', 'kiwi', 'pomegranate', ['grapefruit', 'avacado', 'watermelon', 'papaya'], ('melon', 'blueberry', 'raspberry', 'apricot')]\n"
     ]
    }
   ],
   "source": [
    "fruits_tuple = ('melon','blueberry','raspberry','apricot')\n",
    "fav_fruits.append(fruits_tuple)\n",
    "print(fav_fruits)"
   ]
  },
  {
   "cell_type": "code",
   "execution_count": 153,
   "id": "4238e5bf-b2f6-40fa-82d2-fdf0b6bcd0a9",
   "metadata": {},
   "outputs": [],
   "source": [
    "#fruits_tuple.append(fav_fruits)\n",
    "#print(fruits_tuple)\n",
    "\n",
    "#can only concaatenate tuple to tuple\n",
    "#fruits_list = fruits_tuple + fav_fruits"
   ]
  },
  {
   "cell_type": "code",
   "execution_count": 157,
   "id": "622f6796-07a1-44b2-a736-12284b78c499",
   "metadata": {},
   "outputs": [
    {
     "name": "stdout",
     "output_type": "stream",
     "text": [
      "<class 'list'>\n"
     ]
    }
   ],
   "source": [
    "print(type(fav_fruits))    #although tuple is added here but it still considers as list"
   ]
  },
  {
   "cell_type": "code",
   "execution_count": 159,
   "id": "ec3725b0-0d47-414b-85a7-3eede605fb27",
   "metadata": {},
   "outputs": [
    {
     "data": {
      "text/plain": [
       "26"
      ]
     },
     "execution_count": 159,
     "metadata": {},
     "output_type": "execute_result"
    }
   ],
   "source": [
    "max(number1)"
   ]
  },
  {
   "cell_type": "code",
   "execution_count": 191,
   "id": "5b0261e3-50b3-47f3-bacb-1cd966593a15",
   "metadata": {},
   "outputs": [
    {
     "data": {
      "text/plain": [
       "11"
      ]
     },
     "execution_count": 191,
     "metadata": {},
     "output_type": "execute_result"
    }
   ],
   "source": [
    "min(number1)"
   ]
  },
  {
   "cell_type": "code",
   "execution_count": 163,
   "id": "d9cf8fe9-2983-4172-a8dc-fb68ec2efc00",
   "metadata": {},
   "outputs": [
    {
     "data": {
      "text/plain": [
       "6"
      ]
     },
     "execution_count": 163,
     "metadata": {},
     "output_type": "execute_result"
    }
   ],
   "source": [
    "len(number1)"
   ]
  },
  {
   "cell_type": "code",
   "execution_count": 167,
   "id": "75faaaf1-51ee-4765-96a7-f38cc4085c4c",
   "metadata": {},
   "outputs": [
    {
     "data": {
      "text/plain": [
       "[26, 25, 23, 19, 12, 11]"
      ]
     },
     "execution_count": 167,
     "metadata": {},
     "output_type": "execute_result"
    }
   ],
   "source": [
    "sorted(number1, reverse= True)"
   ]
  },
  {
   "cell_type": "code",
   "execution_count": 169,
   "id": "051896f3-5933-4dde-8f6f-5994c28142c5",
   "metadata": {},
   "outputs": [
    {
     "data": {
      "text/plain": [
       "1"
      ]
     },
     "execution_count": 169,
     "metadata": {},
     "output_type": "execute_result"
    }
   ],
   "source": [
    "number1.count(19)"
   ]
  },
  {
   "cell_type": "code",
   "execution_count": 183,
   "id": "0a8ba60c-d3b6-4ef3-8ff8-abe4193879a3",
   "metadata": {},
   "outputs": [
    {
     "name": "stdout",
     "output_type": "stream",
     "text": [
      "<class 'int'>\n"
     ]
    }
   ],
   "source": [
    "#declaring and initializing multiple variables in a single line (not a tuple)\n",
    "#unpacking of an element of a tuple\n",
    "num1, num2, num3 = (2,3,4)\n",
    "print(type(num1))"
   ]
  },
  {
   "cell_type": "code",
   "execution_count": 187,
   "id": "13a5f166-9cc8-4048-9db4-7d05cab67bff",
   "metadata": {},
   "outputs": [
    {
     "name": "stdout",
     "output_type": "stream",
     "text": [
      "[7, 8]\n"
     ]
    }
   ],
   "source": [
    "#here only one element has a name but others are all are assigned the the name others, any name in plae of tuple can be used (* is must)\n",
    "num1, *others = (6,7,8)\n",
    "print(others)"
   ]
  },
  {
   "cell_type": "code",
   "execution_count": 193,
   "id": "91b304eb-4209-48ec-b2be-60bb7237fdf1",
   "metadata": {},
   "outputs": [
    {
     "name": "stdout",
     "output_type": "stream",
     "text": [
      "<class 'list'>\n"
     ]
    }
   ],
   "source": [
    "#explicitly changing tuple to list (it will be considered a list onwards \n",
    "print(type(list(fav_fruits)))"
   ]
  },
  {
   "cell_type": "code",
   "execution_count": null,
   "id": "896365cc-2a41-4852-a54e-8c239c3cb52b",
   "metadata": {},
   "outputs": [],
   "source": []
  }
 ],
 "metadata": {
  "kernelspec": {
   "display_name": "Python 3 (ipykernel)",
   "language": "python",
   "name": "python3"
  },
  "language_info": {
   "codemirror_mode": {
    "name": "ipython",
    "version": 3
   },
   "file_extension": ".py",
   "mimetype": "text/x-python",
   "name": "python",
   "nbconvert_exporter": "python",
   "pygments_lexer": "ipython3",
   "version": "3.12.4"
  }
 },
 "nbformat": 4,
 "nbformat_minor": 5
}
