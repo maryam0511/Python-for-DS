{
 "cells": [
  {
   "cell_type": "markdown",
   "id": "40677ba2-4f22-4c0e-a864-f784b764a047",
   "metadata": {},
   "source": [
    "# FUNCTIONS & ITERATIVE STATEMENTS"
   ]
  },
  {
   "cell_type": "markdown",
   "id": "e2a567bd-c5a3-4ae0-ae45-f12db58bf695",
   "metadata": {},
   "source": [
    "### Question 1"
   ]
  },
  {
   "cell_type": "code",
   "execution_count": 1,
   "id": "58854d76-3b81-4c19-b954-889e2af09777",
   "metadata": {},
   "outputs": [
    {
     "name": "stdin",
     "output_type": "stream",
     "text": [
      "Enter the number of rows: 7\n"
     ]
    },
    {
     "name": "stdout",
     "output_type": "stream",
     "text": [
      "#\n",
      "##\n",
      "###\n",
      "####\n",
      "#####\n",
      "######\n",
      "#######\n"
     ]
    }
   ],
   "source": [
    "#Write a loop that makes seven calls to print(), so we get on the output the following triangle:\n",
    "#\n",
    "##\n",
    "###\n",
    "####\n",
    "#####\n",
    "######\n",
    "#######\n",
    "\n",
    "rows = int(input(\"Enter the number of rows:\"))\n",
    "for i in range(1,rows+1):\n",
    "    for j in range(1,i+1):\n",
    "        print(\"#\",end=\"\")\n",
    "    print(\"\")"
   ]
  },
  {
   "cell_type": "markdown",
   "id": "48a96394-b055-4a65-8342-8a4f3f34c41f",
   "metadata": {},
   "source": [
    "### Question 2"
   ]
  },
  {
   "cell_type": "code",
   "execution_count": 4,
   "id": "9616d8f6-f204-4b45-b5db-9f4e0d64d3cb",
   "metadata": {},
   "outputs": [
    {
     "name": "stdin",
     "output_type": "stream",
     "text": [
      "Enter the number of rows: 8\n",
      "Enter the number of columns: 8\n"
     ]
    },
    {
     "name": "stdout",
     "output_type": "stream",
     "text": [
      "########\n",
      "########\n",
      "########\n",
      "########\n",
      "########\n",
      "########\n",
      "########\n",
      "########\n"
     ]
    }
   ],
   "source": [
    "#Use nested loops to create the following:\n",
    "# # # # # # # #\n",
    "# # # # # # # #\n",
    "# # # # # # # #\n",
    "# # # # # # # #\n",
    "# # # # # # # #\n",
    "# # # # # # # #\n",
    "# # # # # # # #\n",
    "# # # # # # # #\n",
    "\n",
    "rows = int(input(\"Enter the number of rows:\"))\n",
    "columns = int(input(\"Enter the number of columns:\"))\n",
    "\n",
    "for i in range(rows):\n",
    "    for j in range(columns):\n",
    "        print(\"#\",end=\"\")\n",
    "    print(\"\")"
   ]
  },
  {
   "cell_type": "markdown",
   "id": "ef9e1633-9e0c-439e-9222-8c9cbeeaa962",
   "metadata": {},
   "source": [
    "### Question 3"
   ]
  },
  {
   "cell_type": "code",
   "execution_count": 8,
   "id": "43babbbb-a0cb-4cc3-a102-eaeb63e2b757",
   "metadata": {},
   "outputs": [
    {
     "name": "stdout",
     "output_type": "stream",
     "text": [
      "Python\n",
      "Numpy\n",
      "Pandas\n",
      "Django\n",
      "Flask\n"
     ]
    }
   ],
   "source": [
    "#Iterate through the list, ['Python', 'Numpy','Pandas','Django', 'Flask'] using a for loop and print out the items.\n",
    "\n",
    "list = [\"Python\",\"Numpy\",\"Pandas\",\"Django\",\"Flask\"]\n",
    "\n",
    "for item in list:\n",
    "    print(item)"
   ]
  },
  {
   "cell_type": "markdown",
   "id": "16c22945-11c6-4abf-b896-23675cd8f2fe",
   "metadata": {},
   "source": [
    "### Question 4"
   ]
  },
  {
   "cell_type": "code",
   "execution_count": 15,
   "id": "44f814cf-1f63-457d-9306-bf781c5ad058",
   "metadata": {},
   "outputs": [
    {
     "name": "stdout",
     "output_type": "stream",
     "text": [
      "Even sum: 2550\n",
      "Odd sum: 2500\n"
     ]
    }
   ],
   "source": [
    "#Use for loop to iterate from 0 to 100 and print the sum of all evens and the sum of all odds.\n",
    "\n",
    "even_sum = 0\n",
    "odd_sum = 0\n",
    "for num in range(1,101):\n",
    "    if num%2==0:\n",
    "        even_sum += num\n",
    "    else:\n",
    "        odd_sum += num\n",
    "\n",
    "print(\"Even sum:\",even_sum)\n",
    "print(\"Odd sum:\",odd_sum)"
   ]
  },
  {
   "cell_type": "markdown",
   "id": "fcb60bd4-56ab-41a1-9b36-a06fa0cc664d",
   "metadata": {},
   "source": [
    "### Question 5"
   ]
  },
  {
   "cell_type": "code",
   "execution_count": 12,
   "id": "7691a65a-15b5-4392-9a2d-630600422aa4",
   "metadata": {},
   "outputs": [
    {
     "name": "stdin",
     "output_type": "stream",
     "text": [
      "Calculate cube from 1 to 5\n"
     ]
    },
    {
     "name": "stdout",
     "output_type": "stream",
     "text": [
      "cubes of numbers from 1 t0 5\n",
      "1 = 1\n",
      "2 = 8\n",
      "3 = 27\n",
      "4 = 64\n",
      "5 = 125\n"
     ]
    }
   ],
   "source": [
    "#Calculate the cube of all numbers from 1 to a given number.\n",
    "\n",
    "num = int(input(\"Calculate cube from 1 to\"))\n",
    "print(\"cubes of numbers from 1 t0\",num)\n",
    "for i in range(1,num+1):\n",
    "    print(i,\"=\",i**3)\n",
    "    "
   ]
  },
  {
   "cell_type": "markdown",
   "id": "70609c30-0100-4a4f-8b46-bf3be9d6b546",
   "metadata": {},
   "source": [
    "### Question 6"
   ]
  },
  {
   "cell_type": "code",
   "execution_count": 15,
   "id": "55da51b8-890f-4eb5-ba67-e2a3ab5f99d6",
   "metadata": {},
   "outputs": [
    {
     "name": "stdin",
     "output_type": "stream",
     "text": [
      "Enter 1st integer: 6\n",
      "Enter 2nd integer: 8\n"
     ]
    },
    {
     "name": "stdout",
     "output_type": "stream",
     "text": [
      "1st integer: 6.0\n",
      "2nd integer: 8.0\n",
      "Sum of the two integers: 14.0\n"
     ]
    }
   ],
   "source": [
    "#Declare a function add_two_numbers. It takes two parameters and it returns a sum.\n",
    "\n",
    "def add_two_numbers():\n",
    "    print(\"1st integer:\",num1)\n",
    "    print(\"2nd integer:\",num2)\n",
    "    print(\"Sum of the two integers:\",num1+num2)\n",
    "\n",
    "num1 = float(input(\"Enter 1st integer:\"))\n",
    "num2 = float(input(\"Enter 2nd integer:\"))\n",
    "add_two_numbers()"
   ]
  },
  {
   "cell_type": "markdown",
   "id": "04906468-f88a-46e8-9e2e-03a72cec5a58",
   "metadata": {},
   "source": [
    "### Question 7"
   ]
  },
  {
   "cell_type": "code",
   "execution_count": 20,
   "id": "03d9a98c-73dd-458f-bba6-cdc82129354d",
   "metadata": {},
   "outputs": [
    {
     "name": "stdin",
     "output_type": "stream",
     "text": [
      "Enter the radius of circle: 6\n"
     ]
    },
    {
     "name": "stdout",
     "output_type": "stream",
     "text": [
      "Area of circle is: 113.112\n"
     ]
    }
   ],
   "source": [
    "#Area of a circle is calculated as follows: area = π x r x r. Write a function that calculates area_of_circle.\n",
    "\n",
    "def area_of_circle():\n",
    "    pi = 3.142\n",
    "    print(\"Area of circle is:\",pi*radius*radius) \n",
    "\n",
    "radius = float(input(\"Enter the radius of circle:\"))\n",
    "area_of_circle()"
   ]
  },
  {
   "cell_type": "markdown",
   "id": "fb58bb37-9fe2-47b7-9863-ea1ce10363b1",
   "metadata": {},
   "source": [
    "### Question 8"
   ]
  },
  {
   "cell_type": "code",
   "execution_count": 61,
   "id": "220f9b57-5f8d-4885-8f09-4a301dfb6fd0",
   "metadata": {},
   "outputs": [
    {
     "name": "stdout",
     "output_type": "stream",
     "text": [
      "Sum: 15\n"
     ]
    }
   ],
   "source": [
    "#Write a function called add_all_nums which takes an arbitrary number of arguments and sums all the arguments. Check if all the list items are number types. If not, do give reasonable feedback.\n",
    "\n",
    "def add_all_nums(*args):\n",
    "    if all(isinstance(arg, (int, float)) for arg in args):\n",
    "        print(\"Sum:\", sum(args))\n",
    "        return\n",
    "    else:\n",
    "        print(\"All arguments must be integer or float.\")\n",
    "        return\n",
    "\n",
    "add_all_nums(1,2,3,4,5)\n",
    "#add_all_nums(1,2,3,'a')"
   ]
  },
  {
   "cell_type": "markdown",
   "id": "84dadf1f-fa4f-43a7-a1c2-8fdf9f50797c",
   "metadata": {},
   "source": [
    "### Question 9"
   ]
  },
  {
   "cell_type": "code",
   "execution_count": 24,
   "id": "622cfa5c-cb59-4df0-aef9-dfd3466e27ba",
   "metadata": {},
   "outputs": [
    {
     "name": "stdin",
     "output_type": "stream",
     "text": [
      "Enter temperature in celsius: 65\n"
     ]
    },
    {
     "name": "stdout",
     "output_type": "stream",
     "text": [
      "65.0 °C = 149.0 °F\n"
     ]
    }
   ],
   "source": [
    "#Temperature in °C can be converted to °F using this formula: °F = (°C x 9/5)+32. Write a function which converts °C to °F, convert_celsius_to-fahrenheit.\n",
    "\n",
    "def celsius_to_fahrenheit():\n",
    "    print(celsius,\"°C =\",(celsius*(9/5))+32,\"°F\")\n",
    "\n",
    "celsius = float(input(\"Enter temperature in celsius:\"))\n",
    "celsius_to_fahrenheit()\n"
   ]
  },
  {
   "cell_type": "markdown",
   "id": "b16694b6-bf47-458d-b6bd-941409c4dd43",
   "metadata": {},
   "source": [
    "### Question 10"
   ]
  },
  {
   "cell_type": "code",
   "execution_count": 37,
   "id": "6f4882da-b9f1-43cc-8e85-9ba7054fc179",
   "metadata": {},
   "outputs": [
    {
     "name": "stdin",
     "output_type": "stream",
     "text": [
      "Enter a month: november\n"
     ]
    },
    {
     "name": "stdout",
     "output_type": "stream",
     "text": [
      "Autumn Season\n"
     ]
    }
   ],
   "source": [
    "#Write a function called check-season, it takes a month parameter and returns the season: Autumn, Winter, Spring or Summer.\n",
    "\n",
    "def check_season():\n",
    "    if month=='december' or month=='january' or month=='february':\n",
    "        print(\"Winter Season\")\n",
    "    elif month=='march' or month=='april' or month=='may':\n",
    "        print(\"Spring Season\")\n",
    "    elif month=='june' or month=='july' or month=='august':\n",
    "        print(\"Summer Season\")\n",
    "    elif month=='september' or month=='october' or month=='november':\n",
    "        print(\"Autumn Season\")\n",
    "    else:\n",
    "        print(\"Invalid Season\")\n",
    "\n",
    "month = input(\"Enter a month:\").lower()\n",
    "check_season()"
   ]
  },
  {
   "cell_type": "markdown",
   "id": "16330562-e2c8-4dd2-aa1e-208370499082",
   "metadata": {},
   "source": [
    "### Question 11"
   ]
  },
  {
   "cell_type": "code",
   "execution_count": 46,
   "id": "b4f4fd36-4de2-496e-ae4a-2b8ca9700e39",
   "metadata": {},
   "outputs": [
    {
     "name": "stdin",
     "output_type": "stream",
     "text": [
      "Enter value of x1: 4\n",
      "Enter value of y1: 5\n",
      "Enter value of x2: 6\n",
      "Enter value of y2: 7\n"
     ]
    },
    {
     "name": "stdout",
     "output_type": "stream",
     "text": [
      "Slope = 1.0\n"
     ]
    }
   ],
   "source": [
    "#Write a function called calculate_slope which return the slope of a linear equation\n",
    "\n",
    "def slope():\n",
    "    #slope = (y2-y1)/(x2-x1)\n",
    "    if x2-x1==0:\n",
    "        print(\"The line is vertical so the slope is undefined.\")\n",
    "    else:\n",
    "        slope = (y2-y1)/(x2-x1)\n",
    "        print(\"Slope =\",slope)\n",
    "\n",
    "x1 = float(input(\"Enter value of x1:\"))\n",
    "y1 = float(input(\"Enter value of y1:\"))\n",
    "x2 = float(input(\"Enter value of x2:\"))\n",
    "y2 = float(input(\"Enter value of y2:\"))\n",
    "slope()"
   ]
  },
  {
   "cell_type": "markdown",
   "id": "62a65b89-9c7e-439b-8be9-b98d5d8c9e70",
   "metadata": {},
   "source": [
    "### Question 12"
   ]
  },
  {
   "cell_type": "code",
   "execution_count": 7,
   "id": "7c890fc3-fda7-46c9-80c9-65a1eac8daf2",
   "metadata": {},
   "outputs": [
    {
     "name": "stdin",
     "output_type": "stream",
     "text": [
      "Enter coefficient of a: 3\n",
      "Enter coefficient of b: -8\n",
      "Enter coefficient of c: 9\n"
     ]
    },
    {
     "name": "stdout",
     "output_type": "stream",
     "text": [
      "roots are distinct and complex\n"
     ]
    },
    {
     "data": {
      "text/plain": [
       "((12+9.9498743710662j), (12-9.9498743710662j))"
      ]
     },
     "execution_count": 7,
     "metadata": {},
     "output_type": "execute_result"
    }
   ],
   "source": [
    "#Quadratic equation is calculated as follows: ax2 + bx + c = 0. Write a function which calculates the solution set of a quadratic equation, solve_quadratic_eqn.\n",
    "\n",
    "import math\n",
    "import cmath\n",
    "\n",
    "def solve_quadratic_eqn():\n",
    "    if a==0:\n",
    "        raise ValueError(\"coefficient 'a' cannot be zero.\")\n",
    "    discriminant = b**2 - 4*a*c\n",
    "    if discriminant >= 0:\n",
    "        root1 = (-b + math.sqrt(discriminant))/2*a\n",
    "        root2 = (-b - math.sqrt(discriminant))/2*a\n",
    "        if discriminant==0:\n",
    "            print(\"roots are real and repeated.\")\n",
    "        else:\n",
    "            print(\"roots are distinct and real.\")\n",
    "    else:\n",
    "        root1 = (-b + cmath.sqrt(discriminant))/2*a\n",
    "        root2 = (-b - cmath.sqrt(discriminant))/2*a\n",
    "        print(\"roots are distinct and complex\")\n",
    "    return root1, root2\n",
    "\n",
    "a = float(input(\"Enter coefficient of a:\"))\n",
    "b = float(input(\"Enter coefficient of b:\"))\n",
    "c = float(input(\"Enter coefficient of c:\"))\n",
    "solve_quadratic_eqn()\n",
    "    "
   ]
  },
  {
   "cell_type": "markdown",
   "id": "cd4647a1-409e-4a8f-8971-9a2fe9a844d2",
   "metadata": {},
   "source": [
    "### Question 13"
   ]
  },
  {
   "cell_type": "code",
   "execution_count": 10,
   "id": "db7e6ffa-e97e-4801-bcbf-024a0cb237bb",
   "metadata": {},
   "outputs": [
    {
     "name": "stdout",
     "output_type": "stream",
     "text": [
      "1\n",
      "2\n",
      "3\n",
      "4\n",
      "5\n"
     ]
    }
   ],
   "source": [
    "#Declare a function named print_list. It takes a list as a parameter and it prints out each element of the list.\n",
    "\n",
    "def print_list(list):\n",
    "    for i in list:\n",
    "        print(i)\n",
    "\n",
    "list = [1,2,3,4,5]\n",
    "print_list(list)"
   ]
  },
  {
   "cell_type": "markdown",
   "id": "ff1d6ee1-b5a9-4cb9-b866-60b9e9794b05",
   "metadata": {},
   "source": [
    "### Question 14"
   ]
  },
  {
   "cell_type": "code",
   "execution_count": 27,
   "id": "316e2a6a-4299-4b7d-98c0-ef1507931375",
   "metadata": {},
   "outputs": [
    {
     "data": {
      "text/plain": [
       "[5, 4, 3, 2, 1]"
      ]
     },
     "execution_count": 27,
     "metadata": {},
     "output_type": "execute_result"
    }
   ],
   "source": [
    "#Declare a function named reverse_list. It takes an array as a parameter and it returns the reverse of the array (use loops).\n",
    "\n",
    "def reverse_list():\n",
    "    reversed_array = []\n",
    "    for i in range(len(array)-1,-1,-1):\n",
    "        reversed_array.append(array[i])\n",
    "    return reversed_array\n",
    "\n",
    "array = [1,2,3,4,5]\n",
    "reverse_list()"
   ]
  },
  {
   "cell_type": "markdown",
   "id": "b5660853-dd58-43ea-b7bb-973b56e1fef7",
   "metadata": {},
   "source": [
    "### Question 15"
   ]
  },
  {
   "cell_type": "code",
   "execution_count": 36,
   "id": "f3122fcd-19bb-4687-9668-387545fc2275",
   "metadata": {},
   "outputs": [
    {
     "name": "stdin",
     "output_type": "stream",
     "text": [
      "Enter a number: 12345\n"
     ]
    },
    {
     "name": "stdout",
     "output_type": "stream",
     "text": [
      "Number of evens: 2\n",
      "Number of odds: 3\n"
     ]
    }
   ],
   "source": [
    "#Declare a function named evens_and_odds . It takes a positive integer as a parameter and it counts the number of events and odds in the number.\n",
    "\n",
    "def evens_and_odds():\n",
    "    \n",
    "    evens = 0\n",
    "    odds = 0\n",
    "    \n",
    "    if number<0:\n",
    "        raise ValueError(\"Number must be positive.\")\n",
    "        \n",
    "    for i in str(number):\n",
    "        i = int(i)\n",
    "        if i%2==0:\n",
    "            evens += 1\n",
    "        else:\n",
    "            odds += 1\n",
    "    print(\"Number of evens:\",evens)\n",
    "    print(\"Number of odds:\",odds)\n",
    "\n",
    "number = int(input(\"Enter a number:\"))\n",
    "evens_and_odds()               "
   ]
  },
  {
   "cell_type": "markdown",
   "id": "82e5b9d6-3fca-48b1-8917-882a67f26790",
   "metadata": {},
   "source": [
    "### Question 16"
   ]
  },
  {
   "cell_type": "code",
   "execution_count": 15,
   "id": "72db94a4-3a76-4957-82f9-3e271b5be79a",
   "metadata": {},
   "outputs": [
    {
     "name": "stdout",
     "output_type": "stream",
     "text": [
      "Mean: 3.25\n",
      "Median: 3.0\n",
      "Mode: [2, 3] (it's a tie)\n",
      "Range: 5\n",
      "Variance: 2.4375\n",
      "Standard Deviation: 1.5612494995995996\n"
     ]
    }
   ],
   "source": [
    "#Write different functions which take lists. They should calculate_mean, calculate_median, calculate_mode, calculate_range, calculate_variance, calculate_std (standard deviation).\n",
    "\n",
    "import math\n",
    "\n",
    "def calculate_mean():\n",
    "    n = len(num_list)\n",
    "    mean = sum(num_list)/n\n",
    "    print(\"Mean:\", mean)\n",
    "\n",
    "def calculate_median():\n",
    "    n = len(num_list)\n",
    "    sorted_list = sorted(num_list)\n",
    "    mid_point = n//2\n",
    "    if n%2==0:\n",
    "        median = (sorted_list[mid_point-1]+sorted_list[mid_point])/2\n",
    "        print(\"Median:\", median)\n",
    "\n",
    "def calculate_mode():\n",
    "    occurence = {}\n",
    "    for value in num_list:                      \n",
    "        occurence[value] = occurence.get(value, 0) + 1\n",
    "    max_count = max(occurence.values())     \n",
    "    mode = [key for key, count in occurence.items() if count == max_count]\n",
    "    if len(mode) == 1:                    \n",
    "        print(\"Mode:\", mode)\n",
    "    else:\n",
    "        print(\"Mode:\", mode, \"(it's a tie)\")                       \n",
    "\n",
    "def calculate_range():\n",
    "    range = max(num_list)-min(num_list)\n",
    "    print(\"Range:\", range)\n",
    "\n",
    "def calculate_variance():\n",
    "    n = len(num_list)\n",
    "    mean = sum(num_list)/n\n",
    "    squared_diff = [(i - mean)**2 for i in num_list]\n",
    "    variance = sum(squared_diff)/n\n",
    "    print(\"Variance:\", variance)\n",
    "\n",
    "def calculate_std():\n",
    "    n = len(num_list)\n",
    "    mean = sum(num_list)/n\n",
    "    squared_diff = [(i - mean)**2 for i in num_list]\n",
    "    variance = sum(squared_diff)/n\n",
    "    std = math.sqrt(variance)\n",
    "    print(\"Standard Deviation:\", std)\n",
    "\n",
    "num_list =[1,2,2,3,3,4,5,6]\n",
    "calculate_mean()\n",
    "calculate_median()\n",
    "calculate_mode()\n",
    "calculate_range()\n",
    "calculate_variance()\n",
    "calculate_std()"
   ]
  },
  {
   "cell_type": "markdown",
   "id": "42f7031d-8de8-4c83-baa3-9a42608aaad7",
   "metadata": {},
   "source": [
    "### Question 17"
   ]
  },
  {
   "cell_type": "code",
   "execution_count": 22,
   "id": "04e36458-0c66-4327-a784-660b97768369",
   "metadata": {},
   "outputs": [
    {
     "name": "stdout",
     "output_type": "stream",
     "text": [
      "There are duplicates in the list.\n"
     ]
    }
   ],
   "source": [
    "#Write a function which checks if all items are unique in the list.\n",
    "\n",
    "def unique_items():\n",
    "    if len(list)==len(set(list)):\n",
    "        print(\"All items are unique in the list.\")\n",
    "    else:\n",
    "        print(\"There are duplicates in the list.\")\n",
    "\n",
    "list = [1,2,3,4,4,5]\n",
    "#list = [1,2,3,4,5]\n",
    "unique_items()"
   ]
  },
  {
   "cell_type": "markdown",
   "id": "8784efd7-b3b9-4a56-9e6b-17fc3ed9c148",
   "metadata": {},
   "source": [
    "### Question 18"
   ]
  },
  {
   "cell_type": "code",
   "execution_count": 36,
   "id": "9538d700-19d8-41fd-9896-24178dfefbac",
   "metadata": {},
   "outputs": [
    {
     "name": "stdout",
     "output_type": "stream",
     "text": [
      "All items are of different data types.\n"
     ]
    }
   ],
   "source": [
    "#Write a function which checks if all the items of the list are of the same data type.\n",
    "\n",
    "def data_type_checker():\n",
    "    if len(list)==0:\n",
    "        print(\"The list is empty.\")\n",
    "        return\n",
    "\n",
    "    data_type = type(list[0])\n",
    "    for i in list:\n",
    "        if type(i) != data_type:\n",
    "            print(\"All items are of different data types.\")\n",
    "            return\n",
    "\n",
    "    print(\"All items are of same data type.\")\n",
    "\n",
    "list = ['a',1,2,3,4.5,True]\n",
    "#list = [1,2,3,4,5]\n",
    "data_type_checker()"
   ]
  },
  {
   "cell_type": "markdown",
   "id": "0c418c3c-50f3-494a-9667-9ae91adb6ede",
   "metadata": {},
   "source": [
    "### Question 19"
   ]
  },
  {
   "cell_type": "code",
   "execution_count": 38,
   "id": "78729e56-e341-4b6b-a809-1039a99174ac",
   "metadata": {},
   "outputs": [
    {
     "name": "stdin",
     "output_type": "stream",
     "text": [
      "Enter a variable to check: python\n"
     ]
    },
    {
     "name": "stdout",
     "output_type": "stream",
     "text": [
      "python is a valid python variable.\n"
     ]
    }
   ],
   "source": [
    "#Write a function which check if provided variable is a valid python variable.\n",
    "\n",
    "import keyword\n",
    "\n",
    "def python_variable_checker():\n",
    "    if variable.isidentifier() and not keyword.iskeyword(variable):\n",
    "        print(variable, \"is a valid python variable.\")\n",
    "    else:\n",
    "        print(variable, \"is not a valid python variable.\")\n",
    "\n",
    "variable = input(\"Enter a variable to check:\")\n",
    "python_variable_checker()"
   ]
  },
  {
   "cell_type": "markdown",
   "id": "2e446914-801f-440a-b3d4-a2b23c825099",
   "metadata": {},
   "source": [
    "### Question 20"
   ]
  },
  {
   "cell_type": "code",
   "execution_count": 47,
   "id": "df1feef2-5889-459b-9ee3-b7c9dfb4b729",
   "metadata": {},
   "outputs": [
    {
     "name": "stdout",
     "output_type": "stream",
     "text": [
      "The number of local variables declared are: 4\n"
     ]
    }
   ],
   "source": [
    "#Write a Python program to detect the number of local variables declared in a function.\n",
    "\n",
    "def local_variable():\n",
    "    var1 = 1\n",
    "    var2 = 'maryam'\n",
    "    var3 = 6.5\n",
    "    var4 = True\n",
    "    \n",
    "    local_variable = locals()\n",
    "    length = len(local_variable)\n",
    "    print(\"The number of local variables declared are:\", length)\n",
    "    return\n",
    "\n",
    "local_variable()"
   ]
  }
 ],
 "metadata": {
  "kernelspec": {
   "display_name": "Python 3 (ipykernel)",
   "language": "python",
   "name": "python3"
  },
  "language_info": {
   "codemirror_mode": {
    "name": "ipython",
    "version": 3
   },
   "file_extension": ".py",
   "mimetype": "text/x-python",
   "name": "python",
   "nbconvert_exporter": "python",
   "pygments_lexer": "ipython3",
   "version": "3.12.4"
  }
 },
 "nbformat": 4,
 "nbformat_minor": 5
}
