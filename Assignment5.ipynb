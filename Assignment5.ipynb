{
 "cells": [
  {
   "cell_type": "markdown",
   "id": "2489fb16-ac76-472f-a7d0-1a99ce1d01ae",
   "metadata": {},
   "source": [
    "# IF, ELSE AND ELIF STATEMENTS"
   ]
  },
  {
   "cell_type": "markdown",
   "id": "a10e537c-f9bc-415d-a100-69d09f83f7f8",
   "metadata": {},
   "source": [
    "### Question 1"
   ]
  },
  {
   "cell_type": "code",
   "execution_count": 16,
   "id": "293153fc-1620-4cc6-80ae-1b90f1d9cdfd",
   "metadata": {},
   "outputs": [
    {
     "name": "stdin",
     "output_type": "stream",
     "text": [
      "Enter an integer: 7\n"
     ]
    },
    {
     "name": "stdout",
     "output_type": "stream",
     "text": [
      "Number is not divisible by 3.\n"
     ]
    }
   ],
   "source": [
    "#Check wether the given input is divisible by 3 or not.\n",
    "number = float(input(\"Enter an integer:\"))\n",
    "\n",
    "if number%3==0:\n",
    "    print(\"Number is divisible by 3.\")\n",
    "else:\n",
    "    print(\"Number is not divisible by 3.\") "
   ]
  },
  {
   "cell_type": "markdown",
   "id": "b9340384-f9e7-4c09-b364-4e8f1efcc8b2",
   "metadata": {},
   "source": [
    "### Question 2"
   ]
  },
  {
   "cell_type": "code",
   "execution_count": 34,
   "id": "9c0fc587-01e4-4c90-8b15-542209a091e0",
   "metadata": {},
   "outputs": [
    {
     "name": "stdin",
     "output_type": "stream",
     "text": [
      "Enter an integer: 6\n"
     ]
    },
    {
     "name": "stdout",
     "output_type": "stream",
     "text": [
      "This is an even number.\n"
     ]
    }
   ],
   "source": [
    "#Even or Odd\n",
    "number = float(input(\"Enter an integer:\"))\n",
    "\n",
    "if number%2==0:\n",
    "    print(\"This is an even number.\")\n",
    "else:\n",
    "    print(\"This is an odd number.\")"
   ]
  },
  {
   "cell_type": "markdown",
   "id": "abb68da0-2ca1-4d81-b9f2-d1d00089ab39",
   "metadata": {},
   "source": [
    "### Question 3"
   ]
  },
  {
   "cell_type": "code",
   "execution_count": 44,
   "id": "388ba54f-818f-473e-ab53-5c0f9760d6ea",
   "metadata": {},
   "outputs": [
    {
     "name": "stdin",
     "output_type": "stream",
     "text": [
      "Enter your age in numbers: 24\n"
     ]
    },
    {
     "name": "stdout",
     "output_type": "stream",
     "text": [
      "Old Enough\n"
     ]
    }
   ],
   "source": [
    "#Age indicator\n",
    "age = int(input(\"Enter your age in numbers:\"))\n",
    "\n",
    "if age>18:\n",
    "    print(\"Old Enough\")\n",
    "else:\n",
    "    print(\"Too Young\")\n",
    "    "
   ]
  },
  {
   "cell_type": "markdown",
   "id": "2dd92eb4-d8aa-44aa-abb8-734ca2ce5ac0",
   "metadata": {},
   "source": [
    "### Question 4"
   ]
  },
  {
   "cell_type": "code",
   "execution_count": 51,
   "id": "9a3a5937-19df-4427-92ca-065097f7f4da",
   "metadata": {},
   "outputs": [
    {
     "name": "stdin",
     "output_type": "stream",
     "text": [
      "Please enter your name: MARYAM\n"
     ]
    },
    {
     "name": "stdout",
     "output_type": "stream",
     "text": [
      "Welcome Maryam. Have a nice day!\n"
     ]
    }
   ],
   "source": [
    "#enter a name. if the name is same your return a special message else dont print any output\n",
    "name = \"maryam\"\n",
    "entered_name = input(\"Please enter your name:\").lower()\n",
    "\n",
    "if entered_name==name:\n",
    "    print(\"Welcome Maryam. Have a nice day!\")"
   ]
  },
  {
   "cell_type": "markdown",
   "id": "a0158279-43b1-4272-9644-24146b7d267d",
   "metadata": {},
   "source": [
    "### Question 5"
   ]
  },
  {
   "cell_type": "code",
   "execution_count": 63,
   "id": "3c8f8002-0b42-4bb9-aca6-5f4b9e13c3da",
   "metadata": {},
   "outputs": [
    {
     "name": "stdin",
     "output_type": "stream",
     "text": [
      "Enter a year in numbers(YYYY format): 2025\n"
     ]
    },
    {
     "name": "stdout",
     "output_type": "stream",
     "text": [
      "It s not a leap year.\n"
     ]
    }
   ],
   "source": [
    "#Leap year checker\n",
    "year = int(input(\"Enter a year in numbers(YYYY format):\"))\n",
    "\n",
    "if (year%4==0 and year%100!=0) or (year%400==0):\n",
    "    print(\"It is a leap year.\")\n",
    "else:\n",
    "    print(\"It s not a leap year.\")"
   ]
  },
  {
   "cell_type": "markdown",
   "id": "96a342f5-e874-4741-9f9b-0f212ce32ae4",
   "metadata": {},
   "source": [
    "### Question 6"
   ]
  },
  {
   "cell_type": "code",
   "execution_count": 70,
   "id": "9d395146-1dac-42ca-a622-5333f958f8ab",
   "metadata": {},
   "outputs": [
    {
     "name": "stdin",
     "output_type": "stream",
     "text": [
      "Enter the first integer: 5\n",
      "Enter the second integer: 5\n"
     ]
    },
    {
     "name": "stdout",
     "output_type": "stream",
     "text": [
      "Both integers are same.\n"
     ]
    }
   ],
   "source": [
    "#Take two integers and display which one is larger\n",
    "num1 = float(input(\"Enter the first integer:\"))\n",
    "num2 = float(input(\"Enter the second integer:\"))\n",
    "\n",
    "if num1==num2:\n",
    "    print(\"Both integers are same.\")\n",
    "elif num1>num2:\n",
    "    print(\"First integer is greater i.e\",num1)\n",
    "else:\n",
    "    print(\"Second integer is greater i.e\",num2)"
   ]
  },
  {
   "cell_type": "markdown",
   "id": "bf26732b-98f7-4931-927c-d45c2dee9a0b",
   "metadata": {},
   "source": [
    "### Question 7"
   ]
  },
  {
   "cell_type": "code",
   "execution_count": 77,
   "id": "c3749440-b04a-4621-98d1-d7d208be5eca",
   "metadata": {},
   "outputs": [
    {
     "name": "stdin",
     "output_type": "stream",
     "text": [
      "Enter an integer: 0\n"
     ]
    },
    {
     "name": "stdout",
     "output_type": "stream",
     "text": [
      "This is zero.\n"
     ]
    }
   ],
   "source": [
    "#Positive, Negative or Zero.\n",
    "num = float(input(\"Enter an integer:\"))\n",
    "\n",
    "if num>0:\n",
    "    print(\"This is a positive integer.\")\n",
    "elif num<0:\n",
    "    print(\"This is a negative integer.\")\n",
    "else:\n",
    "    print(\"This is zero.\")"
   ]
  },
  {
   "cell_type": "markdown",
   "id": "d8dc6011-ab5c-4873-9530-147190be6180",
   "metadata": {},
   "source": [
    "### Question 8"
   ]
  },
  {
   "cell_type": "code",
   "execution_count": 119,
   "id": "9c5b7018-d40d-4a44-b739-3d8103876a79",
   "metadata": {},
   "outputs": [
    {
     "name": "stdin",
     "output_type": "stream",
     "text": [
      "Enter an alphabet: aa\n"
     ]
    },
    {
     "name": "stdout",
     "output_type": "stream",
     "text": [
      "Please enter only one character.\n"
     ]
    }
   ],
   "source": [
    "#Vowel checker\n",
    "string = input(\"Enter an alphabet:\").lower()\n",
    "if len(string)==1:\n",
    "    if string=='a' or string=='e' or string=='i' or string=='o' or string=='u':\n",
    "        print(True)\n",
    "    else:\n",
    "        print(False)\n",
    "else:\n",
    "    print(\"Please enter only one character.\")\n"
   ]
  },
  {
   "cell_type": "markdown",
   "id": "4046d323-9ab9-4497-a4ed-618a8b9b189a",
   "metadata": {},
   "source": [
    "### Question 9"
   ]
  },
  {
   "cell_type": "code",
   "execution_count": 95,
   "id": "0cda0591-3f22-4b89-9e19-eaa37e01e3b9",
   "metadata": {},
   "outputs": [
    {
     "name": "stdin",
     "output_type": "stream",
     "text": [
      "Enter your age in numbers: 18\n"
     ]
    },
    {
     "name": "stdout",
     "output_type": "stream",
     "text": [
      "Old Enough\n"
     ]
    }
   ],
   "source": [
    "#voteable or not(ternary operator)\n",
    "age = int(input(\"Enter your age in numbers:\"))\n",
    "voteable = \"Old Enough\" if age>=18 else \"Too Young\"\n",
    "print(voteable)"
   ]
  },
  {
   "cell_type": "markdown",
   "id": "22614acc-3293-4ed4-9710-18a2155c2747",
   "metadata": {},
   "source": [
    "### Question 10"
   ]
  },
  {
   "cell_type": "code",
   "execution_count": 102,
   "id": "526d1453-4b84-458f-99d7-e3cd454c059b",
   "metadata": {},
   "outputs": [
    {
     "name": "stdin",
     "output_type": "stream",
     "text": [
      "Please enter your password: maryam1234\n"
     ]
    },
    {
     "name": "stdout",
     "output_type": "stream",
     "text": [
      "Correct! The password you entered matches the original password.\n"
     ]
    }
   ],
   "source": [
    "#Password checker\n",
    "password = 'maryam1234'\n",
    "entered_password = input(\"Please enter your password:\")\n",
    "\n",
    "if not entered_password:\n",
    "    print(\"Please enter a password.\")\n",
    "elif entered_password==password:\n",
    "    print(\"Correct! The password you entered matches the original password.\")\n",
    "else:\n",
    "    print(\"Incorrect Password.\")"
   ]
  },
  {
   "cell_type": "markdown",
   "id": "423687c7-0f72-4b23-92dd-29f7bf0282b5",
   "metadata": {},
   "source": [
    "### Question 11"
   ]
  },
  {
   "cell_type": "code",
   "execution_count": 121,
   "id": "16afb299-05af-415b-846d-0f6bf4fa7b4d",
   "metadata": {},
   "outputs": [
    {
     "name": "stdin",
     "output_type": "stream",
     "text": [
      "Please enter time in 24-hour clock format: 1379\n"
     ]
    },
    {
     "name": "stdout",
     "output_type": "stream",
     "text": [
      "Good Afternoon!\n"
     ]
    }
   ],
   "source": [
    "#Time checker\n",
    "time = int(input(\"Please enter time in 24-hour clock format:\"))\n",
    "\n",
    "if time>=0000 and time<1200:\n",
    "    print(\"Good Morning!\")\n",
    "elif time>=1200 and time<1700:\n",
    "    print(\"Good Afternoon!\")\n",
    "elif time>=1700 and time<2100:\n",
    "    print(\"Good Evening!\")\n",
    "elif time>=2100 and time<2349:\n",
    "    print(\"Good Night!\")\n",
    "else:\n",
    "    print(\"Invalid Time.\")"
   ]
  },
  {
   "cell_type": "code",
   "execution_count": null,
   "id": "c35fe457-3da1-42c4-80cc-4d22154f9acf",
   "metadata": {},
   "outputs": [],
   "source": []
  }
 ],
 "metadata": {
  "kernelspec": {
   "display_name": "Python 3 (ipykernel)",
   "language": "python",
   "name": "python3"
  },
  "language_info": {
   "codemirror_mode": {
    "name": "ipython",
    "version": 3
   },
   "file_extension": ".py",
   "mimetype": "text/x-python",
   "name": "python",
   "nbconvert_exporter": "python",
   "pygments_lexer": "ipython3",
   "version": "3.12.4"
  }
 },
 "nbformat": 4,
 "nbformat_minor": 5
}
