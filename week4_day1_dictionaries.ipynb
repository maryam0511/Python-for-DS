{
 "cells": [
  {
   "cell_type": "markdown",
   "id": "13c6ca24-ee35-442e-8dff-21398cf2670c",
   "metadata": {},
   "source": [
    "# dictionaries"
   ]
  },
  {
   "cell_type": "code",
   "execution_count": 2,
   "id": "02ec4207-f4ce-433d-bd26-b4c42c36ec02",
   "metadata": {},
   "outputs": [
    {
     "name": "stdout",
     "output_type": "stream",
     "text": [
      "<class 'dict'>\n"
     ]
    }
   ],
   "source": [
    "emp_d = {}\n",
    "print(type(emp_d))"
   ]
  },
  {
   "cell_type": "code",
   "execution_count": 3,
   "id": "61b206da-9482-4e85-a731-213946ae6e21",
   "metadata": {},
   "outputs": [
    {
     "name": "stdout",
     "output_type": "stream",
     "text": [
      "{'name': 'maryam', 'gender': 'female', 'skills': 'DSAI', 'age': '23'}\n",
      "<class 'dict'>\n"
     ]
    }
   ],
   "source": [
    "personal_details = {'name':'maryam',\n",
    "                    'gender':'female',\n",
    "                    'skills':'DSAI',\n",
    "                    'age':'23'}\n",
    "print(personal_details)\n",
    "print(type(personal_details))"
   ]
  },
  {
   "cell_type": "code",
   "execution_count": 4,
   "id": "6002d621-12eb-4b82-b900-b89f8db962ec",
   "metadata": {},
   "outputs": [
    {
     "data": {
      "text/plain": [
       "dict_keys(['name', 'gender', 'skills', 'age'])"
      ]
     },
     "execution_count": 4,
     "metadata": {},
     "output_type": "execute_result"
    }
   ],
   "source": [
    "#keys\n",
    "personal_details.keys()"
   ]
  },
  {
   "cell_type": "code",
   "execution_count": 5,
   "id": "9de9d833-a362-414c-bbff-cd24eebdd6fd",
   "metadata": {},
   "outputs": [
    {
     "data": {
      "text/plain": [
       "dict_values(['maryam', 'female', 'DSAI', '23'])"
      ]
     },
     "execution_count": 5,
     "metadata": {},
     "output_type": "execute_result"
    }
   ],
   "source": [
    "#values\n",
    "personal_details.values()"
   ]
  },
  {
   "cell_type": "code",
   "execution_count": 6,
   "id": "e051ee41-81a3-4d0f-8916-4ff3b26631e9",
   "metadata": {},
   "outputs": [
    {
     "data": {
      "text/plain": [
       "dict_items([('name', 'maryam'), ('gender', 'female'), ('skills', 'DSAI'), ('age', '23')])"
      ]
     },
     "execution_count": 6,
     "metadata": {},
     "output_type": "execute_result"
    }
   ],
   "source": [
    "#key and value pairs\n",
    "personal_details.items()"
   ]
  },
  {
   "cell_type": "code",
   "execution_count": 7,
   "id": "1241dfac-508b-4630-b3e8-791b8427d6e0",
   "metadata": {},
   "outputs": [
    {
     "data": {
      "text/plain": [
       "'maryam'"
      ]
     },
     "execution_count": 7,
     "metadata": {},
     "output_type": "execute_result"
    }
   ],
   "source": [
    "#value of a speific key\n",
    "personal_details.get('name')   #executes only single argument even if multiple values are entered within a bracket "
   ]
  },
  {
   "cell_type": "code",
   "execution_count": 8,
   "id": "a3e75eb9-1a43-463b-9513-ed3a4997c05d",
   "metadata": {},
   "outputs": [
    {
     "name": "stdout",
     "output_type": "stream",
     "text": [
      "{'name': 'maryam', 'age': '23', 'marks': {'ds': 75, 'ai': 80}}\n"
     ]
    }
   ],
   "source": [
    "details = {'name':'maryam','age':'23','marks':{'ds':75,'ai':80}}\n",
    "print(details)"
   ]
  },
  {
   "cell_type": "code",
   "execution_count": 9,
   "id": "2019bec1-6589-454c-bb80-d27470ccc931",
   "metadata": {},
   "outputs": [
    {
     "name": "stdout",
     "output_type": "stream",
     "text": [
      "{'name': 'maryam', 'gender': 'female', 'skills': 'DSAI', 'age': '23', 'marks': {'ds': 75, 'ai': 80}}\n"
     ]
    }
   ],
   "source": [
    "#adding two dictionaries\n",
    "personal_details.update(details)\n",
    "print(personal_details)"
   ]
  },
  {
   "cell_type": "code",
   "execution_count": 10,
   "id": "91eb6c12-cbcb-4c20-b69e-6cd0b855fff0",
   "metadata": {},
   "outputs": [
    {
     "name": "stdout",
     "output_type": "stream",
     "text": [
      "{'name': 'maryam', 'gender': 'female', 'skills': 'DSAI', 'age': '23', 'marks': {'ds': 75, 'ai': 80}, 'organization': 'ISST'}\n"
     ]
    }
   ],
   "source": [
    "personal_details['organization']='ISST'\n",
    "print(personal_details)"
   ]
  },
  {
   "cell_type": "code",
   "execution_count": 11,
   "id": "61982c0b-46a0-4d1d-8b10-5bcd28004481",
   "metadata": {},
   "outputs": [
    {
     "name": "stdout",
     "output_type": "stream",
     "text": [
      "{'name': 'wajahat', 'gender': 'female', 'skills': 'DSAI', 'age': '23', 'marks': {'ds': 75, 'ai': 80}, 'organization': 'ISST'}\n"
     ]
    }
   ],
   "source": [
    "#if both dictionaries have two similiar keys having different values then last declared keys will be printed and previous one will be omitted\n",
    "personal_details.update({'name':'wajahat'})\n",
    "print(personal_details)"
   ]
  },
  {
   "cell_type": "code",
   "execution_count": 12,
   "id": "e39a66a8-48fe-4446-9d63-c0ba66e92e50",
   "metadata": {},
   "outputs": [
    {
     "name": "stdout",
     "output_type": "stream",
     "text": [
      "{'name': 'maryam', 'gender': 'female', 'skills': 'DSAI', 'age': '23', 'marks': {'ds': 75, 'ai': 80}, 'organization': 'ISST', 'roll': 55, 'address': 'karachi'}\n"
     ]
    }
   ],
   "source": [
    "#adding multiple key value pairs at the same time\n",
    "personal_details.update({'name':'maryam','roll':55,'address':'karachi'})\n",
    "print(personal_details)"
   ]
  },
  {
   "cell_type": "code",
   "execution_count": 13,
   "id": "11594bfe-8ed8-43a9-b906-a071ad7125da",
   "metadata": {},
   "outputs": [
    {
     "name": "stdout",
     "output_type": "stream",
     "text": [
      "8\n"
     ]
    }
   ],
   "source": [
    "print(len(personal_details))"
   ]
  },
  {
   "cell_type": "code",
   "execution_count": 14,
   "id": "efcc8891-3b80-42a5-8e68-49786cf8baf6",
   "metadata": {},
   "outputs": [
    {
     "data": {
      "text/plain": [
       "['address', 'age', 'gender', 'marks', 'name', 'organization', 'roll', 'skills']"
      ]
     },
     "execution_count": 14,
     "metadata": {},
     "output_type": "execute_result"
    }
   ],
   "source": [
    "#alphabetical order\n",
    "sorted(personal_details)"
   ]
  },
  {
   "cell_type": "code",
   "execution_count": 15,
   "id": "9941248d-fd4e-4d27-b8ff-8dec53fb11af",
   "metadata": {},
   "outputs": [
    {
     "data": {
      "text/plain": [
       "75"
      ]
     },
     "execution_count": 15,
     "metadata": {},
     "output_type": "execute_result"
    }
   ],
   "source": [
    "personal_details.get('marks')['ds']"
   ]
  },
  {
   "cell_type": "code",
   "execution_count": 16,
   "id": "bc2d2d9e-d018-42bc-9af2-2989828bc2ad",
   "metadata": {},
   "outputs": [
    {
     "data": {
      "text/plain": [
       "80"
      ]
     },
     "execution_count": 16,
     "metadata": {},
     "output_type": "execute_result"
    }
   ],
   "source": [
    "personal_details.get('marks')['ai']"
   ]
  },
  {
   "cell_type": "code",
   "execution_count": 17,
   "id": "73889496-0f45-49ff-9cf0-d8406dc7aef2",
   "metadata": {},
   "outputs": [
    {
     "data": {
      "text/plain": [
       "'female'"
      ]
     },
     "execution_count": 17,
     "metadata": {},
     "output_type": "execute_result"
    }
   ],
   "source": [
    "#pop\n",
    "personal_details.pop('gender')    #here pop will require a key first and it will print it first then when we dispaly the dict the key-value pair added to pop will be deleted"
   ]
  },
  {
   "cell_type": "code",
   "execution_count": 18,
   "id": "42f6e7f5-8d64-4098-91fb-1bc5ea5b13f5",
   "metadata": {},
   "outputs": [
    {
     "name": "stdout",
     "output_type": "stream",
     "text": [
      "{'name': 'maryam', 'skills': 'DSAI', 'age': '23', 'marks': {'ds': 75, 'ai': 80}, 'organization': 'ISST', 'roll': 55, 'address': 'karachi'}\n"
     ]
    }
   ],
   "source": [
    "print(personal_details)"
   ]
  },
  {
   "cell_type": "code",
   "execution_count": 19,
   "id": "36247259-42b3-42f7-af26-58fc286c2180",
   "metadata": {},
   "outputs": [
    {
     "data": {
      "text/plain": [
       "('address', 'karachi')"
      ]
     },
     "execution_count": 19,
     "metadata": {},
     "output_type": "execute_result"
    }
   ],
   "source": [
    "personal_details.popitem()"
   ]
  },
  {
   "cell_type": "code",
   "execution_count": 20,
   "id": "e3e60462-e068-4f43-85e0-51af66073276",
   "metadata": {},
   "outputs": [
    {
     "name": "stdout",
     "output_type": "stream",
     "text": [
      "{'name': 'maryam', 'skills': 'DSAI', 'age': '23', 'marks': {'ds': 75, 'ai': 80}, 'organization': 'ISST', 'roll': 55}\n"
     ]
    }
   ],
   "source": [
    "print(personal_details)"
   ]
  },
  {
   "cell_type": "code",
   "execution_count": 21,
   "id": "3ecc283d-20cf-40fe-8654-0ee3047f58fb",
   "metadata": {},
   "outputs": [
    {
     "data": {
      "text/plain": [
       "{'n': 'maryam', 'a': 'maryam', 'm': 'maryam', 'e': 'maryam'}"
      ]
     },
     "execution_count": 21,
     "metadata": {},
     "output_type": "execute_result"
    }
   ],
   "source": [
    "#fromkeys\n",
    "personal_details.fromkeys('name','maryam')"
   ]
  },
  {
   "cell_type": "code",
   "execution_count": 22,
   "id": "71a2138c-e6c4-48ae-9132-57613b1e3b29",
   "metadata": {},
   "outputs": [
    {
     "name": "stdout",
     "output_type": "stream",
     "text": [
      "{'name': 'maryam', 'skills': 'DSAI', 'age': '23', 'marks': {'ds': 75, 'ai': 80}, 'organization': 'ISST', 'roll': 55, 'profession': 'student'}\n"
     ]
    }
   ],
   "source": [
    "personal_details.update({'profession':'student'})\n",
    "print(personal_details)"
   ]
  },
  {
   "cell_type": "code",
   "execution_count": 51,
   "id": "6a32348a-8de0-4fc9-b4a8-c6bffe101e1a",
   "metadata": {},
   "outputs": [
    {
     "name": "stdout",
     "output_type": "stream",
     "text": [
      "{'brand': 'ford', 'year': 1964}\n"
     ]
    }
   ],
   "source": [
    "car = {'brand':'ford','year':1964}\n",
    "print(car)"
   ]
  },
  {
   "cell_type": "code",
   "execution_count": 53,
   "id": "1ec45c88-83cb-4a00-88d8-46034e32aaa9",
   "metadata": {},
   "outputs": [
    {
     "name": "stdout",
     "output_type": "stream",
     "text": [
      "{'brand': 'ford', 'year': 1964, 'model': 'bronco'}\n"
     ]
    }
   ],
   "source": [
    "#setdefault\n",
    "car.setdefault('model','bronco')\n",
    "print(car)"
   ]
  },
  {
   "cell_type": "markdown",
   "id": "40e6232e-fdd7-46ae-b7c6-04d49b91567f",
   "metadata": {},
   "source": [
    "# libraries"
   ]
  },
  {
   "cell_type": "code",
   "execution_count": 58,
   "id": "44af1012-37c8-475e-afd4-3be110269604",
   "metadata": {},
   "outputs": [
    {
     "name": "stdout",
     "output_type": "stream",
     "text": [
      "['__doc__', '__loader__', '__name__', '__package__', '__spec__', 'acos', 'acosh', 'asin', 'asinh', 'atan', 'atan2', 'atanh', 'cbrt', 'ceil', 'comb', 'copysign', 'cos', 'cosh', 'degrees', 'dist', 'e', 'erf', 'erfc', 'exp', 'exp2', 'expm1', 'fabs', 'factorial', 'floor', 'fmod', 'frexp', 'fsum', 'gamma', 'gcd', 'hypot', 'inf', 'isclose', 'isfinite', 'isinf', 'isnan', 'isqrt', 'lcm', 'ldexp', 'lgamma', 'log', 'log10', 'log1p', 'log2', 'modf', 'nan', 'nextafter', 'perm', 'pi', 'pow', 'prod', 'radians', 'remainder', 'sin', 'sinh', 'sqrt', 'sumprod', 'tan', 'tanh', 'tau', 'trunc', 'ulp']\n"
     ]
    }
   ],
   "source": [
    "import math\n",
    "print(dir(math))   #shows directories in math library "
   ]
  },
  {
   "cell_type": "code",
   "execution_count": 60,
   "id": "e83cf042-a27b-4c8b-a55b-33319965d28c",
   "metadata": {},
   "outputs": [
    {
     "data": {
      "text/plain": [
       "3"
      ]
     },
     "execution_count": 60,
     "metadata": {},
     "output_type": "execute_result"
    }
   ],
   "source": [
    "math.floor(3.5)"
   ]
  },
  {
   "cell_type": "code",
   "execution_count": 62,
   "id": "98b53011-1c34-4498-a24f-a6284d2a5987",
   "metadata": {},
   "outputs": [
    {
     "data": {
      "text/plain": [
       "4"
      ]
     },
     "execution_count": 62,
     "metadata": {},
     "output_type": "execute_result"
    }
   ],
   "source": [
    "math.ceil(3.5)"
   ]
  },
  {
   "cell_type": "code",
   "execution_count": 64,
   "id": "c0dd59ab-2d70-4e48-89b5-d4818ab143c0",
   "metadata": {},
   "outputs": [
    {
     "data": {
      "text/plain": [
       "4.0"
      ]
     },
     "execution_count": 64,
     "metadata": {},
     "output_type": "execute_result"
    }
   ],
   "source": [
    "math.sqrt(16)"
   ]
  },
  {
   "cell_type": "code",
   "execution_count": 66,
   "id": "10d66735-068f-41cf-af42-51b93f7cfde7",
   "metadata": {},
   "outputs": [
    {
     "data": {
      "text/plain": [
       "8.0"
      ]
     },
     "execution_count": 66,
     "metadata": {},
     "output_type": "execute_result"
    }
   ],
   "source": [
    "math.pow(2,3)"
   ]
  },
  {
   "cell_type": "code",
   "execution_count": 68,
   "id": "0182cd84-7921-48c6-bc40-31cd527113ba",
   "metadata": {},
   "outputs": [
    {
     "data": {
      "text/plain": [
       "6"
      ]
     },
     "execution_count": 68,
     "metadata": {},
     "output_type": "execute_result"
    }
   ],
   "source": [
    "math.factorial(3)"
   ]
  },
  {
   "cell_type": "code",
   "execution_count": 70,
   "id": "a51a7bc1-5f5a-4b55-ab99-f9c4c5a67703",
   "metadata": {},
   "outputs": [
    {
     "data": {
      "text/plain": [
       "['AddPackagePath',\n",
       " 'Module',\n",
       " 'ModuleFinder',\n",
       " 'ReplacePackage',\n",
       " '_C_BUILTIN',\n",
       " '_C_EXTENSION',\n",
       " '_PKG_DIRECTORY',\n",
       " '_PY_COMPILED',\n",
       " '_PY_FROZEN',\n",
       " '_PY_SOURCE',\n",
       " '_SEARCH_ERROR',\n",
       " '__builtins__',\n",
       " '__cached__',\n",
       " '__doc__',\n",
       " '__file__',\n",
       " '__loader__',\n",
       " '__name__',\n",
       " '__package__',\n",
       " '__spec__',\n",
       " '_find_module',\n",
       " 'dis',\n",
       " 'importlib',\n",
       " 'io',\n",
       " 'marshal',\n",
       " 'os',\n",
       " 'packagePathMap',\n",
       " 'replacePackageMap',\n",
       " 'sys',\n",
       " 'test']"
      ]
     },
     "execution_count": 70,
     "metadata": {},
     "output_type": "execute_result"
    }
   ],
   "source": [
    "import modulefinder\n",
    "dir(modulefinder)"
   ]
  },
  {
   "cell_type": "code",
   "execution_count": 72,
   "id": "e66ad7a8-b6f0-4895-85c0-0e350a767393",
   "metadata": {},
   "outputs": [
    {
     "name": "stdout",
     "output_type": "stream",
     "text": [
      "['__all__', '__builtins__', '__cached__', '__doc__', '__file__', '__loader__', '__name__', '__package__', '__spec__', 'iskeyword', 'issoftkeyword', 'kwlist', 'softkwlist']\n"
     ]
    }
   ],
   "source": [
    "import keyword\n",
    "print(dir(keyword))"
   ]
  },
  {
   "cell_type": "code",
   "execution_count": 74,
   "id": "f2bcb019-a5fc-4b29-8b15-c78e2731ade0",
   "metadata": {},
   "outputs": [],
   "source": [
    "import random"
   ]
  },
  {
   "cell_type": "code",
   "execution_count": 80,
   "id": "1ef3d66f-3832-429a-8d0f-72ef22f00b0d",
   "metadata": {},
   "outputs": [
    {
     "data": {
      "text/plain": [
       "49"
      ]
     },
     "execution_count": 80,
     "metadata": {},
     "output_type": "execute_result"
    }
   ],
   "source": [
    "random.randint(1,50)"
   ]
  },
  {
   "cell_type": "code",
   "execution_count": 88,
   "id": "2fa1d531-d3b2-4a01-904d-421d4ac2eab5",
   "metadata": {},
   "outputs": [
    {
     "name": "stdout",
     "output_type": "stream",
     "text": [
      "<class 'list'>\n",
      "<class 'tuple'>\n",
      "<class 'set'>\n",
      "<class 'dict'>\n"
     ]
    }
   ],
   "source": [
    "#list\n",
    "names = ['maryam','wajahat']\n",
    "print(type(names))\n",
    "\n",
    "#tuple\n",
    "numbers = (1,2,3,4)\n",
    "print(type(numbers))\n",
    "\n",
    "#set\n",
    "subjects = {'data sciences','machine learning'}\n",
    "print(type(subjects)) \n",
    "\n",
    "#dict\n",
    "details = {'name':'maryam','age':23,'gender':'female'}\n",
    "print(type(details))"
   ]
  },
  {
   "cell_type": "code",
   "execution_count": null,
   "id": "00044726-2726-4d43-b8ce-8cba1a729614",
   "metadata": {},
   "outputs": [],
   "source": []
  }
 ],
 "metadata": {
  "kernelspec": {
   "display_name": "Python 3 (ipykernel)",
   "language": "python",
   "name": "python3"
  },
  "language_info": {
   "codemirror_mode": {
    "name": "ipython",
    "version": 3
   },
   "file_extension": ".py",
   "mimetype": "text/x-python",
   "name": "python",
   "nbconvert_exporter": "python",
   "pygments_lexer": "ipython3",
   "version": "3.12.4"
  }
 },
 "nbformat": 4,
 "nbformat_minor": 5
}
