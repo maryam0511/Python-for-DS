{
 "cells": [
  {
   "cell_type": "markdown",
   "id": "22fdd88d-6396-409a-81e4-eb4524f8bc77",
   "metadata": {},
   "source": [
    "## NAME: MARYAM WAJAHAT"
   ]
  },
  {
   "cell_type": "markdown",
   "id": "0449a195-969e-4f29-a72c-de3fd526309f",
   "metadata": {},
   "source": [
    "# LIST"
   ]
  },
  {
   "cell_type": "code",
   "execution_count": 3,
   "id": "f19edfe3-f387-461e-a4ae-1323a254f210",
   "metadata": {},
   "outputs": [
    {
     "name": "stdout",
     "output_type": "stream",
     "text": [
      "[]\n"
     ]
    }
   ],
   "source": [
    "#1. declare an empty list \n",
    "emp_list = []\n",
    "print(emp_list)"
   ]
  },
  {
   "cell_type": "code",
   "execution_count": 4,
   "id": "9854a6c6-7f5e-4f5d-929c-d019723e55ef",
   "metadata": {},
   "outputs": [
    {
     "name": "stdout",
     "output_type": "stream",
     "text": [
      "['january', 'february', 'march', 'april', 'may', 'june', 'july']\n"
     ]
    }
   ],
   "source": [
    "#2. declare a list with more than 5 items\n",
    "months = ['january','february','march','april','may','june','july']\n",
    "print(months)"
   ]
  },
  {
   "cell_type": "code",
   "execution_count": 5,
   "id": "754ec5fb-37f0-44a7-8a30-b657fd4006a7",
   "metadata": {},
   "outputs": [
    {
     "name": "stdout",
     "output_type": "stream",
     "text": [
      "7\n"
     ]
    }
   ],
   "source": [
    "#3.find the length of list\n",
    "print(len(months))"
   ]
  },
  {
   "cell_type": "code",
   "execution_count": 6,
   "id": "3a118594-c2e3-4cb1-9a45-0b85ef4f6dcb",
   "metadata": {},
   "outputs": [
    {
     "name": "stdout",
     "output_type": "stream",
     "text": [
      "['january', 'april', 'july']\n"
     ]
    }
   ],
   "source": [
    "# 4. get the first, middle and last item of the list\n",
    "print(months[0: :3])"
   ]
  },
  {
   "cell_type": "code",
   "execution_count": 7,
   "id": "148d07cd-9d12-438b-ab44-b088bb57dfd1",
   "metadata": {},
   "outputs": [
    {
     "name": "stdout",
     "output_type": "stream",
     "text": [
      "['Maryam Wajahat', 23, '5ft 3inch', 'single', 'Karachi']\n"
     ]
    }
   ],
   "source": [
    "#5. Declare a list called mixed_data_types, put your (name, age, height, marital status, address)\n",
    "mixed_data_types = ['Maryam Wajahat',23,'5ft 3inch','single','Karachi']\n",
    "print(mixed_data_types)"
   ]
  },
  {
   "cell_type": "code",
   "execution_count": 8,
   "id": "682af040-d0b2-4eaf-81ea-88dc6b95bda1",
   "metadata": {},
   "outputs": [
    {
     "name": "stdout",
     "output_type": "stream",
     "text": [
      "['Facebook', 'Google', 'Microsoft', 'Apple', 'IBM', 'Oracle', 'Amazon']\n",
      "7\n"
     ]
    }
   ],
   "source": [
    "#6. Declare a list variable named IT_companies and assign initial values Facebook, Google, Microsoft, Apple, IBM, Oracle and Amazon, Print the list using print() and Print the number of companies in the list\n",
    "IT_companies = ['Facebook','Google','Microsoft','Apple','IBM','Oracle','Amazon']\n",
    "print(IT_companies)\n",
    "print(len(IT_companies))"
   ]
  },
  {
   "cell_type": "code",
   "execution_count": 9,
   "id": "d162dc20-5194-41a0-b6b0-97437da8cc87",
   "metadata": {},
   "outputs": [
    {
     "name": "stdout",
     "output_type": "stream",
     "text": [
      "['Facebook', 'Apple', 'Amazon']\n"
     ]
    }
   ],
   "source": [
    "#7. print the first, middle and last company\n",
    "print(IT_companies[0: :3])"
   ]
  },
  {
   "cell_type": "code",
   "execution_count": 10,
   "id": "878bb224-4837-48c4-8cff-388d781d0c1e",
   "metadata": {},
   "outputs": [
    {
     "name": "stdout",
     "output_type": "stream",
     "text": [
      "['Facebook', 'Adobe', 'Microsoft', 'Apple', 'IBM', 'Oracle', 'Amazon']\n"
     ]
    }
   ],
   "source": [
    "#8. modify one of the companies\n",
    "IT_companies[1] = 'Adobe'\n",
    "print(IT_companies)"
   ]
  },
  {
   "cell_type": "code",
   "execution_count": 11,
   "id": "39a91d1f-5e77-45e6-be5e-cf5731ffaea9",
   "metadata": {},
   "outputs": [
    {
     "name": "stdout",
     "output_type": "stream",
     "text": [
      "['Facebook', 'Adobe', 'Microsoft', 'Apple', 'IBM', 'Oracle', 'Amazon', 'Accenture']\n"
     ]
    }
   ],
   "source": [
    "#9. add one company to the list\n",
    "IT_companies.append('Accenture')\n",
    "print(IT_companies)"
   ]
  },
  {
   "cell_type": "code",
   "execution_count": 12,
   "id": "3b50be28-6041-4d05-bd1c-e55c96b66d72",
   "metadata": {},
   "outputs": [
    {
     "name": "stdout",
     "output_type": "stream",
     "text": [
      "['Facebook', 'Adobe', 'Microsoft', 'Apple', 'Infosys', 'IBM', 'Oracle', 'Amazon', 'Accenture']\n"
     ]
    }
   ],
   "source": [
    "#10. add an IT company in the middle of the list\n",
    "IT_companies.insert(4,'Infosys')\n",
    "print(IT_companies)"
   ]
  },
  {
   "cell_type": "code",
   "execution_count": 13,
   "id": "ce3fd160-6c6d-41b4-ada4-377cb9b04514",
   "metadata": {},
   "outputs": [
    {
     "name": "stdout",
     "output_type": "stream",
     "text": [
      "['Facebook', 'Adobe', 'Microsoft', 'APPLE', 'Infosys', 'IBM', 'Oracle', 'Amazon', 'Accenture']\n"
     ]
    }
   ],
   "source": [
    "#11. changing one name to uppercase\n",
    "IT_companies[3] = IT_companies[3].upper()\n",
    "print(IT_companies)"
   ]
  },
  {
   "cell_type": "code",
   "execution_count": 14,
   "id": "331d3294-1e19-4878-9197-fd515937fbee",
   "metadata": {},
   "outputs": [
    {
     "data": {
      "text/plain": [
       "['APPLE',\n",
       " 'Accenture',\n",
       " 'Adobe',\n",
       " 'Amazon',\n",
       " 'Facebook',\n",
       " 'IBM',\n",
       " 'Infosys',\n",
       " 'Microsoft',\n",
       " 'Oracle']"
      ]
     },
     "execution_count": 14,
     "metadata": {},
     "output_type": "execute_result"
    }
   ],
   "source": [
    "#12. sort the list\n",
    "sorted(IT_companies)"
   ]
  },
  {
   "cell_type": "code",
   "execution_count": 15,
   "id": "672ac982-46e0-44f9-88f0-50ebab24f16f",
   "metadata": {},
   "outputs": [
    {
     "name": "stdout",
     "output_type": "stream",
     "text": [
      "['Accenture', 'Amazon', 'Oracle', 'IBM', 'Infosys', 'APPLE', 'Microsoft', 'Adobe', 'Facebook']\n"
     ]
    }
   ],
   "source": [
    "#13. reverse the list in descending order\n",
    "IT_companies.reverse()\n",
    "print(IT_companies)"
   ]
  },
  {
   "cell_type": "code",
   "execution_count": 16,
   "id": "94d7d4e2-187c-4a01-8296-0cb720592562",
   "metadata": {},
   "outputs": [
    {
     "data": {
      "text/plain": [
       "['Accenture', 'Amazon', 'Oracle']"
      ]
     },
     "execution_count": 16,
     "metadata": {},
     "output_type": "execute_result"
    }
   ],
   "source": [
    "#14. slice out first three companies\n",
    "IT_companies[0:3]"
   ]
  },
  {
   "cell_type": "code",
   "execution_count": 17,
   "id": "0aefbfbc-6b70-47d4-a55a-82774b99c418",
   "metadata": {},
   "outputs": [
    {
     "data": {
      "text/plain": [
       "['Microsoft', 'Adobe', 'Facebook']"
      ]
     },
     "execution_count": 17,
     "metadata": {},
     "output_type": "execute_result"
    }
   ],
   "source": [
    "#15. slice out last three companies from the list\n",
    "IT_companies[-3:]"
   ]
  },
  {
   "cell_type": "code",
   "execution_count": 18,
   "id": "4ac8d5b2-dbbf-4668-8aa2-54ea97a8d290",
   "metadata": {},
   "outputs": [
    {
     "data": {
      "text/plain": [
       "'Infosys'"
      ]
     },
     "execution_count": 18,
     "metadata": {},
     "output_type": "execute_result"
    }
   ],
   "source": [
    "#16. slice out middle company from the list\n",
    "IT_companies[4]"
   ]
  },
  {
   "cell_type": "code",
   "execution_count": 19,
   "id": "006f2c14-8122-4995-ace0-5c59c7a89b0e",
   "metadata": {},
   "outputs": [
    {
     "name": "stdout",
     "output_type": "stream",
     "text": [
      "['Amazon', 'Oracle', 'IBM', 'Infosys', 'APPLE', 'Microsoft', 'Adobe', 'Facebook']\n"
     ]
    }
   ],
   "source": [
    "#17. remove first company from the list\n",
    "IT_companies.pop(0)\n",
    "print(IT_companies)"
   ]
  },
  {
   "cell_type": "code",
   "execution_count": 20,
   "id": "42403d1f-6bac-4df3-8251-cefcc09ea71d",
   "metadata": {},
   "outputs": [
    {
     "name": "stdout",
     "output_type": "stream",
     "text": [
      "['Amazon', 'Oracle', 'IBM', 'APPLE', 'Microsoft', 'Adobe', 'Facebook']\n"
     ]
    }
   ],
   "source": [
    "#18. remove middle companies from the list\n",
    "IT_companies.remove('Infosys')\n",
    "print(IT_companies)"
   ]
  },
  {
   "cell_type": "code",
   "execution_count": 21,
   "id": "48e1a4e8-9da4-4609-bcb9-b40e5a15463e",
   "metadata": {},
   "outputs": [
    {
     "name": "stdout",
     "output_type": "stream",
     "text": [
      "['Amazon', 'Oracle', 'IBM', 'APPLE', 'Microsoft', 'Adobe']\n"
     ]
    }
   ],
   "source": [
    "#19. remove last IT_company from the list\n",
    "IT_companies.pop(-1)\n",
    "print(IT_companies)"
   ]
  },
  {
   "cell_type": "code",
   "execution_count": 22,
   "id": "14d5298b-90e3-4e6c-bc56-3b5d6a6b3a1d",
   "metadata": {},
   "outputs": [
    {
     "name": "stdout",
     "output_type": "stream",
     "text": [
      "[]\n"
     ]
    }
   ],
   "source": [
    "#20. remove all companies from the list\n",
    "IT_companies.clear()\n",
    "print(IT_companies)"
   ]
  },
  {
   "cell_type": "code",
   "execution_count": 23,
   "id": "76adafe5-239e-499d-a602-254d2c7c0ac5",
   "metadata": {},
   "outputs": [],
   "source": [
    "#21. destroy the list \n",
    "del IT_companies"
   ]
  },
  {
   "cell_type": "code",
   "execution_count": 24,
   "id": "da9452e4-f2a3-4799-bb53-859f5821d565",
   "metadata": {},
   "outputs": [
    {
     "name": "stdout",
     "output_type": "stream",
     "text": [
      "['HTML', 'CSS', 'JS', 'React', 'Redux', 'Node', 'Express', 'MongoDB']\n"
     ]
    }
   ],
   "source": [
    "#22 & 23. Join the following lists and assign it to a variable full_stack.\n",
    "front_end = ['HTML', 'CSS', 'JS', 'React', 'Redux']\n",
    "back_end = ['Node','Express', 'MongoDB']\n",
    "full_stack = front_end + back_end\n",
    "print(full_stack)"
   ]
  },
  {
   "cell_type": "code",
   "execution_count": 25,
   "id": "0c336b60-d5e5-4d46-8332-9819078ae307",
   "metadata": {},
   "outputs": [
    {
     "name": "stdout",
     "output_type": "stream",
     "text": [
      "['HTML', 'CSS', 'JS', 'React', 'Redux', 'Python', 'SQL', 'Node', 'Express', 'MongoDB']\n"
     ]
    }
   ],
   "source": [
    "#24. insert python and SQL after redux\n",
    "full_stack.insert(5,'Python')\n",
    "full_stack.insert(6,'SQL')\n",
    "print(full_stack)"
   ]
  },
  {
   "cell_type": "code",
   "execution_count": 26,
   "id": "93b665e8-9f68-491e-94b7-c61ecca420d1",
   "metadata": {},
   "outputs": [
    {
     "name": "stdout",
     "output_type": "stream",
     "text": [
      "[19, 22, 19, 24, 20, 25, 26, 24, 25, 24]\n"
     ]
    }
   ],
   "source": [
    "#25 & 26. list of 10 students\n",
    "ages = [19,22,19,24,20,25,26,24,25,24]\n",
    "print(ages)"
   ]
  },
  {
   "cell_type": "code",
   "execution_count": 27,
   "id": "eca74e4b-79d0-4da3-ab1f-8157f7f75e4a",
   "metadata": {},
   "outputs": [
    {
     "name": "stdout",
     "output_type": "stream",
     "text": [
      "[19, 19, 20, 22, 24, 24, 24, 25, 25, 26]\n",
      "26\n",
      "19\n"
     ]
    }
   ],
   "source": [
    "#27. sort the list and find min and max ages\n",
    "ages.sort()\n",
    "print(ages)\n",
    "print(max(ages))\n",
    "print(min(ages))"
   ]
  },
  {
   "cell_type": "code",
   "execution_count": 28,
   "id": "f0f6031e-d6c9-4807-a8ad-a1f427ce6267",
   "metadata": {},
   "outputs": [
    {
     "name": "stdout",
     "output_type": "stream",
     "text": [
      "[19, 19, 20, 22, 24, 24, 24, 25, 25, 26, 19, 26]\n"
     ]
    }
   ],
   "source": [
    "#28. add min age and max age again to the list\n",
    "ages.append(min(ages))\n",
    "ages.append(max(ages))\n",
    "print(ages)"
   ]
  },
  {
   "cell_type": "code",
   "execution_count": 29,
   "id": "2e696bd3-a384-476a-8beb-9ed557c632fa",
   "metadata": {},
   "outputs": [
    {
     "name": "stdout",
     "output_type": "stream",
     "text": [
      "[19, 19, 19, 20, 22, 24, 24, 24, 25, 25, 26, 26]\n",
      "24.0\n"
     ]
    }
   ],
   "source": [
    "#29. find the median age\n",
    "ages.sort()\n",
    "print(ages)\n",
    "\n",
    "median = (ages[5]+ages[6])/2\n",
    "print(median)"
   ]
  },
  {
   "cell_type": "code",
   "execution_count": 30,
   "id": "33c634a6-43b4-4afe-b0a1-8053d6bd4af7",
   "metadata": {},
   "outputs": [
    {
     "name": "stdout",
     "output_type": "stream",
     "text": [
      "22.75\n"
     ]
    }
   ],
   "source": [
    "#30. average\n",
    "total = len(ages)\n",
    "average = sum(ages)/total\n",
    "print(average)"
   ]
  },
  {
   "cell_type": "code",
   "execution_count": 31,
   "id": "e169fea7-60f7-4980-8aa4-645a1cc7eb2d",
   "metadata": {},
   "outputs": [
    {
     "name": "stdout",
     "output_type": "stream",
     "text": [
      "7\n"
     ]
    }
   ],
   "source": [
    "#31. range of ages\n",
    "range = max(ages) - min(ages)\n",
    "print(range)"
   ]
  },
  {
   "cell_type": "code",
   "execution_count": 32,
   "id": "a027995b-5a95-4e11-aa38-a4e2f19211b6",
   "metadata": {},
   "outputs": [
    {
     "name": "stdout",
     "output_type": "stream",
     "text": [
      "value of min_average is greater\n"
     ]
    }
   ],
   "source": [
    "#32. comparing value of min-average and max-average\n",
    "min_diff = abs(min(ages) - average)\n",
    "max_diff = abs(max(ages) - average)\n",
    "comparison = 'min_average' if min_diff>max_diff else 'max_average'\n",
    "print('value of', comparison, 'is greater')"
   ]
  },
  {
   "cell_type": "code",
   "execution_count": 33,
   "id": "58a59363-e7ea-40bf-8206-472348356de5",
   "metadata": {},
   "outputs": [
    {
     "name": "stdout",
     "output_type": "stream",
     "text": [
      "Finland\n"
     ]
    }
   ],
   "source": [
    "#33. find the middle country\n",
    "countries = ['China','Russia','USA','Finland','Sweden','Norway','Denmark']\n",
    "print(countries[3])"
   ]
  },
  {
   "cell_type": "code",
   "execution_count": 34,
   "id": "6b1c0ed2-972a-4221-a0e6-49d420aaea39",
   "metadata": {},
   "outputs": [
    {
     "name": "stdout",
     "output_type": "stream",
     "text": [
      "['China', 'Russia', 'USA', 'Canada', 'Finland', 'Sweden', 'Norway', 'Denmark']\n",
      "first half: ['China', 'Russia', 'USA', 'Canada']\n",
      "second half: ['Finland', 'Sweden', 'Norway', 'Denmark']\n"
     ]
    }
   ],
   "source": [
    "#34. divide the countries into two equal halves. if not equal insert one more country to the first half\n",
    "countries.insert(3,'Canada')\n",
    "print(countries)\n",
    "\n",
    "first_half = countries[0:4]\n",
    "second_half = countries[4: ]\n",
    "print('first half:',first_half)\n",
    "print('second half:',second_half)"
   ]
  },
  {
   "cell_type": "code",
   "execution_count": 35,
   "id": "8aa8075f-cae6-429b-bd61-c939f9dbee7d",
   "metadata": {},
   "outputs": [
    {
     "name": "stdout",
     "output_type": "stream",
     "text": [
      "China\n",
      "Russia\n",
      "USA\n",
      "['Finland', 'Sweden', 'Norway', 'Denmark']\n"
     ]
    }
   ],
   "source": [
    "#35. Unpack the first three countries and the rest as scandic countries.\n",
    "countries = ['China', 'Russia', 'USA', 'Finland', 'Sweden', 'Norway', 'Denmark']\n",
    "country1, country2, country3, *scandic_countries = countries\n",
    "print(country1)\n",
    "print(country2)\n",
    "print(country3)\n",
    "print(scandic_countries)"
   ]
  },
  {
   "cell_type": "markdown",
   "id": "ddbb5f2c-81c8-42ff-a871-8a7ae942534e",
   "metadata": {},
   "source": [
    "# TUPLES"
   ]
  },
  {
   "cell_type": "code",
   "execution_count": 37,
   "id": "f1e90f5f-c6d4-4778-9116-dffea47cc133",
   "metadata": {},
   "outputs": [
    {
     "name": "stdout",
     "output_type": "stream",
     "text": [
      "<class 'tuple'>\n"
     ]
    }
   ],
   "source": [
    "#1. create an empty tuple\n",
    "emp_tuple = ()\n",
    "print(type(emp_tuple))"
   ]
  },
  {
   "cell_type": "code",
   "execution_count": 38,
   "id": "1deb6675-3df4-451b-b426-d29c690118ca",
   "metadata": {},
   "outputs": [
    {
     "name": "stdout",
     "output_type": "stream",
     "text": [
      "('Aasia', 'Abiha')\n",
      "('Saif', 'Hussain')\n"
     ]
    }
   ],
   "source": [
    "#2. tuple containing names of your brothers and sisters\n",
    "sisters = ('Aasia','Abiha')\n",
    "brothers = ('Saif','Hussain')\n",
    "print(sisters)\n",
    "print(brothers)"
   ]
  },
  {
   "cell_type": "code",
   "execution_count": 39,
   "id": "6edd1c2a-0a5c-46bf-850c-0badfc528c8f",
   "metadata": {},
   "outputs": [
    {
     "name": "stdout",
     "output_type": "stream",
     "text": [
      "('Aasia', 'Abiha', 'Saif', 'Hussain')\n"
     ]
    }
   ],
   "source": [
    "#3. join brothers and sisters and assign it to siblings\n",
    "siblings = sisters + brothers\n",
    "print(siblings)"
   ]
  },
  {
   "cell_type": "code",
   "execution_count": 40,
   "id": "3870af6a-c7c5-4090-8270-943f6d4b2af9",
   "metadata": {},
   "outputs": [
    {
     "name": "stdout",
     "output_type": "stream",
     "text": [
      "4\n"
     ]
    }
   ],
   "source": [
    "#4. how many siblings\n",
    "print(len(siblings))"
   ]
  },
  {
   "cell_type": "code",
   "execution_count": 41,
   "id": "bce873f6-81d0-4553-a9a7-cd8ce5be3ec4",
   "metadata": {},
   "outputs": [
    {
     "name": "stdout",
     "output_type": "stream",
     "text": [
      "('Sheema', 'Wajahat', 'Aasia', 'Abiha', 'Saif', 'Hussain')\n"
     ]
    }
   ],
   "source": [
    "#5. modify siblings and add names of your parents and assign it to family members\n",
    "parents = ('Sheema','Wajahat')\n",
    "family_members = parents+siblings\n",
    "print(family_members)"
   ]
  },
  {
   "cell_type": "code",
   "execution_count": 42,
   "id": "f77d2cbc-e150-412c-a664-0b701f058b68",
   "metadata": {},
   "outputs": [
    {
     "name": "stdout",
     "output_type": "stream",
     "text": [
      "parents: ('Sheema', 'Wajahat')\n",
      "siblings: ('Aasia', 'Abiha', 'Saif', 'Hussain')\n"
     ]
    }
   ],
   "source": [
    "#6. unpack siblings and parents from family members\n",
    "parents, siblings = family_members[0:2], family_members[2: ]\n",
    "print('parents:', parents)\n",
    "print('siblings:', siblings)"
   ]
  },
  {
   "cell_type": "code",
   "execution_count": 43,
   "id": "54f6e148-9e5e-472e-b5d7-fc63ac2d7da0",
   "metadata": {},
   "outputs": [
    {
     "name": "stdout",
     "output_type": "stream",
     "text": [
      "('Apple', 'Banana', 'Mango', 'Tomato', 'Potato', 'Carrot', 'Chicken', 'Beef', 'Mutton')\n"
     ]
    }
   ],
   "source": [
    "#7. Create fruits, vegetables and animal products tuples. Join the three tuples and assign it to a variable called food_stuff_tp.\n",
    "fruits = ('Apple','Banana','Mango')\n",
    "vegetables = ('Tomato','Potato','Carrot')\n",
    "animal_products = ('Chicken','Beef','Mutton')\n",
    "food_stuff_tp = fruits+vegetables+animal_products\n",
    "print(food_stuff_tp)"
   ]
  },
  {
   "cell_type": "code",
   "execution_count": 44,
   "id": "df3793ca-e929-45f0-a2d1-5e06fe859d5f",
   "metadata": {},
   "outputs": [
    {
     "name": "stdout",
     "output_type": "stream",
     "text": [
      "['Apple', 'Banana', 'Mango', 'Tomato', 'Potato', 'Carrot', 'Chicken', 'Beef', 'Mutton']\n",
      "<class 'list'>\n"
     ]
    }
   ],
   "source": [
    "#8. change food_stuff_tp touple to food_stuff_lt list\n",
    "food_stuff_lt = (list(food_stuff_tp))\n",
    "print(food_stuff_lt)\n",
    "print(type(food_stuff_lt))"
   ]
  },
  {
   "cell_type": "code",
   "execution_count": 45,
   "id": "6f07932e-ce88-46e3-8878-272b22377337",
   "metadata": {},
   "outputs": [
    {
     "name": "stdout",
     "output_type": "stream",
     "text": [
      "Potato\n"
     ]
    }
   ],
   "source": [
    "#9. slice out the middle item\n",
    "print(food_stuff_lt[4])"
   ]
  },
  {
   "cell_type": "code",
   "execution_count": 46,
   "id": "41b9c085-43e0-4dc1-8d92-b45462e1f304",
   "metadata": {},
   "outputs": [
    {
     "name": "stdout",
     "output_type": "stream",
     "text": [
      "first three items: ['Apple', 'Banana', 'Mango']\n",
      "last three items: ['Chicken', 'Beef', 'Mutton']\n"
     ]
    }
   ],
   "source": [
    "#10. slice out the first three items and last three items\n",
    "print('first three items:', food_stuff_lt[0:3])\n",
    "print('last three items:', food_stuff_lt[6: ])"
   ]
  },
  {
   "cell_type": "code",
   "execution_count": 47,
   "id": "e03e7087-4bbb-4a16-bcc9-a7f6c5f61dda",
   "metadata": {},
   "outputs": [],
   "source": [
    "#11. delete food_stuff_tp\n",
    "del food_stuff_tp"
   ]
  },
  {
   "cell_type": "markdown",
   "id": "90b9bf3c-4a56-4dcd-8a79-4284bac9721c",
   "metadata": {},
   "source": [
    "# SETS"
   ]
  },
  {
   "cell_type": "code",
   "execution_count": 49,
   "id": "afaa26a8-d831-4a0d-ba0b-c5d9c4542b87",
   "metadata": {},
   "outputs": [],
   "source": [
    "IT_companies = {'Facebook','Google','Microsoft','Apple','IBM','Oracle','Amazon'}\n",
    "A = {19,22,24,20,25,26}\n",
    "B = {19,22,20,25,26,24,28,27}\n",
    "age = [22,19,24,25,26,24,25,24]"
   ]
  },
  {
   "cell_type": "code",
   "execution_count": 50,
   "id": "4ad86c72-5ef9-4994-ab28-e9ceae4c7fdd",
   "metadata": {},
   "outputs": [
    {
     "name": "stdout",
     "output_type": "stream",
     "text": [
      "7\n"
     ]
    }
   ],
   "source": [
    "#1. find the length of IT_companies \n",
    "print(len(IT_companies))"
   ]
  },
  {
   "cell_type": "code",
   "execution_count": 51,
   "id": "1136ab66-23a9-4e31-ab33-c1d83a8e90ce",
   "metadata": {},
   "outputs": [
    {
     "name": "stdout",
     "output_type": "stream",
     "text": [
      "{'Microsoft', 'Apple', 'Twitter', 'IBM', 'Facebook', 'Amazon', 'Oracle', 'Google'}\n"
     ]
    }
   ],
   "source": [
    "#2. add twitter to IT_companies\n",
    "IT_companies.add('Twitter')\n",
    "print(IT_companies)"
   ]
  },
  {
   "cell_type": "code",
   "execution_count": 52,
   "id": "465508bb-11f5-418f-9370-e1a516535519",
   "metadata": {},
   "outputs": [
    {
     "name": "stdout",
     "output_type": "stream",
     "text": [
      "{'Infosys', 'Microsoft', 'Facebook', 'Amazon', 'Apple', 'Adobe', 'Google', 'Meta', 'Twitter', 'IBM', 'Oracle'}\n"
     ]
    }
   ],
   "source": [
    "#3. insert multiple IT companies at once \n",
    "IT_companies.update(['Infosys','Adobe','Meta'])\n",
    "print(IT_companies)"
   ]
  },
  {
   "cell_type": "code",
   "execution_count": 53,
   "id": "95d03b6c-bc6d-453a-bc14-d4702ed61cab",
   "metadata": {},
   "outputs": [
    {
     "name": "stdout",
     "output_type": "stream",
     "text": [
      "{'Infosys', 'Microsoft', 'Facebook', 'Amazon', 'Adobe', 'Google', 'Meta', 'Twitter', 'IBM', 'Oracle'}\n"
     ]
    }
   ],
   "source": [
    "#4. remove any one company\n",
    "IT_companies.remove('Apple')\n",
    "print(IT_companies)"
   ]
  },
  {
   "cell_type": "code",
   "execution_count": 54,
   "id": "3fd05b8d-a70c-4e81-bc3f-0d4c3564c578",
   "metadata": {},
   "outputs": [],
   "source": [
    "#5. difference between remove and discard\n",
    "# REMOVE: Remove is used to delete an assigned elementy from the set but if the element doesnot exist doesnot return an error.\n",
    "# DISCARD: Discard is also used to remove an element from the list but if the assigned element is not present then it returns an error."
   ]
  },
  {
   "cell_type": "code",
   "execution_count": 55,
   "id": "a0214be7-91d7-4fe3-a72c-0d1ca76eac66",
   "metadata": {},
   "outputs": [
    {
     "name": "stdout",
     "output_type": "stream",
     "text": [
      "{19, 20, 22, 24, 25, 26}\n",
      "{19, 20, 22, 24, 25, 26, 27, 28}\n",
      "{19, 20, 22, 24, 25, 26, 27, 28}\n"
     ]
    }
   ],
   "source": [
    "#6. join A and B\n",
    "print(A)\n",
    "print(B)\n",
    "print(A|B)"
   ]
  },
  {
   "cell_type": "code",
   "execution_count": 56,
   "id": "1643d0d0-94cc-4dc2-a0c4-c3478a415862",
   "metadata": {},
   "outputs": [
    {
     "name": "stdout",
     "output_type": "stream",
     "text": [
      "{19, 20, 22, 24, 25, 26}\n"
     ]
    }
   ],
   "source": [
    "#7. A intersection B\n",
    "print(A&B)"
   ]
  },
  {
   "cell_type": "code",
   "execution_count": 57,
   "id": "a9b940db-3590-4b50-a7c2-51109e16d54b",
   "metadata": {},
   "outputs": [
    {
     "name": "stdout",
     "output_type": "stream",
     "text": [
      "True\n"
     ]
    }
   ],
   "source": [
    "#8. is A a subset of B\n",
    "print(A.issubset(B))"
   ]
  },
  {
   "cell_type": "code",
   "execution_count": 58,
   "id": "2e76bfa7-305b-4d10-bc16-4755ee2fe5c6",
   "metadata": {},
   "outputs": [
    {
     "name": "stdout",
     "output_type": "stream",
     "text": [
      "False\n"
     ]
    }
   ],
   "source": [
    "#9. are A and B disjoint sets\n",
    "print(A.isdisjoint(B))"
   ]
  },
  {
   "cell_type": "code",
   "execution_count": 59,
   "id": "91a54303-0225-412c-acbb-d493511c2dbf",
   "metadata": {},
   "outputs": [
    {
     "name": "stdout",
     "output_type": "stream",
     "text": [
      "{19, 20, 22, 24, 25, 26, 27, 28}\n",
      "{19, 20, 22, 24, 25, 26, 27, 28}\n"
     ]
    }
   ],
   "source": [
    "#10. join A with B \n",
    "print(A|B)\n",
    "#join B with A\n",
    "print(B|A)"
   ]
  },
  {
   "cell_type": "code",
   "execution_count": 60,
   "id": "4f77a297-3def-4224-ad7d-c4e040bcab4e",
   "metadata": {},
   "outputs": [
    {
     "name": "stdout",
     "output_type": "stream",
     "text": [
      "{27, 28}\n",
      "{27, 28}\n"
     ]
    }
   ],
   "source": [
    "#11. symmetric difference between A and B\n",
    "print(A^B)\n",
    "#between B and A\n",
    "print(B^A)"
   ]
  },
  {
   "cell_type": "code",
   "execution_count": 61,
   "id": "5eeb3d2a-7236-4276-bba6-cb1c3634bdeb",
   "metadata": {},
   "outputs": [],
   "source": [
    "#12. delete the sets\n",
    "del IT_companies\n",
    "del A\n",
    "del B"
   ]
  },
  {
   "cell_type": "code",
   "execution_count": 62,
   "id": "f40deb5c-06e1-4a72-b4cc-ffa6cf4ae3a4",
   "metadata": {},
   "outputs": [
    {
     "name": "stdout",
     "output_type": "stream",
     "text": [
      "set: {19, 20, 22, 24, 25, 26}\n",
      "list: [19, 19, 19, 20, 22, 24, 24, 24, 25, 25, 26, 26]\n",
      "length of list is bigger: 12\n"
     ]
    }
   ],
   "source": [
    "#13. convert ages to a set\n",
    "ages_set = set(ages)\n",
    "print('set:',ages_set)\n",
    "print('list:',ages)\n",
    "\n",
    "#compare length of list and set which one is bigger\n",
    "len_list = len(ages)\n",
    "len_set = len(ages_set)\n",
    "\n",
    "if len_list>len_set:\n",
    "    print('length of list is bigger:', len_list)\n",
    "else:\n",
    "    print('length of set is bigger:', len_set) "
   ]
  },
  {
   "cell_type": "code",
   "execution_count": 63,
   "id": "598bc36c-bbfe-4dbb-94a5-8ebb065ddef2",
   "metadata": {},
   "outputs": [],
   "source": [
    "#14. \n",
    "# STRING: A string is a data type which includes alphabetical characters and is enclosed with \"\". \n",
    "# LIST: List is a mutable data type which is ordered, allows dupliates and can store multiple data types like string, float, integer etc. it is represented by [].\n",
    "# TUPLE: Tuple is an ordered and immutable data type hence once created it cannot be modified. it allows repitition and can also store multiple data types and is represented using ().\n",
    "# SET: Set is an unordered colletion of well-defined and distinct objects. sets are mutable and can perform operations like union, intersection, difference, symmetric difference, subset, superset and disjoint. it is reprented using {}.\n"
   ]
  }
 ],
 "metadata": {
  "kernelspec": {
   "display_name": "Python 3 (ipykernel)",
   "language": "python",
   "name": "python3"
  },
  "language_info": {
   "codemirror_mode": {
    "name": "ipython",
    "version": 3
   },
   "file_extension": ".py",
   "mimetype": "text/x-python",
   "name": "python",
   "nbconvert_exporter": "python",
   "pygments_lexer": "ipython3",
   "version": "3.12.4"
  }
 },
 "nbformat": 4,
 "nbformat_minor": 5
}
