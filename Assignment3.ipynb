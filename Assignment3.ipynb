{
 "cells": [
  {
   "cell_type": "markdown",
   "id": "50465d58-778e-4a3f-b7ca-ba667ab93a4b",
   "metadata": {},
   "source": [
    "### ATM Machine"
   ]
  },
  {
   "cell_type": "code",
   "execution_count": 2,
   "id": "d5ae7c2a-f8f4-4d18-aeaa-7f448c5d3fbd",
   "metadata": {},
   "outputs": [
    {
     "name": "stdin",
     "output_type": "stream",
     "text": [
      "Please enter your pin: 1234\n"
     ]
    },
    {
     "name": "stdout",
     "output_type": "stream",
     "text": [
      "Select Option:\n"
     ]
    },
    {
     "name": "stdin",
     "output_type": "stream",
     "text": [
      "\n",
      "    1 Balance Inquiry\n",
      "    2 Deposit Cash\n",
      "    3 Cash Withdrawal\n",
      "     1\n"
     ]
    },
    {
     "name": "stdout",
     "output_type": "stream",
     "text": [
      "Your current balance is: 10000\n"
     ]
    }
   ],
   "source": [
    "pin = 1234\n",
    "balance = 10000\n",
    "\n",
    "entered_pin = int(input(\"Please enter your pin:\"))\n",
    "\n",
    "if entered_pin==pin:\n",
    "    print(\"Select Option:\")\n",
    "    option = input('''\n",
    "    1 Balance Inquiry\n",
    "    2 Deposit Cash\n",
    "    3 Cash Withdrawal\n",
    "    ''')\n",
    "    if option=='1':\n",
    "        print(\"Your current balance is:\",balance)\n",
    "    elif option=='2':\n",
    "        deposit = int(input(\"Please enter the amount you would like to deposit:\"))\n",
    "        if deposit%10==0 and deposit>0:\n",
    "            balance+=deposit\n",
    "            print(\"Amount Deposited Successfully.\")\n",
    "            print(\"Your current balance is:\",balance)\n",
    "        else:\n",
    "            print(\"Please enter a positive amount or multiple of 10\")\n",
    "    elif option=='3':\n",
    "        withdrawal = int(input(\"Please enter the amount you would like to withdraw:\"))\n",
    "        if withdrawal<=balance:\n",
    "            if withdrawal>0:\n",
    "                if withdrawal%10==0:\n",
    "                    balance-=withdrawal\n",
    "                    print(\"Withdrawal Successful\")\n",
    "                    print(\"Your current balance is:\",balance)\n",
    "                    receipt = input(\"Print receipt? (yes/no)\").lower()\n",
    "                    if receipt=='yes':\n",
    "                        print(\"---------------------------\")\n",
    "                        print(\"Withdrawal:\",withdrawal)\n",
    "                        print(\"Account Balance:\",balance)\n",
    "                        print(\"---------------------------\")\n",
    "                    else:\n",
    "                        print(\"Thankyou\")\n",
    "                else:\n",
    "                    print(\"Entered amount must be multiple of 10\")\n",
    "            else:\n",
    "                print(\"Please enter a positive amount\")\n",
    "        else:\n",
    "            print(\"Insufficient Balance\")\n",
    "    else:\n",
    "        print(\"Invalid Option\")\n",
    "else:\n",
    "    print(\"Invalid Pin\")"
   ]
  },
  {
   "cell_type": "markdown",
   "id": "03789947-e790-472d-9567-07dfa3ccaf24",
   "metadata": {},
   "source": [
    "### Coffee Maker"
   ]
  },
  {
   "cell_type": "code",
   "execution_count": null,
   "id": "54af9282-c981-4ce3-a513-078196b3f962",
   "metadata": {},
   "outputs": [
    {
     "name": "stdout",
     "output_type": "stream",
     "text": [
      "Please enter an option:\n"
     ]
    },
    {
     "name": "stdin",
     "output_type": "stream",
     "text": [
      "(Espresso/Latte/Cappuccino) latte\n"
     ]
    },
    {
     "name": "stdout",
     "output_type": "stream",
     "text": [
      "$ 2.5 required. Please insert coins.\n"
     ]
    },
    {
     "name": "stdin",
     "output_type": "stream",
     "text": [
      "How many quarters? 7\n",
      "How many dimes? 5\n",
      "How many nickels? 1\n",
      "How many pennies? 1\n"
     ]
    },
    {
     "name": "stdout",
     "output_type": "stream",
     "text": [
      "Sorry that's not enough money. Money refunded.\n",
      "Please enter an option:\n"
     ]
    },
    {
     "name": "stdin",
     "output_type": "stream",
     "text": [
      "(Espresso/Latte/Cappuccino) report\n"
     ]
    },
    {
     "name": "stdout",
     "output_type": "stream",
     "text": [
      "--------------------\n",
      "     REPORT         \n",
      "Water: 500 ml\n",
      "Milk: 400 ml\n",
      "Coffee: 300 ml\n",
      "Money: $ 0.0\n",
      "--------------------\n",
      "Please enter an option:\n"
     ]
    },
    {
     "name": "stdin",
     "output_type": "stream",
     "text": [
      "(Espresso/Latte/Cappuccino) espresso\n"
     ]
    },
    {
     "name": "stdout",
     "output_type": "stream",
     "text": [
      "$ 2.0 required. Please insert coins.\n"
     ]
    },
    {
     "name": "stdin",
     "output_type": "stream",
     "text": [
      "How many quarters? 15\n",
      "How many dimes? 0\n",
      "How many nickels? 0\n",
      "How many pennies? 0\n"
     ]
    },
    {
     "name": "stdout",
     "output_type": "stream",
     "text": [
      "Here is your change: $ 2\n",
      "Here is your espresso Enjoy!\n",
      "Please enter an option:\n"
     ]
    },
    {
     "name": "stdin",
     "output_type": "stream",
     "text": [
      "(Espresso/Latte/Cappuccino) report\n"
     ]
    },
    {
     "name": "stdout",
     "output_type": "stream",
     "text": [
      "--------------------\n",
      "     REPORT         \n",
      "Water: 450 ml\n",
      "Milk: 400 ml\n",
      "Coffee: 280 ml\n",
      "Money: $ 2.0\n",
      "--------------------\n",
      "Please enter an option:\n"
     ]
    },
    {
     "name": "stdin",
     "output_type": "stream",
     "text": [
      "(Espresso/Latte/Cappuccino) xyz\n"
     ]
    },
    {
     "name": "stdout",
     "output_type": "stream",
     "text": [
      "Invalid Option\n",
      "Please enter an option:\n"
     ]
    },
    {
     "name": "stdin",
     "output_type": "stream",
     "text": [
      "(Espresso/Latte/Cappuccino) 123\n"
     ]
    },
    {
     "name": "stdout",
     "output_type": "stream",
     "text": [
      "Invalid Option\n",
      "Please enter an option:\n"
     ]
    },
    {
     "name": "stdin",
     "output_type": "stream",
     "text": [
      "(Espresso/Latte/Cappuccino) \n"
     ]
    },
    {
     "name": "stdout",
     "output_type": "stream",
     "text": [
      "Invalid Option\n",
      "Please enter an option:\n"
     ]
    },
    {
     "name": "stdin",
     "output_type": "stream",
     "text": [
      "(Espresso/Latte/Cappuccino) \n"
     ]
    },
    {
     "name": "stdout",
     "output_type": "stream",
     "text": [
      "Invalid Option\n",
      "Please enter an option:\n"
     ]
    },
    {
     "name": "stdin",
     "output_type": "stream",
     "text": [
      "(Espresso/Latte/Cappuccino) \n"
     ]
    },
    {
     "name": "stdout",
     "output_type": "stream",
     "text": [
      "Invalid Option\n",
      "Please enter an option:\n"
     ]
    }
   ],
   "source": [
    "#stocking\n",
    "water = 500\n",
    "milk = 400 \n",
    "coffee = 300\n",
    "money = 0.0\n",
    "\n",
    "#coin sorting\n",
    "quarters = 0.25\n",
    "dimes = 0.10\n",
    "nickels = 0.05\n",
    "pennies = 0.10\n",
    "\n",
    "#turning on by default\n",
    "on = True \n",
    "off = False\n",
    "\n",
    "while on:\n",
    "    print(\"Please enter an option:\")\n",
    "    choice = input(\"(Espresso/Latte/Cappuccino)\").lower()\n",
    "    if choice=='espresso':\n",
    "        req_water = 50\n",
    "        req_milk = 0\n",
    "        req_coffee = 20\n",
    "        cost = 2.0\n",
    "        if water<req_water or milk<req_milk or coffee<req_coffee:\n",
    "            print(\"Sorry. There are not enough resources.\")\n",
    "        else:\n",
    "            print(\"$\",cost,\"required. Please insert coins.\")\n",
    "            input_quarters = int(input(\"How many quarters?\"))\n",
    "            input_dimes = int(input(\"How many dimes?\"))\n",
    "            input_nickels = int(input(\"How many nickels?\"))\n",
    "            input_pennies = int(input(\"How many pennies?\"))\n",
    "            total = (input_quarters*quarters)+(input_dimes*dimes)+(input_nickels*nickels)+(input_pennies*pennies)\n",
    "            if total<cost:\n",
    "                print(\"Sorry that's not enough money. Money refunded.\")\n",
    "            else:\n",
    "                change=round(total-cost)\n",
    "                print(\"Here is your change: $\",change)\n",
    "                money += cost\n",
    "                #deduct resoures\n",
    "                water -= req_water\n",
    "                milk -= req_milk\n",
    "                coffee -= req_coffee\n",
    "                print(\"Here is your\",choice,\"Enjoy!\")\n",
    "\n",
    "    elif choice=='latte':\n",
    "        req_water = 200\n",
    "        req_milk = 150\n",
    "        req_coffee = 25\n",
    "        cost = 2.5\n",
    "        if water<req_water or milk<req_milk or coffee<req_coffee:\n",
    "            print(\"Sorry. There are not enough resources.\")\n",
    "        else:\n",
    "            print(\"$\",cost,\"required. Please insert coins.\")\n",
    "            input_quarters = int(input(\"How many quarters?\"))\n",
    "            input_dimes = int(input(\"How many dimes?\"))\n",
    "            input_nickels = int(input(\"How many nickels?\"))\n",
    "            input_pennies = int(input(\"How many pennies?\"))\n",
    "            total = (input_quarters*quarters)+(input_dimes*dimes)+(input_nickels*nickels)+(input_pennies*pennies)\n",
    "            if total<cost:\n",
    "                print(\"Sorry that's not enough money. Money refunded.\")\n",
    "            else:\n",
    "                change=round(total-cost)\n",
    "                print(\"Here is your change: $\",change)\n",
    "                money += cost\n",
    "                #deduct resoures\n",
    "                water -= req_water\n",
    "                milk -= req_milk\n",
    "                coffee -= req_coffee\n",
    "                print(\"Here is your\",choice,\"Enjoy!\")\n",
    "\n",
    "    elif choice=='cappuccino':\n",
    "        req_water = 250\n",
    "        req_milk = 100\n",
    "        req_coffee = 25\n",
    "        cost = 3.0\n",
    "        if water<req_water or milk<req_milk or coffee<req_coffee:\n",
    "            print(\"Sorry. There are not enough resources.\")\n",
    "        else:\n",
    "            print(\"$\",cost,\"required. Please insert coins.\")\n",
    "            input_quarters = int(input(\"How many quarters?\"))\n",
    "            input_dimes = int(input(\"How many dimes?\"))\n",
    "            input_nickels = int(input(\"How many nickels?\"))\n",
    "            input_pennies = int(input(\"How many pennies?\"))\n",
    "            total = (input_quarters*quarters)+(input_dimes*dimes)+(input_nickels*nickels)+(input_pennies*pennies)\n",
    "            if total<cost:\n",
    "                print(\"Sorry that's not enough money. Money refunded.\")\n",
    "            else:\n",
    "                change=round(total-cost)\n",
    "                print(\"Here is your change: $\",change)\n",
    "                money += cost\n",
    "                #deduct resoures\n",
    "                water -= req_water\n",
    "                milk -= req_milk\n",
    "                coffee -= req_coffee\n",
    "                print(\"Here is your\",choice,\"Enjoy!\")\n",
    "\n",
    "    elif choice=='report':\n",
    "        print(\"--------------------\")\n",
    "        print(\"     REPORT         \")\n",
    "        print(\"Water:\",water,\"ml\")\n",
    "        print(\"Milk:\",milk,\"ml\")\n",
    "        print(\"Coffee:\",coffee,\"ml\")\n",
    "        print(\"Money: $\",money)\n",
    "        print(\"--------------------\")\n",
    "\n",
    "    elif choice==\"off\":\n",
    "        print(\"Coffe Machine turned off.\")\n",
    "        break\n",
    "\n",
    "    else:\n",
    "        print(\"Invalid Option\")"
   ]
  },
  {
   "cell_type": "code",
   "execution_count": null,
   "id": "effd4be0-e850-4781-8ac5-9f4674c9a453",
   "metadata": {},
   "outputs": [],
   "source": []
  }
 ],
 "metadata": {
  "kernelspec": {
   "display_name": "Python 3 (ipykernel)",
   "language": "python",
   "name": "python3"
  },
  "language_info": {
   "codemirror_mode": {
    "name": "ipython",
    "version": 3
   },
   "file_extension": ".py",
   "mimetype": "text/x-python",
   "name": "python",
   "nbconvert_exporter": "python",
   "pygments_lexer": "ipython3",
   "version": "3.12.4"
  }
 },
 "nbformat": 4,
 "nbformat_minor": 5
}
