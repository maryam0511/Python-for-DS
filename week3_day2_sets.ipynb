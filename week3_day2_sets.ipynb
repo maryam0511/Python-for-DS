{
 "cells": [
  {
   "cell_type": "markdown",
   "id": "cb199e5e-2464-4c12-b445-3ae42f645cb2",
   "metadata": {},
   "source": [
    "# SETS"
   ]
  },
  {
   "cell_type": "code",
   "execution_count": 2,
   "id": "f2a96198-05a3-4584-aaba-42123fbb3c8e",
   "metadata": {},
   "outputs": [
    {
     "name": "stdout",
     "output_type": "stream",
     "text": [
      "<class 'set'>\n",
      "<class 'dict'>\n"
     ]
    }
   ],
   "source": [
    "#representation of empty set\n",
    "name = set()\n",
    "print(type(name))\n",
    "\n",
    "#with {} is dictionary\n",
    "s1 = {}\n",
    "print(type(s1))"
   ]
  },
  {
   "cell_type": "code",
   "execution_count": 3,
   "id": "b652b419-eb2c-49ba-9c30-d23163c7e274",
   "metadata": {},
   "outputs": [
    {
     "name": "stdout",
     "output_type": "stream",
     "text": [
      "{1, 4, 5}\n"
     ]
    }
   ],
   "source": [
    "s = {1,4,5,5}\n",
    "print(s)"
   ]
  },
  {
   "cell_type": "code",
   "execution_count": 4,
   "id": "b9690865-2518-4a73-a4e1-5aa6aa675bcb",
   "metadata": {},
   "outputs": [
    {
     "name": "stdout",
     "output_type": "stream",
     "text": [
      "{3, 1, (4, 5), 2}\n"
     ]
    }
   ],
   "source": [
    "s1 = {1,2,3,(4,5)}   #tuple can be added in a set as it is immutable\n",
    "print(s1)\n",
    "#s2 = {1,2,3,[4,5]}    #list cannot be added in set as it is mutable \n",
    "#print(s2)"
   ]
  },
  {
   "cell_type": "code",
   "execution_count": 5,
   "id": "2f008575-50d4-4bb6-9361-25f94b126a0d",
   "metadata": {},
   "outputs": [
    {
     "name": "stdout",
     "output_type": "stream",
     "text": [
      "{1, 2.5, 'maryam'}\n"
     ]
    }
   ],
   "source": [
    "set = {1,'maryam',2.5,True}   #true and 1 are considered same and will not be printed again\n",
    "print(set)"
   ]
  },
  {
   "cell_type": "code",
   "execution_count": 6,
   "id": "d26fee17-16b2-42b6-8318-959bfe5cf8ce",
   "metadata": {},
   "outputs": [
    {
     "ename": "TypeError",
     "evalue": "'set' object is not callable",
     "output_type": "error",
     "traceback": [
      "\u001b[1;31m---------------------------------------------------------------------------\u001b[0m",
      "\u001b[1;31mTypeError\u001b[0m                                 Traceback (most recent call last)",
      "Cell \u001b[1;32mIn[6], line 2\u001b[0m\n\u001b[0;32m      1\u001b[0m \u001b[38;5;66;03m#turning list to set\u001b[39;00m\n\u001b[1;32m----> 2\u001b[0m fruits \u001b[38;5;241m=\u001b[39m \u001b[38;5;28mset\u001b[39m([\u001b[38;5;124m'\u001b[39m\u001b[38;5;124mapple\u001b[39m\u001b[38;5;124m'\u001b[39m,\u001b[38;5;124m'\u001b[39m\u001b[38;5;124mbanana\u001b[39m\u001b[38;5;124m'\u001b[39m,\u001b[38;5;124m'\u001b[39m\u001b[38;5;124mcherry\u001b[39m\u001b[38;5;124m'\u001b[39m])\n\u001b[0;32m      3\u001b[0m \u001b[38;5;28mprint\u001b[39m(fruits)\n",
      "\u001b[1;31mTypeError\u001b[0m: 'set' object is not callable"
     ]
    }
   ],
   "source": [
    "#turning list to set\n",
    "fruits = set(['apple','banana','cherry'])\n",
    "print(fruits)"
   ]
  },
  {
   "cell_type": "code",
   "execution_count": 18,
   "id": "1285d0e7-620a-47a3-b9da-e5fa3a8c0329",
   "metadata": {},
   "outputs": [
    {
     "data": {
      "text/plain": [
       "True"
      ]
     },
     "execution_count": 18,
     "metadata": {},
     "output_type": "execute_result"
    }
   ],
   "source": [
    "set1 = {1,2,3,4}\n",
    "set2 = {4,3,2,1}\n",
    "set1 == set2"
   ]
  },
  {
   "cell_type": "code",
   "execution_count": 20,
   "id": "5c24e615-bbb1-470e-894b-5cf7f0264d4f",
   "metadata": {},
   "outputs": [
    {
     "name": "stdout",
     "output_type": "stream",
     "text": [
      "{1, 2.5, 'maryam'}\n"
     ]
    }
   ],
   "source": [
    "print(set)"
   ]
  },
  {
   "cell_type": "code",
   "execution_count": 22,
   "id": "7229ab78-8853-4532-930a-8467f20a6af1",
   "metadata": {},
   "outputs": [],
   "source": [
    "#accseing elements\n",
    "#print(set[0])      gives error as it unordered and doesnot have any index\n",
    "#similiarly cannot add elements to a specific index\n",
    "#set[0] = 'cherry'"
   ]
  },
  {
   "cell_type": "code",
   "execution_count": 24,
   "id": "cd005b09-2d75-4ba8-89f2-e955c09d171f",
   "metadata": {},
   "outputs": [
    {
     "name": "stdout",
     "output_type": "stream",
     "text": [
      "{1, 2, 3, 4, 5}\n"
     ]
    }
   ],
   "source": [
    "#for addition(single element)\n",
    "s = {1,2,3,4}\n",
    "s.add(5)   #only takes one argument\n",
    "print(s)"
   ]
  },
  {
   "cell_type": "code",
   "execution_count": 26,
   "id": "3f9e0eda-0604-4ae6-970e-c64ece10da8b",
   "metadata": {},
   "outputs": [
    {
     "name": "stdout",
     "output_type": "stream",
     "text": [
      "{1, 2, 3, 4, 5, 6, 7, 8}\n"
     ]
    }
   ],
   "source": [
    "#for addition (multiple elements)\n",
    "s.update([6,7,8])    #here it converts every element of the list to a separate item and add according to the formulas of list \n",
    "print(s)"
   ]
  },
  {
   "cell_type": "code",
   "execution_count": 28,
   "id": "9fa01c84-5439-49b3-be34-cc104131b668",
   "metadata": {},
   "outputs": [
    {
     "name": "stdout",
     "output_type": "stream",
     "text": [
      "{1, 2, 3, 4, 5, 6, 7, 8, 9, 10}\n"
     ]
    }
   ],
   "source": [
    "s.update((9,10))   #can add tuples as well \n",
    "print(s)"
   ]
  },
  {
   "cell_type": "code",
   "execution_count": 30,
   "id": "3b521a8e-d46e-4f02-bf9b-bf0017564b0f",
   "metadata": {},
   "outputs": [
    {
     "name": "stdout",
     "output_type": "stream",
     "text": [
      "{1, 2, 3, 4, 5, 6, 7, 8, 9, 10, 11, 12}\n"
     ]
    }
   ],
   "source": [
    "s.update({11,12})    #adds another set also\n",
    "print(s)"
   ]
  },
  {
   "cell_type": "code",
   "execution_count": 32,
   "id": "04c40ad1-c689-43dc-ae8a-32155db8c6f7",
   "metadata": {},
   "outputs": [
    {
     "name": "stdout",
     "output_type": "stream",
     "text": [
      "{1, 2, 3, 4, 5, 6, 7, 8, 9, 10, 11, 12, 'r', 'm', 'a', 'y'}\n"
     ]
    }
   ],
   "source": [
    "s.update('maryam')   #considers all elements of strings as individuals\n",
    "print(s)"
   ]
  },
  {
   "cell_type": "code",
   "execution_count": 34,
   "id": "fc592eb5-9d5e-4d82-8655-93cd595aeed7",
   "metadata": {},
   "outputs": [
    {
     "name": "stdout",
     "output_type": "stream",
     "text": [
      "{1, 2, 3, 4, 5, 6, 7, 8, 9, 10, 11, 12, 'r', 'm', 'maryam', 'a', 'y'}\n"
     ]
    }
   ],
   "source": [
    "s.update(['maryam'])   #prints string collectively only when it is entered in a list\n",
    "print(s)"
   ]
  },
  {
   "cell_type": "code",
   "execution_count": 36,
   "id": "91fdf339-89c6-4821-a740-1766dc529c8f",
   "metadata": {},
   "outputs": [
    {
     "name": "stdout",
     "output_type": "stream",
     "text": [
      "{'a', 'r', 'm', 'y'}\n"
     ]
    }
   ],
   "source": [
    "name = {'m','a','r','y','a','m'}\n",
    "print(name)"
   ]
  },
  {
   "cell_type": "code",
   "execution_count": 38,
   "id": "75b7a79a-6cbe-4304-a906-7e09d9d70d21",
   "metadata": {},
   "outputs": [
    {
     "name": "stdout",
     "output_type": "stream",
     "text": [
      "{2, 6, 'r', 'm', 'a', 'y'}\n"
     ]
    }
   ],
   "source": [
    "name.update([6,2])\n",
    "print(name)"
   ]
  },
  {
   "cell_type": "code",
   "execution_count": 40,
   "id": "6d620dfb-9698-4c76-8e07-d754ab34a4c1",
   "metadata": {},
   "outputs": [
    {
     "name": "stdout",
     "output_type": "stream",
     "text": [
      "{2, 3, 4, 5, 6, 7, 8, 9, 10, 11, 12, 'r', 'm', 'maryam', 'a', 'y'}\n"
     ]
    }
   ],
   "source": [
    "s.pop()  #here pop starts deleting from the first item\n",
    "print(s)"
   ]
  },
  {
   "cell_type": "code",
   "execution_count": 42,
   "id": "3d579016-ded2-4a73-8e63-0e3bcecae0b8",
   "metadata": {},
   "outputs": [
    {
     "name": "stdout",
     "output_type": "stream",
     "text": [
      "{2, 3, 4, 6, 7, 8, 9, 10, 11, 12, 'r', 'm', 'maryam', 'a', 'y'}\n"
     ]
    }
   ],
   "source": [
    "s.remove(5)  #removes the assigned item\n",
    "print(s)"
   ]
  },
  {
   "cell_type": "code",
   "execution_count": 45,
   "id": "3a271746-b9a6-4064-b378-0cd2561a8a10",
   "metadata": {},
   "outputs": [
    {
     "name": "stdout",
     "output_type": "stream",
     "text": [
      "{2, 3, 4, 6, 7, 8, 9, 11, 12, 'r', 'm', 'maryam', 'a', 'y'}\n"
     ]
    }
   ],
   "source": [
    "s.discard(10)\n",
    "print(s)"
   ]
  },
  {
   "cell_type": "code",
   "execution_count": 47,
   "id": "b7586def-8dff-4d33-bf73-4486922d06ac",
   "metadata": {},
   "outputs": [],
   "source": [
    "#del s[2]\n",
    "#generates error as it doesnot support indexing"
   ]
  },
  {
   "cell_type": "code",
   "execution_count": 49,
   "id": "aa21caaf-5b12-4714-9b74-dc3b692dfcd7",
   "metadata": {},
   "outputs": [
    {
     "name": "stdout",
     "output_type": "stream",
     "text": [
      "set()\n"
     ]
    }
   ],
   "source": [
    "#Vlearing the entire set\n",
    "s.clear()\n",
    "print(s)"
   ]
  },
  {
   "cell_type": "markdown",
   "id": "1d4e0479-0ccf-4ae9-838f-8c7e3193ae8a",
   "metadata": {},
   "source": [
    "### operations in a set"
   ]
  },
  {
   "cell_type": "code",
   "execution_count": 62,
   "id": "e73d9dde-2b13-488e-9335-27e070f4ae24",
   "metadata": {},
   "outputs": [
    {
     "name": "stdout",
     "output_type": "stream",
     "text": [
      "{2, 3, 4, 5, 6, 10, 12, 13}\n"
     ]
    }
   ],
   "source": [
    "#union (represented by |\n",
    "s3 = {3,2,4,5,6}\n",
    "s4 = {3,4,5,10,12,13}\n",
    "print(s3 | s4)"
   ]
  },
  {
   "cell_type": "code",
   "execution_count": 54,
   "id": "32b48e7b-95e2-4960-a56a-ba4680a9097f",
   "metadata": {},
   "outputs": [
    {
     "name": "stdout",
     "output_type": "stream",
     "text": [
      "{3, 4, 5}\n"
     ]
    }
   ],
   "source": [
    "#intersection (&)\n",
    "print(s3 & s4)"
   ]
  },
  {
   "cell_type": "code",
   "execution_count": 66,
   "id": "6480475f-01e1-4474-a8fb-5ed98f9fa090",
   "metadata": {},
   "outputs": [
    {
     "name": "stdout",
     "output_type": "stream",
     "text": [
      "{2, 6}\n",
      "{10, 12, 13}\n"
     ]
    }
   ],
   "source": [
    "#difference (-)   prints uncommon items of the first mentioned set\n",
    "print(s3-s4)\n",
    "print(s4-s3)"
   ]
  },
  {
   "cell_type": "code",
   "execution_count": 77,
   "id": "483888bf-aa76-489f-81f7-d15bc52e884c",
   "metadata": {},
   "outputs": [
    {
     "name": "stdout",
     "output_type": "stream",
     "text": [
      "{2, 6, 10, 12, 13}\n",
      "{2, 6, 10, 12, 13}\n"
     ]
    }
   ],
   "source": [
    "#symmetri difference (^)  prints the uncommon elements of both sets\n",
    "print(s3^s4)\n",
    "print(s4^s3)"
   ]
  },
  {
   "cell_type": "code",
   "execution_count": 79,
   "id": "dab95e64-a4eb-439f-98cc-1354ae6462b0",
   "metadata": {},
   "outputs": [
    {
     "data": {
      "text/plain": [
       "True"
      ]
     },
     "execution_count": 79,
     "metadata": {},
     "output_type": "execute_result"
    }
   ],
   "source": [
    "#membership\n",
    "3 in s3"
   ]
  },
  {
   "cell_type": "code",
   "execution_count": 87,
   "id": "b110725e-88f6-4abf-ad45-a05202aa33bf",
   "metadata": {},
   "outputs": [
    {
     "name": "stdout",
     "output_type": "stream",
     "text": [
      "{1, 2, 3, 4, 5, 6}\n",
      "{1, 2, 3, 4, 5, 6}\n"
     ]
    }
   ],
   "source": [
    "#difference between remove and discard\n",
    "s = {1,2,3,4,5,6}\n",
    "print(s)\n",
    "\n",
    "#s.remove(8)\n",
    "#print(s)\n",
    "\n",
    "s.discard(8)\n",
    "print(s)"
   ]
  },
  {
   "cell_type": "code",
   "execution_count": 93,
   "id": "194953d0-62b3-4b58-84df-cc001a4f08a2",
   "metadata": {},
   "outputs": [
    {
     "name": "stdout",
     "output_type": "stream",
     "text": [
      "6\n",
      "21\n",
      "1\n",
      "6\n",
      "[6, 5, 4, 3, 2, 1]\n"
     ]
    }
   ],
   "source": [
    "print(len(s))\n",
    "print(sum(s))\n",
    "print(min(s))\n",
    "print(max(s))\n",
    "print(sorted(s, reverse = True))"
   ]
  },
  {
   "cell_type": "code",
   "execution_count": 97,
   "id": "ebfd2d81-2837-4314-acbd-8d414011bdbe",
   "metadata": {},
   "outputs": [
    {
     "name": "stdout",
     "output_type": "stream",
     "text": [
      "{2, 3, 4, 5, 6}\n",
      "{3, 4, 5, 10, 12, 13}\n"
     ]
    }
   ],
   "source": [
    "#check again\n",
    "#union and update \n",
    "s3.union(s4)\n",
    "print(s3)\n",
    "\n",
    "s3.update(s4)\n",
    "print(s4)"
   ]
  },
  {
   "cell_type": "code",
   "execution_count": 105,
   "id": "cd4d7c6a-791e-4e72-bd41-3bc77c5d04d5",
   "metadata": {},
   "outputs": [
    {
     "name": "stdout",
     "output_type": "stream",
     "text": [
      "True\n",
      "True\n"
     ]
    }
   ],
   "source": [
    "#superset and subset\n",
    "s1 = {1,2,3,4,5}\n",
    "s2 = {3,4,5}\n",
    "print(s1.issuperset(s2))\n",
    "print(s2.issubset(s1))"
   ]
  },
  {
   "cell_type": "code",
   "execution_count": 109,
   "id": "367197bf-7500-4caa-9c27-20d6659903a3",
   "metadata": {},
   "outputs": [
    {
     "name": "stdout",
     "output_type": "stream",
     "text": [
      "{1, 2, 3, 4, 5}\n"
     ]
    }
   ],
   "source": [
    "s1 = {1,2,3,4}\n",
    "s2 = {5,6,7,8}\n",
    "s1.isdisjoint(s2)\n",
    "s1.add(5)\n",
    "print(s1)"
   ]
  },
  {
   "cell_type": "code",
   "execution_count": 117,
   "id": "e15024d3-76a6-442f-9691-2b8eb98dc176",
   "metadata": {},
   "outputs": [
    {
     "data": {
      "text/plain": [
       "frozenset({1, 2, 3, 4, 5})"
      ]
     },
     "execution_count": 117,
     "metadata": {},
     "output_type": "execute_result"
    }
   ],
   "source": [
    "#frozen set: transforms mutable set to immutable(unchangeable) and then acts as a tuple\n",
    "fs1 = frozenset({1,2,3})\n",
    "fs2 = frozenset({3,4,5})\n",
    "#frozenset only works with frozenset and not others\n",
    "fs1|fs2\n"
   ]
  },
  {
   "cell_type": "code",
   "execution_count": 119,
   "id": "a22beba1-fcde-4dea-bafd-347cf6523832",
   "metadata": {},
   "outputs": [
    {
     "data": {
      "text/plain": [
       "frozenset({1, 2, 3, 4, 5})"
      ]
     },
     "execution_count": 119,
     "metadata": {},
     "output_type": "execute_result"
    }
   ],
   "source": [
    "fs1|s1"
   ]
  },
  {
   "cell_type": "code",
   "execution_count": null,
   "id": "8bd23c09-2fb0-4dab-8ce7-9e16e49abef3",
   "metadata": {},
   "outputs": [],
   "source": []
  }
 ],
 "metadata": {
  "kernelspec": {
   "display_name": "Python 3 (ipykernel)",
   "language": "python",
   "name": "python3"
  },
  "language_info": {
   "codemirror_mode": {
    "name": "ipython",
    "version": 3
   },
   "file_extension": ".py",
   "mimetype": "text/x-python",
   "name": "python",
   "nbconvert_exporter": "python",
   "pygments_lexer": "ipython3",
   "version": "3.12.4"
  }
 },
 "nbformat": 4,
 "nbformat_minor": 5
}
