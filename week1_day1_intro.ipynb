{
 "cells": [
  {
   "cell_type": "code",
   "execution_count": 1,
   "id": "657124bc-86a6-440b-b137-243471b11731",
   "metadata": {},
   "outputs": [
    {
     "name": "stdout",
     "output_type": "stream",
     "text": [
      "maryamwajahat\n"
     ]
    }
   ],
   "source": [
    "#printing both variables in same line\n",
    "name1 = \"maryam\"\n",
    "name2 = \"wajahat\"\n",
    "print(name1 + name2)"
   ]
  },
  {
   "cell_type": "code",
   "execution_count": 7,
   "id": "9378dd00-d7ec-49e9-9432-e08951ee323f",
   "metadata": {},
   "outputs": [
    {
     "name": "stdout",
     "output_type": "stream",
     "text": [
      "maryam wajahat\n",
      "maryam wajahat\n"
     ]
    }
   ],
   "source": [
    "#adding spae to the above code\n",
    "name1 = \"maryam\"\n",
    "name2 = \"wajahat\"\n",
    "print(name1+' '+name2)\n",
    "#or\n",
    "print(name1, name2)"
   ]
  },
  {
   "cell_type": "code",
   "execution_count": 9,
   "id": "03107826-3fd6-4741-9f57-99a8a3d09f32",
   "metadata": {},
   "outputs": [
    {
     "data": {
      "text/plain": [
       "4"
      ]
     },
     "execution_count": 9,
     "metadata": {},
     "output_type": "execute_result"
    }
   ],
   "source": [
    "2+2"
   ]
  },
  {
   "cell_type": "code",
   "execution_count": 11,
   "id": "a1c2929e-187d-4973-afff-07badaa6ad6c",
   "metadata": {},
   "outputs": [
    {
     "name": "stdout",
     "output_type": "stream",
     "text": [
      "4\n"
     ]
    }
   ],
   "source": [
    "print(2+2)"
   ]
  },
  {
   "cell_type": "code",
   "execution_count": 19,
   "id": "b6daf06a-b1fb-4abf-9256-4f1c8292946d",
   "metadata": {},
   "outputs": [
    {
     "name": "stdout",
     "output_type": "stream",
     "text": [
      "mass = 4 kg\n",
      "acceleration = 8.6 m/s2\n",
      "force = 34.4\n",
      "data type of mass <class 'int'>\n",
      "data type of acc <class 'float'>\n",
      "data type of force <class 'float'>\n"
     ]
    }
   ],
   "source": [
    "#calculating force when mass=4kg and acc=8m/s2\n",
    "mass = 4\n",
    "print(\"mass =\", mass, \"kg\")\n",
    "acc = 8.6\n",
    "print(\"acceleration =\", acc, \"m/s2\")\n",
    "force = mass * acc\n",
    "print(\"force =\", force)\n",
    "#finding data types\n",
    "print(\"data type of mass\", type(mass))\n",
    "print(\"data type of acc\", type(acc))\n",
    "print(\"data type of force\", type(force))"
   ]
  },
  {
   "cell_type": "code",
   "execution_count": 23,
   "id": "c31fa867-72d3-4ef9-b16e-9a8b3b6bbf01",
   "metadata": {},
   "outputs": [
    {
     "name": "stdout",
     "output_type": "stream",
     "text": [
      "==============PROFILE===========\n",
      "NAME: Maryam Wajahat\n",
      "AGE: 23\n",
      "GENDER: female\n",
      "DESIGNATION:   \n",
      "OccIPATION:   \n",
      "EDUcATION:   \n",
      "ORGANIZATION:   \n",
      "====================================\n"
     ]
    }
   ],
   "source": [
    "#generating profile\n",
    "profile = \"==============PROFILE===========\"\n",
    "name = \"Maryam Wajahat\"\n",
    "age = 23\n",
    "gender = \"female\"\n",
    "designation = \"  \"\n",
    "occupation = \"  \"\n",
    "education = \"  \"\n",
    "organization = \"  \"\n",
    "end = \"====================================\"\n",
    "#printing profile\n",
    "print(profile)\n",
    "print(\"NAME:\", name)\n",
    "print(\"AGE:\", age)\n",
    "print(\"GENDER:\", gender)\n",
    "print(\"DESIGNATION:\", designation)\n",
    "print(\"OccIPATION:\", occupation)\n",
    "print(\"EDUcATION:\", education)\n",
    "print(\"ORGANIZATION:\", organization)\n",
    "print(end)"
   ]
  },
  {
   "cell_type": "code",
   "execution_count": null,
   "id": "2d028c24-29ec-457b-b60e-703cccd3d684",
   "metadata": {},
   "outputs": [],
   "source": []
  }
 ],
 "metadata": {
  "kernelspec": {
   "display_name": "Python 3 (ipykernel)",
   "language": "python",
   "name": "python3"
  },
  "language_info": {
   "codemirror_mode": {
    "name": "ipython",
    "version": 3
   },
   "file_extension": ".py",
   "mimetype": "text/x-python",
   "name": "python",
   "nbconvert_exporter": "python",
   "pygments_lexer": "ipython3",
   "version": "3.12.4"
  }
 },
 "nbformat": 4,
 "nbformat_minor": 5
}
