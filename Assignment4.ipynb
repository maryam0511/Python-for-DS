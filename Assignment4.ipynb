{
 "cells": [
  {
   "cell_type": "markdown",
   "id": "2b4b0c6d-756e-49f0-9f5c-31612936c14a",
   "metadata": {},
   "source": [
    "# LOOPS, LISTS, LIST FUNCTIONS & OPERATORS"
   ]
  },
  {
   "cell_type": "markdown",
   "id": "9fe0a147-a7bd-46fe-9358-5e8bafb13f0d",
   "metadata": {},
   "source": [
    "### Question 1"
   ]
  },
  {
   "cell_type": "code",
   "execution_count": 10,
   "id": "fd6993a4-2e80-4820-8a98-2094f881a1db",
   "metadata": {},
   "outputs": [
    {
     "name": "stdout",
     "output_type": "stream",
     "text": [
      "1\n",
      "2\n",
      "3\n",
      "4\n",
      "5\n",
      "6\n",
      "7\n",
      "8\n",
      "9\n",
      "10\n"
     ]
    }
   ],
   "source": [
    "# Printing numbers from 1 to 10 using for loop.\n",
    "for num in range(1,11):\n",
    "    print(num)"
   ]
  },
  {
   "cell_type": "markdown",
   "id": "6208d31e-b080-45d9-ad11-10f4aa43c2f4",
   "metadata": {},
   "source": [
    "### Question 2"
   ]
  },
  {
   "cell_type": "code",
   "execution_count": 8,
   "id": "6c9b9230-df8f-4618-9f45-dac801f635d2",
   "metadata": {},
   "outputs": [
    {
     "name": "stdout",
     "output_type": "stream",
     "text": [
      "1\n",
      "2\n",
      "3\n",
      "4\n",
      "5\n"
     ]
    }
   ],
   "source": [
    "# Create a list from 1 to 5 and using for loop print each element.\n",
    "num_list = [1,2,3,4,5]\n",
    "for num in num_list:\n",
    "    print(num)"
   ]
  },
  {
   "cell_type": "markdown",
   "id": "92fc9150-e69a-4050-af3a-394ce1006fcc",
   "metadata": {},
   "source": [
    "### Question 3"
   ]
  },
  {
   "cell_type": "code",
   "execution_count": 89,
   "id": "74d81ac7-f9b2-470d-bc6b-155410cb2060",
   "metadata": {},
   "outputs": [
    {
     "data": {
      "text/plain": [
       "31"
      ]
     },
     "execution_count": 89,
     "metadata": {},
     "output_type": "execute_result"
    }
   ],
   "source": [
    "#Takes a list of numbers and returns the sum of all numbers\n",
    "def sum():\n",
    "    sum = 0\n",
    "    for num in num_list:\n",
    "        sum = sum+num\n",
    "    return sum\n",
    "num_list=[5,6,2,8,10]\n",
    "sum()"
   ]
  },
  {
   "cell_type": "markdown",
   "id": "0a09e93f-3945-4da5-9c86-0db682417e21",
   "metadata": {},
   "source": [
    "### Question 4"
   ]
  },
  {
   "cell_type": "code",
   "execution_count": 29,
   "id": "1b82fb16-376c-454a-8a9b-ae9e2bbf6723",
   "metadata": {},
   "outputs": [
    {
     "name": "stdout",
     "output_type": "stream",
     "text": [
      "maryam\n"
     ]
    }
   ],
   "source": [
    "#Given a list of strings. Write a program to concatenate all the strings.\n",
    "str_list = ['m','a','r','y','a','m']\n",
    "a,b,c,d,e,f = str_list\n",
    "result = a+b+c+d+e+f\n",
    "print(result)"
   ]
  },
  {
   "cell_type": "markdown",
   "id": "b2bcd289-9baf-4697-85e9-4c54a16b9b05",
   "metadata": {},
   "source": [
    "### Question 5"
   ]
  },
  {
   "cell_type": "code",
   "execution_count": 34,
   "id": "7d61a104-7366-4b15-aa8e-c38859ad8283",
   "metadata": {},
   "outputs": [
    {
     "name": "stdout",
     "output_type": "stream",
     "text": [
      "The largest number in the list is: 77\n"
     ]
    }
   ],
   "source": [
    "#Returns largest number in the list\n",
    "num_list = [23,64,77,31,65]\n",
    "maximum = max(num_list)\n",
    "print(\"The largest number in the list is:\",maximum)"
   ]
  },
  {
   "cell_type": "markdown",
   "id": "3df831f9-e998-4717-8496-222b2de3989f",
   "metadata": {},
   "source": [
    "### Question 6"
   ]
  },
  {
   "cell_type": "code",
   "execution_count": 48,
   "id": "18387ef5-857d-4d92-9b2b-44fc3bce082a",
   "metadata": {},
   "outputs": [
    {
     "name": "stdout",
     "output_type": "stream",
     "text": [
      "The square of 1 is: 1\n",
      "The square of 2 is: 4\n",
      "The square of 3 is: 9\n",
      "The square of 4 is: 16\n",
      "The square of 5 is: 25\n",
      "The square of 6 is: 36\n",
      "The square of 7 is: 49\n",
      "The square of 8 is: 64\n",
      "The square of 9 is: 81\n",
      "The square of 10 is: 100\n"
     ]
    }
   ],
   "source": [
    "# create a list from 1 to 10 and using for loop print the square of each number.\n",
    "num_list = [1,2,3,4,5,6,7,8,9,10]\n",
    "for num in num_list:\n",
    "    print(\"The square of\",num,\"is:\",num**2)"
   ]
  },
  {
   "cell_type": "code",
   "execution_count": 68,
   "id": "8f236a19-912e-43de-ba57-c624ddb66b33",
   "metadata": {},
   "outputs": [
    {
     "name": "stdout",
     "output_type": "stream",
     "text": [
      "Original list: [1, 2, 3, 4, 5, 6, 7, 8, 9, 10]\n",
      "Squares: [1, 4, 9, 16, 25, 36, 49, 64, 81, 100]\n"
     ]
    }
   ],
   "source": [
    "num_list = [1,2,3,4,5,6,7,8,9,10]\n",
    "square_list = []\n",
    "for num in num_list:\n",
    "    square_list.append(num**2)\n",
    "\n",
    "print(\"Original list:\",num_list)\n",
    "print(\"Squares:\",square_list)"
   ]
  },
  {
   "cell_type": "markdown",
   "id": "6f7dbbdd-d13d-424c-8bed-10e0b5eb403f",
   "metadata": {},
   "source": [
    "### Question 7"
   ]
  },
  {
   "cell_type": "code",
   "execution_count": 66,
   "id": "2907ceed-c262-450e-8d1f-d93d5d95b39f",
   "metadata": {},
   "outputs": [
    {
     "name": "stdout",
     "output_type": "stream",
     "text": [
      "Even numbers are:\n",
      "[2, 4, 6, 8, 10]\n"
     ]
    }
   ],
   "source": [
    "#take a list of numbers and return a list containing only even numbers\n",
    "num_list = [1,2,3,4,5,6,7,8,9,10]\n",
    "even_list = []\n",
    "for num in num_list:\n",
    "    if num%2==0:\n",
    "        even_list.append(num) \n",
    "print(\"Even numbers are:\")\n",
    "print(even_list)        "
   ]
  },
  {
   "cell_type": "markdown",
   "id": "63ad313e-a333-4f59-96ad-43225ae121ca",
   "metadata": {},
   "source": [
    "### Question 8"
   ]
  },
  {
   "cell_type": "code",
   "execution_count": 79,
   "id": "52dd1df8-3700-40a6-a2a6-86db0f4916bc",
   "metadata": {},
   "outputs": [
    {
     "name": "stdout",
     "output_type": "stream",
     "text": [
      "[7, 9, 11, 13, 15]\n"
     ]
    }
   ],
   "source": [
    "#Given two lists of numbers, write a program to combine the lists element-wise (i.e., element-wise addition).\n",
    "list1 = [1,2,3,4,5]\n",
    "list2 = [6,7,8,9,10]\n",
    "combined = []\n",
    "for i in range(len(list1)):\n",
    "    combined.append(list1[i]+list2[i])\n",
    "print(combined)"
   ]
  },
  {
   "cell_type": "markdown",
   "id": "b364e365-d237-40d6-819e-0df5fd70f033",
   "metadata": {},
   "source": [
    "### Question 9"
   ]
  },
  {
   "cell_type": "code",
   "execution_count": 86,
   "id": "6e69602f-8282-4bc7-a42e-2cf991dc2802",
   "metadata": {},
   "outputs": [
    {
     "name": "stdout",
     "output_type": "stream",
     "text": [
      "Lenght of countries: [8, 5, 6, 7, 7]\n"
     ]
    }
   ],
   "source": [
    "#Take a list of strings and return a new list containiing length of each string.\n",
    "countries = [\"Pakistan\",\"India\",\"Turkey\",\"America\",\"Germany\"]\n",
    "length = []\n",
    "for country in countries:\n",
    "    length.append(len(country))\n",
    "print(\"Lenght of countries:\",length)"
   ]
  },
  {
   "cell_type": "markdown",
   "id": "3211dca4-ae6e-499a-b3c3-f15663300d9a",
   "metadata": {},
   "source": [
    "### Question 10"
   ]
  },
  {
   "cell_type": "code",
   "execution_count": 98,
   "id": "793eb2aa-1374-4e62-9423-fe10e998cd2a",
   "metadata": {},
   "outputs": [
    {
     "name": "stdout",
     "output_type": "stream",
     "text": [
      "1\n",
      "3\n",
      "5\n",
      "7\n",
      "9\n"
     ]
    }
   ],
   "source": [
    "#create a list of numbers from 1 to 10 and print every second element of the list\n",
    "num_list = [1,2,3,4,5,6,7,8,9,10]\n",
    "for num in num_list[0: :2]:\n",
    "    print(num)"
   ]
  }
 ],
 "metadata": {
  "kernelspec": {
   "display_name": "Python 3 (ipykernel)",
   "language": "python",
   "name": "python3"
  },
  "language_info": {
   "codemirror_mode": {
    "name": "ipython",
    "version": 3
   },
   "file_extension": ".py",
   "mimetype": "text/x-python",
   "name": "python",
   "nbconvert_exporter": "python",
   "pygments_lexer": "ipython3",
   "version": "3.12.4"
  }
 },
 "nbformat": 4,
 "nbformat_minor": 5
}
