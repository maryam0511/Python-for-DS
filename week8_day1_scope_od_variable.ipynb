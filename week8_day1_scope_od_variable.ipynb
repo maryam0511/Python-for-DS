{
 "cells": [
  {
   "cell_type": "markdown",
   "id": "3f32a55e-3b46-4be0-92c8-c5aa9eaaecea",
   "metadata": {
    "editable": true,
    "slideshow": {
     "slide_type": ""
    },
    "tags": []
   },
   "source": [
    "### calculator"
   ]
  },
  {
   "cell_type": "code",
   "execution_count": 10,
   "id": "f795c145-fb04-4ca2-b728-d2646e97a2b7",
   "metadata": {},
   "outputs": [
    {
     "name": "stdin",
     "output_type": "stream",
     "text": [
      "Enter 1st number: 5\n",
      "Enter 2nd number: 5\n"
     ]
    },
    {
     "name": "stdout",
     "output_type": "stream",
     "text": [
      "Number 1: 5.0\n",
      "Number 2: 5.0\n",
      "Sum of the two numbers: 10.0\n"
     ]
    }
   ],
   "source": [
    "def add():\n",
    "    print(\"Number 1:\",num1)\n",
    "    print(\"Number 2:\",num2)\n",
    "    sum = num1+num2\n",
    "    print(\"Sum of the two numbers:\",sum)\n",
    "\n",
    "num1 = float(input(\"Enter 1st number:\"))\n",
    "num2 = float(input(\"Enter 2nd number:\"))\n",
    "add()"
   ]
  },
  {
   "cell_type": "code",
   "execution_count": 12,
   "id": "39f55896-68c6-4172-b719-3729aba041e3",
   "metadata": {},
   "outputs": [
    {
     "name": "stdin",
     "output_type": "stream",
     "text": [
      "Enter 1st number: 5\n",
      "Enter 2nd number: 5\n"
     ]
    },
    {
     "name": "stdout",
     "output_type": "stream",
     "text": [
      "Number 1: 5.0\n",
      "Number 2: 5.0\n",
      "Product of the two numbers: 25.0\n"
     ]
    }
   ],
   "source": [
    "def product():\n",
    "    print(\"Number 1:\",num1)\n",
    "    print(\"Number 2:\",num2)\n",
    "    product = num1*num2\n",
    "    print(\"Product of the two numbers:\",product)\n",
    "\n",
    "num1 = float(input(\"Enter 1st number:\"))\n",
    "num2 = float(input(\"Enter 2nd number:\"))\n",
    "product()"
   ]
  },
  {
   "cell_type": "code",
   "execution_count": 16,
   "id": "2f11dd4a-9a81-474b-bb38-05ac8f7ab602",
   "metadata": {},
   "outputs": [
    {
     "name": "stdin",
     "output_type": "stream",
     "text": [
      "Enter 1st number: 7\n",
      "Enter 2nd number: 2\n"
     ]
    },
    {
     "name": "stdout",
     "output_type": "stream",
     "text": [
      "Number 1: 7.0\n",
      "Number 2: 2.0\n",
      "Difference of the two numbers: 5.0\n"
     ]
    }
   ],
   "source": [
    "def subtract():\n",
    "    print(\"Number 1:\",num1)\n",
    "    print(\"Number 2:\",num2)\n",
    "    subtract = num1-num2\n",
    "    print(\"Difference of the two numbers:\",subtract)\n",
    "\n",
    "num1 = float(input(\"Enter 1st number:\"))\n",
    "num2 = float(input(\"Enter 2nd number:\"))\n",
    "subtract()"
   ]
  },
  {
   "cell_type": "code",
   "execution_count": 18,
   "id": "0f0061ee-0faa-44c3-b779-c05485969b77",
   "metadata": {},
   "outputs": [
    {
     "name": "stdin",
     "output_type": "stream",
     "text": [
      "Enter 1st number: 10\n",
      "Enter 2nd number: 2\n"
     ]
    },
    {
     "name": "stdout",
     "output_type": "stream",
     "text": [
      "Number 1: 10.0\n",
      "Number 2: 2.0\n",
      "Division of the two numbers: 5.0\n"
     ]
    }
   ],
   "source": [
    "def division():\n",
    "    print(\"Number 1:\",num1)\n",
    "    print(\"Number 2:\",num2)\n",
    "    div = num1/num2\n",
    "    print(\"Division of the two numbers:\",div)\n",
    "\n",
    "num1 = float(input(\"Enter 1st number:\"))\n",
    "num2 = float(input(\"Enter 2nd number:\"))\n",
    "division()"
   ]
  },
  {
   "cell_type": "code",
   "execution_count": 25,
   "id": "c1b9b597-11b0-466a-9875-059c23c53a69",
   "metadata": {},
   "outputs": [
    {
     "name": "stdin",
     "output_type": "stream",
     "text": [
      "Enter 1st integer: 5\n",
      "Enter 2nd integer: 5\n"
     ]
    },
    {
     "name": "stdout",
     "output_type": "stream",
     "text": [
      "Number 1: 5.0\n",
      "Number 2: 5.0\n",
      "Sum of the two numbers: 10.0\n",
      "None\n"
     ]
    }
   ],
   "source": [
    "num1 = float(input(\"Enter 1st integer:\"))\n",
    "num2 = float(input(\"Enter 2nd integer:\"))\n",
    "print(add())"
   ]
  },
  {
   "cell_type": "markdown",
   "id": "b1e31f84-993c-4003-a50f-16f36a7f445a",
   "metadata": {},
   "source": [
    "### scope of variables"
   ]
  },
  {
   "cell_type": "code",
   "execution_count": 28,
   "id": "1f5c9791-8101-45b2-bc99-25b534b0db90",
   "metadata": {},
   "outputs": [
    {
     "name": "stdout",
     "output_type": "stream",
     "text": [
      "5\n",
      "6\n",
      "5\n"
     ]
    }
   ],
   "source": [
    "def g(y):\n",
    "    print(x)\n",
    "    print(x+1)\n",
    "x=5\n",
    "g(x)\n",
    "print(x)"
   ]
  },
  {
   "cell_type": "code",
   "execution_count": 32,
   "id": "3b2e0559-6373-4a29-af72-1aa0cdd55043",
   "metadata": {},
   "outputs": [
    {
     "name": "stdout",
     "output_type": "stream",
     "text": [
      "2\n",
      "5\n"
     ]
    }
   ],
   "source": [
    "def f(y):\n",
    "    x = 1   #local value\n",
    "    x+=1\n",
    "    print(x)\n",
    "x=5    #global value\n",
    "f(x)\n",
    "print(x)"
   ]
  },
  {
   "cell_type": "code",
   "execution_count": 34,
   "id": "e90d3594-85ec-43c8-a3d7-d89523c9e061",
   "metadata": {},
   "outputs": [
    {
     "name": "stdout",
     "output_type": "stream",
     "text": [
      "2\n",
      "5\n"
     ]
    }
   ],
   "source": [
    "def f(y):\n",
    "    y = 1   #local value\n",
    "    y+=1\n",
    "    print(y)\n",
    "x=5    #global value\n",
    "f(x)\n",
    "print(x)"
   ]
  },
  {
   "cell_type": "code",
   "execution_count": 38,
   "id": "96afa4c8-f1a5-40e6-b3c1-3a5ee6ab380b",
   "metadata": {},
   "outputs": [
    {
     "name": "stdout",
     "output_type": "stream",
     "text": [
      "5\n"
     ]
    }
   ],
   "source": [
    "def h(x):\n",
    "    x+=1\n",
    "x=5\n",
    "h(x)\n",
    "print(x)"
   ]
  },
  {
   "cell_type": "code",
   "execution_count": 44,
   "id": "93b9252e-3e57-4c42-a0ef-906f09fd130c",
   "metadata": {},
   "outputs": [
    {
     "name": "stdout",
     "output_type": "stream",
     "text": [
      "in f(x): x= 4\n",
      "in mian program scope z= 4\n",
      "in main program scope x= 3\n"
     ]
    }
   ],
   "source": [
    "def f(x):\n",
    "    x=x+1\n",
    "    print(\"in f(x): x=\",x)\n",
    "    return x\n",
    "x=3\n",
    "z=f(x)\n",
    "print(\"in mian program scope z=\",z)\n",
    "print(\"in main program scope x=\",x)"
   ]
  },
  {
   "cell_type": "markdown",
   "id": "26ac344a-82fb-45ef-bfac-3cd69168dd48",
   "metadata": {},
   "source": [
    "### nested function"
   ]
  },
  {
   "cell_type": "code",
   "execution_count": 47,
   "id": "5755420f-600e-4605-9e0d-c33ed87c7ec0",
   "metadata": {},
   "outputs": [
    {
     "name": "stdout",
     "output_type": "stream",
     "text": [
      "<function num1.<locals>.num2 at 0x000001117B611EE0>\n",
      "50\n"
     ]
    }
   ],
   "source": [
    "def num1(x):\n",
    "    def num2(y):\n",
    "        return x*y\n",
    "    return num2\n",
    "\n",
    "res = num1(10)\n",
    "print(res)\n",
    "print(res(5))"
   ]
  },
  {
   "cell_type": "code",
   "execution_count": 53,
   "id": "64cbef74-4544-4e25-91ed-ffa1b3b92dcd",
   "metadata": {},
   "outputs": [
    {
     "name": "stdout",
     "output_type": "stream",
     "text": [
      "<function num1.<locals>.num2 at 0x0000011177532E80>\n",
      "8\n"
     ]
    }
   ],
   "source": [
    "def num1(x):\n",
    "    def num2(y):\n",
    "        return x**y\n",
    "    return num2\n",
    "\n",
    "res = num1(2)\n",
    "print(res)     #helps us assigning value to num 2\n",
    "print(res(3))"
   ]
  },
  {
   "cell_type": "code",
   "execution_count": 65,
   "id": "272b5423-5642-491a-b62b-87d0f3ea77c9",
   "metadata": {},
   "outputs": [
    {
     "name": "stdout",
     "output_type": "stream",
     "text": [
      "<function num1.<locals>.num2 at 0x000001117B613CE0>\n",
      "50\n",
      "20\n"
     ]
    }
   ],
   "source": [
    "def num1(x):\n",
    "    def num2(y):\n",
    "        return x*y\n",
    "    return num2\n",
    "    def num3(z):\n",
    "        return x*y*z\n",
    "    return num3\n",
    "\n",
    "res = num1(10)\n",
    "print(res)\n",
    "print(res(5))\n",
    "print(res(2))"
   ]
  },
  {
   "cell_type": "code",
   "execution_count": 69,
   "id": "203bd319-f00a-4ac1-aff3-338d36201431",
   "metadata": {},
   "outputs": [
    {
     "name": "stdout",
     "output_type": "stream",
     "text": [
      "<function num1.<locals>.num2 at 0x00000111774F3880>\n",
      "100\n"
     ]
    }
   ],
   "source": [
    "def num1(x):\n",
    "    def num2(y):\n",
    "        def num3(z):\n",
    "            return x*y*z\n",
    "        return num3\n",
    "    return num2\n",
    "\n",
    "res = num1(10)\n",
    "res1 = res(5)\n",
    "print(res)\n",
    "print(res1(2))"
   ]
  },
  {
   "cell_type": "code",
   "execution_count": 11,
   "id": "9fea2d9b-8ce8-4882-83fa-ee624b5b5f55",
   "metadata": {},
   "outputs": [
    {
     "name": "stdout",
     "output_type": "stream",
     "text": [
      "name1 name2 name3\n"
     ]
    }
   ],
   "source": [
    "def fname(x):\n",
    "    def mname(y):\n",
    "        def lname(z):\n",
    "            return x+\" \"+y+\" \"+z\n",
    "        return lname\n",
    "    return mname\n",
    "\n",
    "fullname = fname(\"name1\")\n",
    "lastname = fullname(\"name2\")\n",
    "print(lastname(\"name3\"))"
   ]
  },
  {
   "cell_type": "code",
   "execution_count": null,
   "id": "2685b43a-23e3-47e8-a04a-fff13ba22bbc",
   "metadata": {},
   "outputs": [],
   "source": []
  }
 ],
 "metadata": {
  "kernelspec": {
   "display_name": "Python 3 (ipykernel)",
   "language": "python",
   "name": "python3"
  },
  "language_info": {
   "codemirror_mode": {
    "name": "ipython",
    "version": 3
   },
   "file_extension": ".py",
   "mimetype": "text/x-python",
   "name": "python",
   "nbconvert_exporter": "python",
   "pygments_lexer": "ipython3",
   "version": "3.12.4"
  }
 },
 "nbformat": 4,
 "nbformat_minor": 5
}
