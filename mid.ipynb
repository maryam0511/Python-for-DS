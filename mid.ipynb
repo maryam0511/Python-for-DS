{
 "cells": [
  {
   "cell_type": "markdown",
   "id": "52e64421-111e-4f48-840c-a407c8bf754b",
   "metadata": {},
   "source": [
    "#### Name: Maryam Wajahat\n",
    "#### Profession: Student\n",
    "#### Organization: \n",
    "#### Contact No. : 0335-3551489\n",
    "#### Email: maryamwajahat00@gmail.com"
   ]
  },
  {
   "cell_type": "markdown",
   "id": "b50a3d4d-4e46-433f-b967-a0a51220a2e6",
   "metadata": {},
   "source": [
    "#### Question No. 1"
   ]
  },
  {
   "cell_type": "code",
   "execution_count": 9,
   "id": "f3e79c67-6bcf-474e-b3d7-5c9269c7de18",
   "metadata": {},
   "outputs": [
    {
     "name": "stdout",
     "output_type": "stream",
     "text": [
      "['apple', 'banana', 'cherry', 'date', 'elderberry']\n",
      "['apple', 'cherry', 'date', 'elderberry']\n",
      "['apple', 'cherry', 'elderberry']\n"
     ]
    }
   ],
   "source": [
    "fruits = ['apple','banana','cherry','date']\n",
    "# (a)\n",
    "fruits.append('elderberry')\n",
    "print(fruits)\n",
    "#(b)\n",
    "fruits.remove('banana')\n",
    "print(fruits)\n",
    "#(c)\n",
    "fruits.pop(2)\n",
    "print(fruits)"
   ]
  },
  {
   "cell_type": "markdown",
   "id": "7aff05cb-55e9-4e8f-a78d-0f69ae4cb4c5",
   "metadata": {},
   "source": [
    "#### Question No.2"
   ]
  },
  {
   "cell_type": "code",
   "execution_count": 13,
   "id": "02309d2e-5ae0-472b-9caa-64450b97e3c1",
   "metadata": {},
   "outputs": [
    {
     "name": "stdin",
     "output_type": "stream",
     "text": [
      "Please enter your name: Maryam\n",
      "Please enter your age: 24\n"
     ]
    },
    {
     "name": "stdout",
     "output_type": "stream",
     "text": [
      "Hello Maryam you are 24 years old.\n"
     ]
    }
   ],
   "source": [
    "name = input(\"Please enter your name:\")\n",
    "age = input(\"Please enter your age:\")\n",
    "print(\"Hello\",name,\"you are\",age,\"years old.\")"
   ]
  },
  {
   "cell_type": "markdown",
   "id": "3062ef9d-8858-4ada-93f2-9906363d986f",
   "metadata": {},
   "source": [
    "#### Question No. 3"
   ]
  },
  {
   "cell_type": "code",
   "execution_count": 24,
   "id": "905ca4f9-98a1-4a2a-b99c-e9dd4758b03d",
   "metadata": {},
   "outputs": [
    {
     "name": "stdin",
     "output_type": "stream",
     "text": [
      "Please enter an integer: 5\n"
     ]
    },
    {
     "name": "stdout",
     "output_type": "stream",
     "text": [
      "This is a positive integer.\n"
     ]
    }
   ],
   "source": [
    "number = float(input(\"Please enter an integer:\"))\n",
    "\n",
    "if number>0:\n",
    "    print(\"This is a positive integer.\")\n",
    "elif number==0:\n",
    "    print(\"This is zero.\")\n",
    "elif number<0:\n",
    "    print(\"This is a negative integer.\")\n",
    "else:\n",
    "    print(\"Invalid input\")\n"
   ]
  },
  {
   "cell_type": "markdown",
   "id": "f1cd57d4-8c4d-4040-a879-83948a918238",
   "metadata": {},
   "source": [
    "#### Question No. 5"
   ]
  },
  {
   "cell_type": "code",
   "execution_count": 31,
   "id": "3e316049-703b-4044-88b4-8494374c354a",
   "metadata": {},
   "outputs": [
    {
     "name": "stdout",
     "output_type": "stream",
     "text": [
      "Area of circle: 176.73749999999998\n",
      "circumference of circle: 47.129999999999995\n"
     ]
    },
    {
     "name": "stdin",
     "output_type": "stream",
     "text": [
      "Please enter the diameter of circle: 10\n"
     ]
    },
    {
     "name": "stdout",
     "output_type": "stream",
     "text": [
      "area of circle is: 78.55\n"
     ]
    }
   ],
   "source": [
    "diameter = 15\n",
    "radius = diameter/2\n",
    "#(a)\n",
    "area_of_circle = (3.142)*radius**2\n",
    "print(\"Area of circle:\",area_of_circle)\n",
    "#(b)\n",
    "circum_of_circle = 2*(3.142)*radius\n",
    "print(\"circumference of circle:\", circum_of_circle)\n",
    "#(c)\n",
    "input_diameter = float(input(\"Please enter the diameter of circle:\"))\n",
    "radius = input_diameter/2\n",
    "area_of_circle = (3.142)*radius**2\n",
    "print(\"area of circle is:\",area_of_circle)"
   ]
  },
  {
   "cell_type": "markdown",
   "id": "7af03d17-9ca3-443f-a0f7-8af95788f311",
   "metadata": {},
   "source": [
    "#### Question No. 6"
   ]
  },
  {
   "cell_type": "code",
   "execution_count": 36,
   "id": "bb4dbfdb-fb58-44b2-924b-4de907730709",
   "metadata": {},
   "outputs": [
    {
     "name": "stdout",
     "output_type": "stream",
     "text": [
      "profit generated: 800\n"
     ]
    }
   ],
   "source": [
    "cost_of_flying = 5000\n",
    "total_passengers = 29\n",
    "price_per_ticket = 200\n",
    "revenue = total_passengers*price_per_ticket\n",
    "profit = revenue - cost_of_flying\n",
    "print(\"profit generated:\", profit)"
   ]
  },
  {
   "cell_type": "markdown",
   "id": "0bf79d81-3e5f-4bcb-8e6d-a1f2dd60bac0",
   "metadata": {},
   "source": [
    "#### Question No.7"
   ]
  },
  {
   "cell_type": "code",
   "execution_count": 5,
   "id": "5ceeda6d-c6d4-4af5-8a74-23aca9c9e7c1",
   "metadata": {},
   "outputs": [
    {
     "name": "stdin",
     "output_type": "stream",
     "text": [
      "Please enter 1st integer: 5\n",
      "Please enter 2nd integer: 0\n",
      "\n",
      "1 Addition\n",
      "2 Subtraction\n",
      "3 Multiplication\n",
      "4 Factorial\n",
      "5 Division\n",
      "6 Exponentiation (Power)\n",
      "7 Square Root\n",
      " 5\n"
     ]
    },
    {
     "name": "stdout",
     "output_type": "stream",
     "text": [
      "2nd number should not be 0\n"
     ]
    }
   ],
   "source": [
    "import math\n",
    "num1 = float(input(\"Please enter 1st integer:\"))\n",
    "num2 = float(input(\"Please enter 2nd integer:\"))\n",
    "option = input('''\n",
    "1 Addition\n",
    "2 Subtraction\n",
    "3 Multiplication\n",
    "4 Factorial\n",
    "5 Division\n",
    "6 Exponentiation (Power)\n",
    "7 Square Root\n",
    "''')\n",
    "\n",
    "if option=='1':\n",
    "    print(num1,\"+\",num2,\"=\",num1+num2)\n",
    "elif option=='2':\n",
    "    print(num1,\"-\",num2,\"=\",num1-num2)\n",
    "elif option=='3':\n",
    "    print(num1,\"*\",num2,\"=\",num1*num2)\n",
    "elif option=='4':\n",
    "    print(num1,\"!\",num2,\"=\")\n",
    "elif option=='5':\n",
    "    if num2==0:\n",
    "        print(\"2nd number should not be 0\")\n",
    "    else:\n",
    "        print(num1,\"/\",num2,\"=\",num1/num2)\n",
    "elif option=='6':\n",
    "    print(num1,\"**\",num2,\"=\",num1**num2)\n",
    "elif option=='7':\n",
    "    if num1>=0 and num2>=0:\n",
    "        print(\"square root of 1st integer:\",sqrt(num1))\n",
    "        print(\"square root of 2nd integer:\", sqrt(num2))\n",
    "    else:\n",
    "        print(\"both integers should be positive\")\n",
    "else:\n",
    "    print(\"Invalid option\")"
   ]
  },
  {
   "cell_type": "markdown",
   "id": "b16a36d6-e79a-4f9a-a98b-7073cc5d7ab6",
   "metadata": {},
   "source": [
    "#### Question No. 8"
   ]
  },
  {
   "cell_type": "code",
   "execution_count": 16,
   "id": "b91146b4-9040-403f-81e8-442ad597872f",
   "metadata": {},
   "outputs": [
    {
     "name": "stdin",
     "output_type": "stream",
     "text": [
      "Please enter your username: ahmed@gmail.com\n",
      "Please enter your password: ahmed\n"
     ]
    },
    {
     "name": "stdout",
     "output_type": "stream",
     "text": [
      "Invalid credentials. Please try again.\n"
     ]
    },
    {
     "name": "stdin",
     "output_type": "stream",
     "text": [
      "Please enter your username: ahmed@gmail.com\n",
      "Please enter your password ahmed@321\n"
     ]
    },
    {
     "name": "stdout",
     "output_type": "stream",
     "text": [
      "welcome\n"
     ]
    }
   ],
   "source": [
    "username = \"ahmed@gmail.com\"\n",
    "password = \"ahmed@321\"\n",
    "\n",
    "input_username = str(input(\"Please enter your username:\"))\n",
    "if '@' not in input_username:\n",
    "    print(\"invalid email address\")\n",
    "else:\n",
    "    input_password = str(input(\"Please enter your password:\"))\n",
    "    if input_username == username and input_password == password:\n",
    "        print(\"Welcome\")\n",
    "    else:\n",
    "        print(\"Invalid credentials. Please try again.\")\n",
    "        input_username = str(input(\"Please enter your username:\"))\n",
    "        if '@' not in input_username:\n",
    "            print(\"invalid email address\")\n",
    "        else:\n",
    "            input_password = str(input(\"Please enter your password\"))\n",
    "            if input_username == username and input_password == password:\n",
    "                print(\"welcome\")\n",
    "            else:\n",
    "                print(\"Invalid credentials\") \n",
    "    \n"
   ]
  },
  {
   "cell_type": "markdown",
   "id": "6150c6fe-f29d-40f9-bc77-94812da81460",
   "metadata": {},
   "source": [
    "#### Question N0.9"
   ]
  },
  {
   "cell_type": "code",
   "execution_count": 25,
   "id": "bcd33bf2-c7c8-4de8-8372-6c9970bdf8a5",
   "metadata": {},
   "outputs": [
    {
     "name": "stdout",
     "output_type": "stream",
     "text": [
      "12.5\n",
      "45.8\n",
      "33.1\n",
      "{'Ali': 85, 'Saima': 90, 'Kabir': 78, 'Ahmed': 92}\n",
      "{'Ali': 85, 'Saima': 90, 'Kabir': 82, 'Ahmed': 92}\n"
     ]
    }
   ],
   "source": [
    "coordinates = (12.5,45.8,33.1)\n",
    "#(a)\n",
    "x,y,z = coordinates\n",
    "print(x)\n",
    "print(y)\n",
    "print(z)\n",
    "# Tuples are used inplace of list for fixed datasets as tuples are immutable whereas lists are mutable.\n",
    "\n",
    "#(b)\n",
    "student_scores = {'Ali':85,'Saima':90,'Kabir':78}\n",
    "student_scores.update({'Ahmed':92})\n",
    "print(student_scores)\n",
    "student_scores.update({'Kabir':82})\n",
    "print(student_scores)"
   ]
  },
  {
   "cell_type": "code",
   "execution_count": null,
   "id": "ea11215a-fb88-4fcf-9e16-c91a34df42f5",
   "metadata": {},
   "outputs": [],
   "source": []
  }
 ],
 "metadata": {
  "kernelspec": {
   "display_name": "Python 3 (ipykernel)",
   "language": "python",
   "name": "python3"
  },
  "language_info": {
   "codemirror_mode": {
    "name": "ipython",
    "version": 3
   },
   "file_extension": ".py",
   "mimetype": "text/x-python",
   "name": "python",
   "nbconvert_exporter": "python",
   "pygments_lexer": "ipython3",
   "version": "3.12.4"
  }
 },
 "nbformat": 4,
 "nbformat_minor": 5
}
