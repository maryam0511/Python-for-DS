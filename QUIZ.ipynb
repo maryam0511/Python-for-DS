{
 "cells": [
  {
   "cell_type": "code",
   "execution_count": 75,
   "id": "f0116176-5cb0-4b8e-83ef-534d38871e8b",
   "metadata": {},
   "outputs": [],
   "source": [
    "#maryam wajahat"
   ]
  },
  {
   "cell_type": "markdown",
   "id": "b3bed741-3d86-4f96-acf8-7ffa11411c6b",
   "metadata": {},
   "source": [
    "### answer1"
   ]
  },
  {
   "cell_type": "code",
   "execution_count": 2,
   "id": "6004fc5e-a7bb-472b-892f-14aef528289f",
   "metadata": {},
   "outputs": [],
   "source": [
    "# b)5"
   ]
  },
  {
   "cell_type": "markdown",
   "id": "d362f15f-9797-4e65-b452-3633a57d91e8",
   "metadata": {},
   "source": [
    "### answer 2"
   ]
  },
  {
   "cell_type": "code",
   "execution_count": 4,
   "id": "6ce16101-43ad-41ff-843a-21ad4f9dcdd1",
   "metadata": {},
   "outputs": [],
   "source": [
    "# b) tuples can contain duplicate elements"
   ]
  },
  {
   "cell_type": "markdown",
   "id": "f7e6b179-317e-4411-b471-b21f27168d39",
   "metadata": {},
   "source": [
    "### answer3"
   ]
  },
  {
   "cell_type": "code",
   "execution_count": 6,
   "id": "1174fdc2-1a39-4eab-8e3f-874caa799274",
   "metadata": {},
   "outputs": [],
   "source": [
    "# b)4"
   ]
  },
  {
   "cell_type": "markdown",
   "id": "8524be9b-e2a0-45bc-8fc3-776eceb5c504",
   "metadata": {},
   "source": [
    "### answer 4"
   ]
  },
  {
   "cell_type": "code",
   "execution_count": 8,
   "id": "a1224d54-e75f-4e77-ba08-e4825d17ff41",
   "metadata": {},
   "outputs": [],
   "source": [
    "# b)hello"
   ]
  },
  {
   "cell_type": "markdown",
   "id": "fd6954c0-bb7e-434a-a7b7-6ad2186e322c",
   "metadata": {},
   "source": [
    "### answer 5"
   ]
  },
  {
   "cell_type": "code",
   "execution_count": 10,
   "id": "a0475c0f-38af-4958-8b21-0f0cfdde365f",
   "metadata": {},
   "outputs": [],
   "source": [
    "# a) lists are faster than tuples"
   ]
  },
  {
   "cell_type": "markdown",
   "id": "dab83876-eb63-4abf-89dd-f7c9646c5379",
   "metadata": {},
   "source": [
    "### answer 6"
   ]
  },
  {
   "cell_type": "code",
   "execution_count": 12,
   "id": "7020da05-653f-4d0a-b883-3e5da2e0567b",
   "metadata": {},
   "outputs": [],
   "source": [
    "# c) {1,2,3,4,5}"
   ]
  },
  {
   "cell_type": "markdown",
   "id": "ff50953d-9512-4e0e-a3a0-c7a46aa36342",
   "metadata": {},
   "source": [
    "### answer 7"
   ]
  },
  {
   "cell_type": "code",
   "execution_count": 14,
   "id": "46002ffe-da04-44a3-a015-ed7ce970334d",
   "metadata": {},
   "outputs": [],
   "source": [
    "# Mutable data types: Mutabe data types are those which can be changed or modified after creation like lists and sets.\n",
    "# Immutable data types: Immutable data types are those which cannot be modified once created like tuples."
   ]
  },
  {
   "cell_type": "markdown",
   "id": "924ffb0f-62f7-4014-b8c4-3f2bf16cceb4",
   "metadata": {},
   "source": [
    "### answer 8"
   ]
  },
  {
   "cell_type": "code",
   "execution_count": 16,
   "id": "0fe8a872-d4e1-461f-8680-2a267d37b0a4",
   "metadata": {},
   "outputs": [
    {
     "name": "stdout",
     "output_type": "stream",
     "text": [
      "[19, 19, 20, 22, 24, 24, 24, 25, 25, 26]\n"
     ]
    }
   ],
   "source": [
    "ages = [19, 22, 19, 24, 20, 25, 26, 24, 25, 24]\n",
    "#sorting\n",
    "ages.sort()\n",
    "print(ages)"
   ]
  },
  {
   "cell_type": "code",
   "execution_count": 46,
   "id": "2ddf21f9-c90b-47d3-968f-786f21802e1d",
   "metadata": {},
   "outputs": [
    {
     "name": "stdout",
     "output_type": "stream",
     "text": [
      "19\n",
      "26\n"
     ]
    }
   ],
   "source": [
    "#min and max age\n",
    "print(min(ages))\n",
    "print(max(ages))"
   ]
  },
  {
   "cell_type": "code",
   "execution_count": 18,
   "id": "bb25d86e-91ca-4fcf-bb65-a2c943ba0a40",
   "metadata": {},
   "outputs": [
    {
     "name": "stdout",
     "output_type": "stream",
     "text": [
      "[19, 19, 20, 22, 24, 24, 24, 25, 25, 26, 19]\n",
      "[19, 19, 20, 22, 24, 24, 24, 25, 25, 26, 19, 26]\n"
     ]
    }
   ],
   "source": [
    "ages.append(19)\n",
    "print(ages)\n",
    "ages.append(26)\n",
    "print(ages)"
   ]
  },
  {
   "cell_type": "code",
   "execution_count": 24,
   "id": "6b5b4ad5-e95f-4cd2-ae35-43b713025b24",
   "metadata": {},
   "outputs": [
    {
     "name": "stdout",
     "output_type": "stream",
     "text": [
      "24.0\n"
     ]
    }
   ],
   "source": [
    "#median\n",
    "median = (ages[5]+ages[6])/2\n",
    "print(median)"
   ]
  },
  {
   "cell_type": "code",
   "execution_count": 32,
   "id": "03ebd914-9474-4988-b86e-b18d7220f277",
   "metadata": {},
   "outputs": [
    {
     "ename": "TypeError",
     "evalue": "unsupported operand type(s) for /: 'list' and 'int'",
     "output_type": "error",
     "traceback": [
      "\u001b[1;31m---------------------------------------------------------------------------\u001b[0m",
      "\u001b[1;31mTypeError\u001b[0m                                 Traceback (most recent call last)",
      "Cell \u001b[1;32mIn[32], line 2\u001b[0m\n\u001b[0;32m      1\u001b[0m \u001b[38;5;66;03m#average\u001b[39;00m\n\u001b[1;32m----> 2\u001b[0m average \u001b[38;5;241m=\u001b[39m (ages[\u001b[38;5;241m0\u001b[39m: ])\u001b[38;5;241m/\u001b[39m\u001b[38;5;241m12\u001b[39m\n\u001b[0;32m      3\u001b[0m \u001b[38;5;28mprint\u001b[39m(average)\n",
      "\u001b[1;31mTypeError\u001b[0m: unsupported operand type(s) for /: 'list' and 'int'"
     ]
    }
   ],
   "source": [
    "#average\n",
    "average = (ages[0: ])/12\n",
    "print(average)"
   ]
  },
  {
   "cell_type": "code",
   "execution_count": 44,
   "id": "4b8d8f8d-8325-4e37-bf10-8ea20c8d8523",
   "metadata": {},
   "outputs": [
    {
     "name": "stdout",
     "output_type": "stream",
     "text": [
      "7\n"
     ]
    }
   ],
   "source": [
    "#range\n",
    "range = max(ages) - min(ages)\n",
    "print(range)"
   ]
  },
  {
   "cell_type": "markdown",
   "id": "0176032f-e262-498c-a69a-dcd39cff4842",
   "metadata": {},
   "source": [
    "### answer 9"
   ]
  },
  {
   "cell_type": "code",
   "execution_count": 57,
   "id": "5a61efcb-77eb-4696-9088-dbe93d654eb6",
   "metadata": {},
   "outputs": [
    {
     "name": "stdout",
     "output_type": "stream",
     "text": [
      "<class 'tuple'>\n"
     ]
    }
   ],
   "source": [
    "# 1\n",
    "tuple = ()\n",
    "print(type(tuple))"
   ]
  },
  {
   "cell_type": "code",
   "execution_count": 63,
   "id": "099e68b8-bd1d-4cee-9b31-7eb4e667f90a",
   "metadata": {},
   "outputs": [
    {
     "name": "stdout",
     "output_type": "stream",
     "text": [
      "('saif', 'hussain', 'aasia', 'abiha')\n"
     ]
    }
   ],
   "source": [
    "# 2 and 3\n",
    "brothers = ('saif','hussain')\n",
    "sisters = ('aasia','abiha')\n",
    "siblings = brothers+sisters\n",
    "print(siblings)"
   ]
  },
  {
   "cell_type": "code",
   "execution_count": 65,
   "id": "49bbab63-f07b-433a-b549-6515616969cf",
   "metadata": {},
   "outputs": [
    {
     "name": "stdout",
     "output_type": "stream",
     "text": [
      "4\n"
     ]
    }
   ],
   "source": [
    "# 4\n",
    "print(len(siblings))"
   ]
  },
  {
   "cell_type": "code",
   "execution_count": 67,
   "id": "f3203ebf-bc65-4609-ad74-4c849e607fe7",
   "metadata": {},
   "outputs": [
    {
     "name": "stdout",
     "output_type": "stream",
     "text": [
      "('sheema', 'wajahat', 'saif', 'hussain', 'aasia', 'abiha')\n"
     ]
    }
   ],
   "source": [
    "# 5\n",
    "parents = ('sheema','wajahat')\n",
    "family_members = parents+siblings\n",
    "print(family_members)"
   ]
  },
  {
   "cell_type": "code",
   "execution_count": 73,
   "id": "3d9782ca-845e-4765-93f0-b65c3fd4164e",
   "metadata": {},
   "outputs": [
    {
     "name": "stdout",
     "output_type": "stream",
     "text": [
      "sheemawajahat\n",
      "saifhussainaasiaabiha\n"
     ]
    }
   ],
   "source": [
    "# 6\n",
    "parent1,parent2,sibling1,sibling2,sibling3,sibling4 = family_members\n",
    "parents = parent1 + parent2\n",
    "sibling = sibling1 + sibling2 + sibling3 + sibling4\n",
    "print(parents)\n",
    "print(sibling)"
   ]
  },
  {
   "cell_type": "code",
   "execution_count": null,
   "id": "af4c09e9-72b7-497b-a559-23bbb9f96edb",
   "metadata": {},
   "outputs": [],
   "source": []
  }
 ],
 "metadata": {
  "kernelspec": {
   "display_name": "Python 3 (ipykernel)",
   "language": "python",
   "name": "python3"
  },
  "language_info": {
   "codemirror_mode": {
    "name": "ipython",
    "version": 3
   },
   "file_extension": ".py",
   "mimetype": "text/x-python",
   "name": "python",
   "nbconvert_exporter": "python",
   "pygments_lexer": "ipython3",
   "version": "3.12.4"
  }
 },
 "nbformat": 4,
 "nbformat_minor": 5
}
